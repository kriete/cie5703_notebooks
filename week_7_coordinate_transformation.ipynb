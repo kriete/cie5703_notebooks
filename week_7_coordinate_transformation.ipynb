{
 "cells": [
  {
   "cell_type": "markdown",
   "metadata": {},
   "source": [
    "Courtesy to Marc Schleiss for the R code"
   ]
  },
  {
   "cell_type": "markdown",
   "metadata": {},
   "source": [
    "LatLon2SHRAP <- function(lat,lon){\n",
    "\n",
    "    nlat <- length(lat)\n",
    "    nlon <- length(lon)\n",
    "    if(nlat!=nlon){stop(\"lat and lon must have same length\")}\n",
    "\n",
    "    d2rad <- 0.01745329\n",
    "    stlat <- 60.0\n",
    "    earth <- 6371.221\n",
    "    clon  <- 15.0\n",
    "\n",
    "    lat_rad <- lat*d2rad\n",
    "    lon_rad <- lon*d2rad\n",
    "    stlat_rad <- stlat*d2rad\n",
    "    clon_rad <- clon * d2rad\n",
    "\n",
    "    sfactor <- (1 + sin(stlat_rad))/(1+ sin(lat_rad))\n",
    "    R <- earth*cos(lat_rad)*sfactor\n",
    "    x <- R*cos(lon_rad + clon_rad)\n",
    "    y <- R*sin(lon_rad + clon_rad)\n",
    "\n",
    "    XY <- matrix(NA_real_,nrow=nlat,ncol=2)\n",
    "    XY[,1] <- (4*x/4.7625) + 1604\n",
    "    XY[,2] <- (4*y/4.7625) + 6404\n",
    "    return(XY)\n",
    "\n",
    "}"
   ]
  },
  {
   "cell_type": "code",
   "execution_count": 1,
   "metadata": {},
   "outputs": [],
   "source": [
    "import numpy as np\n",
    "import pandas as pd"
   ]
  },
  {
   "cell_type": "code",
   "execution_count": 38,
   "metadata": {},
   "outputs": [],
   "source": [
    "def latLon2shrap(lat, lon):\n",
    "    nlat = len(lat)\n",
    "    nlon = len(lon)\n",
    "    if nlat != nlon:\n",
    "        print('not the same length')\n",
    "    d2rad = 0.01745329\n",
    "    stlat = 60.0\n",
    "    earth = 6371.221\n",
    "    clon = 15.0\n",
    "    \n",
    "    lat_rad = np.deg2rad(lat)\n",
    "    lon_rad = np.deg2rad(lon)\n",
    "    stlat_rad = np.deg2rad(stlat)\n",
    "    clon_rad = np.deg2rad(clon)\n",
    "    \n",
    "    sfactor = (1 + np.sin(stlat_rad))/(1+ np.sin(lat_rad))\n",
    "    R = earth*np.cos(lat_rad)*sfactor\n",
    "    x = R*np.cos(lon_rad + clon_rad)\n",
    "    y = R*np.sin(lon_rad + clon_rad)\n",
    "    \n",
    "    XY = np.zeros((nlat,2))\n",
    "    print(nlat)\n",
    "    print(XY.shape)\n",
    "    print(x)\n",
    "    print(XY[:,1])\n",
    "    XY[:,0] = (4*x/4.7625) + 1604\n",
    "    XY[:,1] = (4*y/4.7625) + 6404\n",
    "    return(XY)"
   ]
  },
  {
   "cell_type": "code",
   "execution_count": 32,
   "metadata": {},
   "outputs": [
    {
     "name": "stdout",
     "output_type": "stream",
     "text": [
      "2\n",
      "(2, 2)\n",
      "[ 2519.54465234  2513.24727786]\n",
      "[ 0.  0.]\n"
     ]
    }
   ],
   "source": [
    "lat = np.array([35.2758333, 35.19277778])\n",
    "lon = np.array([-80.8261111, -80.9358333])\n",
    "xy = latLon2shrap(lat, lon)"
   ]
  },
  {
   "cell_type": "code",
   "execution_count": 39,
   "metadata": {},
   "outputs": [
    {
     "name": "stdout",
     "output_type": "stream",
     "text": [
      "2\n",
      "(2, 2)\n",
      "[ 2519.54354898  2513.24617185]\n",
      "[ 0.  0.]\n",
      "[[ 3720.15206214  1689.60317925]\n",
      " [ 3714.86292649  1677.17800897]]\n"
     ]
    }
   ],
   "source": [
    "lat = np.array([35.2758333, 35.19277778])\n",
    "lon = np.array([-80.8261111, -80.9358333])\n",
    "xy = latLon2shrap(lat, lon)\n",
    "print(xy)"
   ]
  },
  {
   "cell_type": "code",
   "execution_count": 33,
   "metadata": {},
   "outputs": [
    {
     "data": {
      "text/plain": [
       "array([[ 3720.15298884,  1689.60320794],\n",
       "       [ 3714.86385542,  1677.17803824]])"
      ]
     },
     "execution_count": 33,
     "metadata": {},
     "output_type": "execute_result"
    }
   ],
   "source": [
    "xy"
   ]
  },
  {
   "cell_type": "code",
   "execution_count": 36,
   "metadata": {},
   "outputs": [],
   "source": [
    "x = xy[:,0]\n",
    "y = xy[:,1]"
   ]
  },
  {
   "cell_type": "markdown",
   "metadata": {},
   "source": [
    "SHRAP2LatLon <- function(x,y){\n",
    "\n",
    "    ## Input:\n",
    "    ## x,y = vector with S-HRAP coordinates\n",
    "\n",
    "    ## Ouput:\n",
    "    ## LATLON = matrix with lat/lon coordinates\n",
    "\n",
    "    d2rad <- 0.01745329\n",
    "    rad2d <- 57.29577950\n",
    "    stlat <- 60\n",
    "    rad   <- 6371.221\n",
    "    clon  <- 15\n",
    "\n",
    "    Nx <- length(x)\n",
    "    Ny <- length(y)\n",
    "\n",
    "    if(Nx!=Ny){stop(\"shrap_x and shrap_y must have same length\")}\n",
    "\n",
    "    x <- 4.7625*(x - 1604)/4\n",
    "    y <- 4.7625*(y - 6404)/4\n",
    "    R <- sqrt(x*x + y*y)\n",
    "\n",
    "    LATLON <- matrix(NA_real_,nrow=Nx,ncol=2)\n",
    "    LATLON[,1] <- 90 - 2*(rad2d*atan(R/(rad*(1+sin(stlat*d2rad)))))\n",
    "    LATLON[,2] <- atan2(y,x)*rad2d - clon\n",
    "\n",
    "    return(LATLON)\n",
    "\n",
    "}\n"
   ]
  },
  {
   "cell_type": "code",
   "execution_count": null,
   "metadata": {},
   "outputs": [],
   "source": []
  },
  {
   "cell_type": "code",
   "execution_count": 40,
   "metadata": {},
   "outputs": [],
   "source": [
    "def shrap2latlon(x,y):\n",
    "    d2rad = 0.01745329\n",
    "    rad2d = 57.29577950\n",
    "    stlat = 60\n",
    "    rad   = 6371.221\n",
    "    clon  = 15\n",
    "    \n",
    "    Nx = len(x)\n",
    "    Ny = len(y)\n",
    "    \n",
    "    x = 4.7625*(x - 1604)/4\n",
    "    y = 4.7625*(y - 6404)/4\n",
    "    R = np.sqrt(x*x + y*y)\n",
    "    \n",
    "    LATLON = np.zeros((Nx,2))\n",
    "    LATLON[:,0] = 90 - 2*(np.rad2deg(np.arctan(R/(rad*(1+np.sin(np.deg2rad(stlat)))))))\n",
    "    LATLON[:,1] = np.rad2deg(np.arctan2(y,x)) - clon\n",
    "    \n",
    "    return LATLON"
   ]
  },
  {
   "cell_type": "code",
   "execution_count": 37,
   "metadata": {},
   "outputs": [
    {
     "data": {
      "text/plain": [
       "array([[ 35.27582822, -80.82610158],\n",
       "       [ 35.19277271, -80.93582376]])"
      ]
     },
     "execution_count": 37,
     "metadata": {},
     "output_type": "execute_result"
    }
   ],
   "source": [
    "shrap2latlon(x,y)"
   ]
  },
  {
   "cell_type": "code",
   "execution_count": 41,
   "metadata": {},
   "outputs": [
    {
     "data": {
      "text/plain": [
       "array([[ 35.2758301 , -80.8261016 ],\n",
       "       [ 35.1927746 , -80.93582378]])"
      ]
     },
     "execution_count": 41,
     "metadata": {},
     "output_type": "execute_result"
    }
   ],
   "source": [
    "shrap2latlon(x,y)"
   ]
  },
  {
   "cell_type": "code",
   "execution_count": null,
   "metadata": {},
   "outputs": [],
   "source": []
  },
  {
   "cell_type": "code",
   "execution_count": null,
   "metadata": {},
   "outputs": [],
   "source": []
  },
  {
   "cell_type": "code",
   "execution_count": null,
   "metadata": {},
   "outputs": [],
   "source": []
  },
  {
   "cell_type": "code",
   "execution_count": 53,
   "metadata": {},
   "outputs": [],
   "source": [
    "coords = pd.read_csv('./radar_sent/radar_lat_lon.csv', header=None)\n",
    "coords.index = coords.loc[:,0]\n",
    "coords.drop(coords.columns[0], 1, inplace=True)\n",
    "coords.columns= ['lat', 'lon']"
   ]
  },
  {
   "cell_type": "code",
   "execution_count": 54,
   "metadata": {},
   "outputs": [
    {
     "data": {
      "text/html": [
       "<div>\n",
       "<style>\n",
       "    .dataframe thead tr:only-child th {\n",
       "        text-align: right;\n",
       "    }\n",
       "\n",
       "    .dataframe thead th {\n",
       "        text-align: left;\n",
       "    }\n",
       "\n",
       "    .dataframe tbody tr th {\n",
       "        vertical-align: top;\n",
       "    }\n",
       "</style>\n",
       "<table border=\"1\" class=\"dataframe\">\n",
       "  <thead>\n",
       "    <tr style=\"text-align: right;\">\n",
       "      <th></th>\n",
       "      <th>lat</th>\n",
       "      <th>lon</th>\n",
       "    </tr>\n",
       "    <tr>\n",
       "      <th>0</th>\n",
       "      <th></th>\n",
       "      <th></th>\n",
       "    </tr>\n",
       "  </thead>\n",
       "  <tbody>\n",
       "    <tr>\n",
       "      <th>0</th>\n",
       "      <td>36.006</td>\n",
       "      <td>-81.297</td>\n",
       "    </tr>\n",
       "    <tr>\n",
       "      <th>1</th>\n",
       "      <td>36.002</td>\n",
       "      <td>-81.287</td>\n",
       "    </tr>\n",
       "    <tr>\n",
       "      <th>2</th>\n",
       "      <td>35.999</td>\n",
       "      <td>-81.276</td>\n",
       "    </tr>\n",
       "    <tr>\n",
       "      <th>3</th>\n",
       "      <td>35.995</td>\n",
       "      <td>-81.266</td>\n",
       "    </tr>\n",
       "    <tr>\n",
       "      <th>4</th>\n",
       "      <td>35.991</td>\n",
       "      <td>-81.256</td>\n",
       "    </tr>\n",
       "  </tbody>\n",
       "</table>\n",
       "</div>"
      ],
      "text/plain": [
       "      lat     lon\n",
       "0                \n",
       "0  36.006 -81.297\n",
       "1  36.002 -81.287\n",
       "2  35.999 -81.276\n",
       "3  35.995 -81.266\n",
       "4  35.991 -81.256"
      ]
     },
     "execution_count": 54,
     "metadata": {},
     "output_type": "execute_result"
    }
   ],
   "source": [
    "coords.head()"
   ]
  },
  {
   "cell_type": "code",
   "execution_count": 56,
   "metadata": {},
   "outputs": [
    {
     "name": "stdout",
     "output_type": "stream",
     "text": [
      "19600\n",
      "(19600, 2)\n",
      "[ 2434.84496979  2436.02309764  2437.2455429  ...,  2597.91387578\n",
      "  2599.13044411  2600.34710995]\n",
      "[ 0.  0.  0. ...,  0.  0.  0.]\n"
     ]
    }
   ],
   "source": [
    "xy_coords = latLon2shrap(np.array(coords.lat), np.array(coords.lon))"
   ]
  },
  {
   "cell_type": "code",
   "execution_count": 59,
   "metadata": {
    "scrolled": true
   },
   "outputs": [],
   "source": [
    "new_coords = pd.DataFrame(xy_coords)"
   ]
  },
  {
   "cell_type": "code",
   "execution_count": 60,
   "metadata": {},
   "outputs": [],
   "source": [
    "new_coords.to_csv('radar_xy.csv', header=None, index=None)"
   ]
  },
  {
   "cell_type": "code",
   "execution_count": 64,
   "metadata": {},
   "outputs": [],
   "source": [
    "coords = pd.read_csv('./radar_sent/gauge_lat_lon.csv', header=None)"
   ]
  },
  {
   "cell_type": "code",
   "execution_count": 66,
   "metadata": {},
   "outputs": [
    {
     "data": {
      "text/html": [
       "<div>\n",
       "<style>\n",
       "    .dataframe thead tr:only-child th {\n",
       "        text-align: right;\n",
       "    }\n",
       "\n",
       "    .dataframe thead th {\n",
       "        text-align: left;\n",
       "    }\n",
       "\n",
       "    .dataframe tbody tr th {\n",
       "        vertical-align: top;\n",
       "    }\n",
       "</style>\n",
       "<table border=\"1\" class=\"dataframe\">\n",
       "  <thead>\n",
       "    <tr style=\"text-align: right;\">\n",
       "      <th></th>\n",
       "      <th>lat</th>\n",
       "      <th>lon</th>\n",
       "    </tr>\n",
       "  </thead>\n",
       "  <tbody>\n",
       "    <tr>\n",
       "      <th>0</th>\n",
       "      <td>35.302925</td>\n",
       "      <td>-80.749975</td>\n",
       "    </tr>\n",
       "    <tr>\n",
       "      <th>1</th>\n",
       "      <td>35.331667</td>\n",
       "      <td>-80.826389</td>\n",
       "    </tr>\n",
       "    <tr>\n",
       "      <th>2</th>\n",
       "      <td>35.275833</td>\n",
       "      <td>-80.826111</td>\n",
       "    </tr>\n",
       "    <tr>\n",
       "      <th>3</th>\n",
       "      <td>35.192778</td>\n",
       "      <td>-80.935833</td>\n",
       "    </tr>\n",
       "    <tr>\n",
       "      <th>4</th>\n",
       "      <td>35.278333</td>\n",
       "      <td>-80.892778</td>\n",
       "    </tr>\n",
       "  </tbody>\n",
       "</table>\n",
       "</div>"
      ],
      "text/plain": [
       "         lat        lon\n",
       "0  35.302925 -80.749975\n",
       "1  35.331667 -80.826389\n",
       "2  35.275833 -80.826111\n",
       "3  35.192778 -80.935833\n",
       "4  35.278333 -80.892778"
      ]
     },
     "execution_count": 66,
     "metadata": {},
     "output_type": "execute_result"
    }
   ],
   "source": [
    "coords.columns= ['lat', 'lon']\n",
    "coords.head()"
   ]
  },
  {
   "cell_type": "code",
   "execution_count": 67,
   "metadata": {},
   "outputs": [
    {
     "name": "stdout",
     "output_type": "stream",
     "text": [
      "71\n",
      "(71, 2)\n",
      "[ 2525.53669249  2516.5096638   2519.54354898  2513.24617185  2512.87641631\n",
      "  2526.52507043  2537.32360791  2532.56624403  2526.59178736  2532.65905778\n",
      "  2516.30245137  2524.76303188  2520.30095136  2508.9983299   2521.14185734\n",
      "  2530.80965144  2534.43049563  2509.66229547  2522.20733252  2527.74109382\n",
      "  2513.3825341   2513.89631686  2536.07965145  2504.51580267  2508.83225196\n",
      "  2515.51318671  2523.95061625  2519.56380318  2550.1736429   2540.33964027\n",
      "  2532.178324    2542.43416992  2528.9405297   2497.86102658  2500.68290068\n",
      "  2511.34825971  2506.78394515  2512.03298502  2542.48401226  2491.56459134\n",
      "  2504.13575372  2502.01455016  2510.28029964  2511.26806914  2508.02793104\n",
      "  2520.28034503  2529.04117177  2531.12620018  2513.50646598  2518.01881609\n",
      "  2524.67069541  2499.31938678  2514.18880971  2521.43369925  2522.0041828\n",
      "  2525.26252482  2537.89105402  2521.41158081  2515.73771124  2519.98083834\n",
      "  2506.34227925  2504.53644005  2519.94416075  2513.06485841  2534.21768117\n",
      "  2525.67523797  2544.42110717  2543.84677874  2538.43285811  2534.50856502\n",
      "  2524.75707597]\n",
      "[ 0.  0.  0.  0.  0.  0.  0.  0.  0.  0.  0.  0.  0.  0.  0.  0.  0.  0.\n",
      "  0.  0.  0.  0.  0.  0.  0.  0.  0.  0.  0.  0.  0.  0.  0.  0.  0.  0.\n",
      "  0.  0.  0.  0.  0.  0.  0.  0.  0.  0.  0.  0.  0.  0.  0.  0.  0.  0.\n",
      "  0.  0.  0.  0.  0.  0.  0.  0.  0.  0.  0.  0.  0.  0.  0.  0.  0.]\n"
     ]
    }
   ],
   "source": [
    "xy_coords = latLon2shrap(np.array(coords.lat), np.array(coords.lon))"
   ]
  },
  {
   "cell_type": "code",
   "execution_count": 69,
   "metadata": {},
   "outputs": [],
   "source": [
    "new_coords = pd.DataFrame(xy_coords)\n",
    "new_coords.to_csv('gauge_xy.csv', header=None, index=None)"
   ]
  },
  {
   "cell_type": "code",
   "execution_count": 70,
   "metadata": {},
   "outputs": [
    {
     "data": {
      "text/html": [
       "<div>\n",
       "<style>\n",
       "    .dataframe thead tr:only-child th {\n",
       "        text-align: right;\n",
       "    }\n",
       "\n",
       "    .dataframe thead th {\n",
       "        text-align: left;\n",
       "    }\n",
       "\n",
       "    .dataframe tbody tr th {\n",
       "        vertical-align: top;\n",
       "    }\n",
       "</style>\n",
       "<table border=\"1\" class=\"dataframe\">\n",
       "  <thead>\n",
       "    <tr style=\"text-align: right;\">\n",
       "      <th></th>\n",
       "      <th>0</th>\n",
       "      <th>1</th>\n",
       "    </tr>\n",
       "  </thead>\n",
       "  <tbody>\n",
       "    <tr>\n",
       "      <th>0</th>\n",
       "      <td>3725.185673</td>\n",
       "      <td>1695.147902</td>\n",
       "    </tr>\n",
       "    <tr>\n",
       "      <th>1</th>\n",
       "      <td>3717.603917</td>\n",
       "      <td>1695.218869</td>\n",
       "    </tr>\n",
       "    <tr>\n",
       "      <th>2</th>\n",
       "      <td>3720.152062</td>\n",
       "      <td>1689.603179</td>\n",
       "    </tr>\n",
       "    <tr>\n",
       "      <th>3</th>\n",
       "      <td>3714.862926</td>\n",
       "      <td>1677.178009</td>\n",
       "    </tr>\n",
       "    <tr>\n",
       "      <th>4</th>\n",
       "      <td>3714.552371</td>\n",
       "      <td>1687.396215</td>\n",
       "    </tr>\n",
       "  </tbody>\n",
       "</table>\n",
       "</div>"
      ],
      "text/plain": [
       "             0            1\n",
       "0  3725.185673  1695.147902\n",
       "1  3717.603917  1695.218869\n",
       "2  3720.152062  1689.603179\n",
       "3  3714.862926  1677.178009\n",
       "4  3714.552371  1687.396215"
      ]
     },
     "execution_count": 70,
     "metadata": {},
     "output_type": "execute_result"
    }
   ],
   "source": [
    "new_coords.head()"
   ]
  },
  {
   "cell_type": "code",
   "execution_count": null,
   "metadata": {},
   "outputs": [],
   "source": []
  }
 ],
 "metadata": {
  "kernelspec": {
   "display_name": "Python 3",
   "language": "python",
   "name": "python3"
  },
  "language_info": {
   "codemirror_mode": {
    "name": "ipython",
    "version": 3
   },
   "file_extension": ".py",
   "mimetype": "text/x-python",
   "name": "python",
   "nbconvert_exporter": "python",
   "pygments_lexer": "ipython3",
   "version": "3.5.3"
  }
 },
 "nbformat": 4,
 "nbformat_minor": 2
}
