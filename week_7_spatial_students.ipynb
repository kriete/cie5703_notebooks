{
 "cells": [
  {
   "cell_type": "markdown",
   "metadata": {},
   "source": [
    "#### This is a python / R implementation for spatial analysis of radar rainfall fields.  All courtesy for the R code implementation goes to Marc Schleiss"
   ]
  },
  {
   "cell_type": "markdown",
   "metadata": {},
   "source": [
    "# Notes before running:"
   ]
  },
  {
   "cell_type": "markdown",
   "metadata": {},
   "source": [
    "o) make sure to have installed R properly\n",
    "\n",
    "o) install the python library rpy2\n",
    "\n",
    "- linux/mac users should be fine by just pip install rpy2 \n",
    "- for windows, consider using anaconda and install rpy2\n",
    "\n",
    "o) install the R libraries sp, gstat and intamap inside the R environment (best as sudo/adminstrator):\n",
    "\n",
    "```\n",
    "install.packages(\"sp\")\n",
    "install.packages(\"gstat\")\n",
    "install.packages(\"intamap\")\n",
    "```"
   ]
  },
  {
   "cell_type": "markdown",
   "metadata": {},
   "source": [
    "###### To plot data in R:\n",
    "```\n",
    "png(\"myvariogram_map_24h.png\",height=600,width=600)\n",
    "print(plot(myisomap))\n",
    "dev.off()\n",
    "```"
   ]
  },
  {
   "cell_type": "markdown",
   "metadata": {},
   "source": [
    "## Import python / R interface packages"
   ]
  },
  {
   "cell_type": "code",
   "execution_count": null,
   "metadata": {},
   "outputs": [],
   "source": [
    "from rpy2.robjects.packages import importr\n",
    "from rpy2.robjects import r\n",
    "import pandas as pd\n",
    "import numpy as np\n",
    "import matplotlib.pyplot as plt\n",
    "\n",
    "%matplotlib inline"
   ]
  },
  {
   "cell_type": "markdown",
   "metadata": {},
   "source": [
    "## Inside the R environment import these geospatial packages"
   ]
  },
  {
   "cell_type": "code",
   "execution_count": null,
   "metadata": {},
   "outputs": [],
   "source": [
    "sp = importr('sp')\n",
    "gstat = importr('gstat')\n",
    "intamap = importr('intamap')"
   ]
  },
  {
   "cell_type": "markdown",
   "metadata": {},
   "source": [
    "#### Set colors within the R environment"
   ]
  },
  {
   "cell_type": "code",
   "execution_count": null,
   "metadata": {},
   "outputs": [],
   "source": [
    "r('jet.colors  <- c(\"#00007F\",\"blue\",\"#007FFF\",\"cyan\",\"#7FFF7F\",\"yellow\",\"#FF7F00\",\"red\",\"#7F0000\")')\n",
    "r('col.palette <- colorRampPalette(jet.colors)')"
   ]
  },
  {
   "cell_type": "markdown",
   "metadata": {},
   "source": [
    "## Read pandas coordinates of the radar grid"
   ]
  },
  {
   "cell_type": "code",
   "execution_count": null,
   "metadata": {},
   "outputs": [],
   "source": [
    "coords = pd.read_csv('./radar_xy.csv', header=None)\n",
    "coords.columns = ['x', 'y']\n",
    "coords.head()"
   ]
  },
  {
   "cell_type": "markdown",
   "metadata": {},
   "source": [
    "### Read the 24h dataset and (re)arange the pandas DataFrame"
   ]
  },
  {
   "cell_type": "code",
   "execution_count": null,
   "metadata": {},
   "outputs": [],
   "source": [
    "rainfall = pd.read_csv('./radar_sent/radar_snap_24h_2011_08_05-00_00.csv', header=None)\n",
    "rainfall = pd.DataFrame(rainfall.iloc[0,5::])\n",
    "rainfall.index = np.arange(0,len(rainfall),1)\n",
    "rainfall.columns = ['R']\n",
    "rainfall['x'] = coords['x']\n",
    "rainfall['y'] = coords['y']\n",
    "rainfall.head()"
   ]
  },
  {
   "cell_type": "markdown",
   "metadata": {},
   "source": [
    "### Activate the pandas to R conversion interface"
   ]
  },
  {
   "cell_type": "code",
   "execution_count": null,
   "metadata": {},
   "outputs": [],
   "source": [
    "from rpy2.robjects import pandas2ri\n",
    "pandas2ri.activate()"
   ]
  },
  {
   "cell_type": "markdown",
   "metadata": {},
   "source": [
    "### Select only gridpoints > 0mm rain (wet mask) and assign it in the R environment"
   ]
  },
  {
   "cell_type": "code",
   "execution_count": null,
   "metadata": {},
   "outputs": [],
   "source": [
    "mask = rainfall.R>0\n",
    "rainfall = rainfall[mask]\n",
    "\n",
    "r_df = pandas2ri.py2ri(rainfall)\n",
    "r.assign('mydata', r_df)"
   ]
  },
  {
   "cell_type": "markdown",
   "metadata": {},
   "source": [
    "### Transform dataset in R to geospatial dataset"
   ]
  },
  {
   "cell_type": "code",
   "execution_count": null,
   "metadata": {},
   "outputs": [],
   "source": [
    "r('''\n",
    "mydata <- data.frame(mydata)\n",
    "coordinates(mydata) <- ~x+y\n",
    "''')"
   ]
  },
  {
   "cell_type": "markdown",
   "metadata": {},
   "source": [
    "#### Plot map with python"
   ]
  },
  {
   "cell_type": "code",
   "execution_count": null,
   "metadata": {},
   "outputs": [],
   "source": [
    "cur_cmap = plt.cm.jet"
   ]
  },
  {
   "cell_type": "code",
   "execution_count": null,
   "metadata": {},
   "outputs": [],
   "source": [
    "plt.scatter(rainfall['x'], rainfall['y'], marker='.', c=rainfall['R'], cmap=cur_cmap)\n",
    "plt.colorbar()"
   ]
  },
  {
   "cell_type": "markdown",
   "metadata": {},
   "source": [
    "### Bypass plot R map"
   ]
  },
  {
   "cell_type": "code",
   "execution_count": null,
   "metadata": {},
   "outputs": [],
   "source": [
    "r('''\n",
    "RAD24 <- read.table(\"./radar_sent/radar_snap_24h_2011_08_05-00_00.csv\",sep=\",\",colClasses=\"numeric\")\n",
    "RAD24 <- as.numeric(as.vector(RAD24))\n",
    "RAD24 <- RAD24[6:length(RAD24)]\n",
    "png(\"map_24h.png\",height=900,width=900)\n",
    "ncuts <- 20\n",
    "cuts <- seq(min(RAD24,na.rm=TRUE),max(RAD24,na.rm=TRUE),length=ncuts)\n",
    "print(spplot(mydata[\"R\"],xlab=\"East [m]\",ylab=\"North [m]\",key.space=\"right\",cuts=cuts,region=TRUE,col.regions=col.palette(ncuts),main=\"Rainfall [mm]\",scales=list(draw=TRUE)))\n",
    "dev.off()\n",
    "''')"
   ]
  },
  {
   "cell_type": "markdown",
   "metadata": {},
   "source": [
    "### Generate a isotropic variogram (2km separated lags, max 100km)"
   ]
  },
  {
   "cell_type": "code",
   "execution_count": null,
   "metadata": {},
   "outputs": [],
   "source": [
    "p_myiso = r('myiso <- variogram(R~1,mydata,width=2,cutoff=100)')"
   ]
  },
  {
   "cell_type": "code",
   "execution_count": null,
   "metadata": {},
   "outputs": [],
   "source": [
    "p_myiso.head()"
   ]
  },
  {
   "cell_type": "code",
   "execution_count": null,
   "metadata": {},
   "outputs": [],
   "source": [
    "plt.plot(p_myiso['dist'], p_myiso['gamma'], '-o')"
   ]
  },
  {
   "cell_type": "markdown",
   "metadata": {},
   "source": [
    "### Generate and save the 2D variogram map"
   ]
  },
  {
   "cell_type": "code",
   "execution_count": null,
   "metadata": {},
   "outputs": [],
   "source": [
    "p_myiso_map = r('myisomap <- variogram(R~1,mydata,width=2,cutoff=50,map=TRUE)')\n",
    "\n",
    "r('''\n",
    "png(\"myvariogram_map_24h.png\",height=600,width=600)\n",
    "print(plot(myisomap))\n",
    "dev.off()\n",
    "''')"
   ]
  },
  {
   "cell_type": "markdown",
   "metadata": {},
   "source": [
    "### Investigate the (an)isotropy of the dataset"
   ]
  },
  {
   "cell_type": "markdown",
   "metadata": {},
   "source": [
    "#### Only possible with up to 1499 values. Therefore we sort the rainfall values descendingly and assign the sorted dataset to the R environment."
   ]
  },
  {
   "cell_type": "code",
   "execution_count": null,
   "metadata": {},
   "outputs": [],
   "source": [
    "rain_sorted = rainfall.sort_values('R', ascending=False)\n",
    "rain_sorted = rain_sorted.iloc[0:1499]\n",
    "rs_df = pandas2ri.py2ri(rain_sorted)\n",
    "r.assign('data_sorted', rs_df)\n",
    "r('''\n",
    "data_sorted <- data.frame(data_sorted)\n",
    "coordinates(data_sorted) <- ~x+y\n",
    "''')"
   ]
  },
  {
   "cell_type": "markdown",
   "metadata": {},
   "source": [
    "#### Returns the direction of the minumum variablity clockwise from North and the anisotropy ratio"
   ]
  },
  {
   "cell_type": "code",
   "execution_count": null,
   "metadata": {},
   "outputs": [],
   "source": [
    "r('''\n",
    "hat.anis <- estimateAnisotropy(data_sorted,\"R\")\n",
    "anis <- c(90-hat.anis$direction,1/hat.anis$ratio)\n",
    "''')"
   ]
  },
  {
   "cell_type": "markdown",
   "metadata": {},
   "source": [
    "### Compute directional variograms with anisotropy direction"
   ]
  },
  {
   "cell_type": "code",
   "execution_count": null,
   "metadata": {},
   "outputs": [],
   "source": [
    "dir_var = r('directional_variograms <- variogram(R~1,mydata,width=2,cutoff=100,alpha=c(99.9,189.9),tol.hor=5)')\n",
    "\n",
    "dir_1 = dir_var['dir.hor']==99.9\n",
    "plt.figure()\n",
    "plt.subplot(121)\n",
    "plt.plot(dir_var.dist[dir_1], dir_var.gamma[dir_1])\n",
    "plt.subplot(122)\n",
    "plt.plot(dir_var.dist[~dir_1], dir_var.gamma[~dir_1])"
   ]
  },
  {
   "cell_type": "markdown",
   "metadata": {},
   "source": [
    "### Fit initial spherical variogram to isotropic variogram"
   ]
  },
  {
   "cell_type": "code",
   "execution_count": null,
   "metadata": {},
   "outputs": [],
   "source": [
    "r('initial_vario_sph <- vgm(psill=500,model=\"Sph\",range=40,nugget=0)')\n",
    "sph_fitted = r('fitted_vario_sph <- fit.variogram(myiso,initial_vario_sph)')\n",
    "print(sph_fitted)"
   ]
  },
  {
   "cell_type": "markdown",
   "metadata": {},
   "source": [
    "#### Save image of fitted variogram"
   ]
  },
  {
   "cell_type": "code",
   "execution_count": null,
   "metadata": {},
   "outputs": [],
   "source": [
    "r('''\n",
    "png(\"fitted_isotropic_variogram_sph_24h.png\",height=600,width=900)\n",
    "print(plot(myiso,fitted_vario_sph))\n",
    "dev.off()\n",
    "''')"
   ]
  },
  {
   "cell_type": "markdown",
   "metadata": {},
   "source": [
    "##### fitted range"
   ]
  },
  {
   "cell_type": "code",
   "execution_count": null,
   "metadata": {},
   "outputs": [],
   "source": [
    "r('range  <- fitted_vario_sph$range[2]')"
   ]
  },
  {
   "cell_type": "markdown",
   "metadata": {},
   "source": [
    "##### fitted nugget"
   ]
  },
  {
   "cell_type": "code",
   "execution_count": null,
   "metadata": {},
   "outputs": [],
   "source": [
    "r('nugget <- fitted_vario_sph$psill[1]')"
   ]
  },
  {
   "cell_type": "markdown",
   "metadata": {},
   "source": [
    "##### fitted sill"
   ]
  },
  {
   "cell_type": "code",
   "execution_count": null,
   "metadata": {},
   "outputs": [],
   "source": [
    "r('sill   <- sum(fitted_vario_sph$psill)')"
   ]
  },
  {
   "cell_type": "markdown",
   "metadata": {},
   "source": [
    "##### sum of squared errors"
   ]
  },
  {
   "cell_type": "code",
   "execution_count": null,
   "metadata": {},
   "outputs": [],
   "source": [
    "r('SSErr_sph <- attributes(fitted_vario_sph)$SSErr')"
   ]
  },
  {
   "cell_type": "markdown",
   "metadata": {},
   "source": [
    "### Fit exponential model"
   ]
  },
  {
   "cell_type": "code",
   "execution_count": null,
   "metadata": {},
   "outputs": [],
   "source": [
    "r('initial_vario_exp <- vgm(psill=500,model=\"Exp\",range=40/3,nugget=0)')\n",
    "exp_fitted = r('fitted_vario_exp <- fit.variogram(myiso,initial_vario_exp)')"
   ]
  },
  {
   "cell_type": "markdown",
   "metadata": {},
   "source": [
    "##### sum of squared errors"
   ]
  },
  {
   "cell_type": "code",
   "execution_count": null,
   "metadata": {},
   "outputs": [],
   "source": [
    "r('SSErr_exp  <- attributes(fitted_vario_exp)$SSErr')"
   ]
  },
  {
   "cell_type": "markdown",
   "metadata": {},
   "source": [
    "#### Save image"
   ]
  },
  {
   "cell_type": "code",
   "execution_count": null,
   "metadata": {},
   "outputs": [],
   "source": [
    "r('''\n",
    "png(\"fitted_isotropic_variogram_exp_24h.png\",height=600,width=900)\n",
    "print(plot(myiso,fitted_vario_exp))\n",
    "dev.off()\n",
    "''')"
   ]
  }
 ],
 "metadata": {
  "kernelspec": {
   "display_name": "Python 3",
   "language": "python",
   "name": "python3"
  },
  "language_info": {
   "codemirror_mode": {
    "name": "ipython",
    "version": 3
   },
   "file_extension": ".py",
   "mimetype": "text/x-python",
   "name": "python",
   "nbconvert_exporter": "python",
   "pygments_lexer": "ipython3",
   "version": "3.5.3"
  }
 },
 "nbformat": 4,
 "nbformat_minor": 2
}
