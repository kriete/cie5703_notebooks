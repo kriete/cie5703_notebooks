{
 "cells": [
  {
   "cell_type": "markdown",
   "metadata": {},
   "source": [
    "#### This is a python / R implementation for spatial analysis of radar rainfall fields.  All courtesy for the R code implementation goes to Marc Schleiss"
   ]
  },
  {
   "cell_type": "markdown",
   "metadata": {},
   "source": [
    "# Notes before running:"
   ]
  },
  {
   "cell_type": "markdown",
   "metadata": {},
   "source": [
    "o) make sure to have installed R properly\n",
    "\n",
    "o) install the python library rpy2\n",
    "\n",
    "- linux/mac users should be fine by just pip install rpy2 \n",
    "- for windows, consider using anaconda and install rpy2\n",
    "\n",
    "o) install the R libraries sp, gstat and intamap inside the R environment (best as sudo/adminstrator):\n",
    "\n",
    "```\n",
    "install.packages(\"sp\")\n",
    "install.packages(\"gstat\")\n",
    "install.packages(\"intamap\")\n",
    "```"
   ]
  },
  {
   "cell_type": "markdown",
   "metadata": {},
   "source": [
    "###### To plot data in R:\n",
    "```\n",
    "png(\"myvariogram_map_24h.png\",height=600,width=600)\n",
    "print(plot(myisomap))\n",
    "dev.off()\n",
    "```"
   ]
  },
  {
   "cell_type": "markdown",
   "metadata": {},
   "source": [
    "## Import python / R interface packages"
   ]
  },
  {
   "cell_type": "code",
   "execution_count": 1,
   "metadata": {},
   "outputs": [],
   "source": [
    "from rpy2.robjects.packages import importr\n",
    "from rpy2.robjects import r\n",
    "import pandas as pd\n",
    "import numpy as np\n",
    "import matplotlib.pyplot as plt\n",
    "\n",
    "%matplotlib inline"
   ]
  },
  {
   "cell_type": "markdown",
   "metadata": {},
   "source": [
    "## Inside the R environment import these geospatial packages"
   ]
  },
  {
   "cell_type": "code",
   "execution_count": 2,
   "metadata": {},
   "outputs": [],
   "source": [
    "sp = importr('sp')\n",
    "gstat = importr('gstat')\n",
    "intamap = importr('intamap')"
   ]
  },
  {
   "cell_type": "markdown",
   "metadata": {},
   "source": [
    "#### Set colors within the R environment"
   ]
  },
  {
   "cell_type": "code",
   "execution_count": 3,
   "metadata": {},
   "outputs": [
    {
     "data": {
      "text/plain": [
       "R object with classes: ('function',) mapped to:\n",
       "<SignatureTranslatedFunction - Python:0x7f4c2d1777c8 / R:0x557676b0a648>"
      ]
     },
     "execution_count": 3,
     "metadata": {},
     "output_type": "execute_result"
    }
   ],
   "source": [
    "r('jet.colors  <- c(\"#00007F\",\"blue\",\"#007FFF\",\"cyan\",\"#7FFF7F\",\"yellow\",\"#FF7F00\",\"red\",\"#7F0000\")')\n",
    "r('col.palette <- colorRampPalette(jet.colors)')"
   ]
  },
  {
   "cell_type": "markdown",
   "metadata": {},
   "source": [
    "## Read pandas coordinates of the radar grid"
   ]
  },
  {
   "cell_type": "code",
   "execution_count": 4,
   "metadata": {},
   "outputs": [
    {
     "data": {
      "text/html": [
       "<div>\n",
       "<style>\n",
       "    .dataframe thead tr:only-child th {\n",
       "        text-align: right;\n",
       "    }\n",
       "\n",
       "    .dataframe thead th {\n",
       "        text-align: left;\n",
       "    }\n",
       "\n",
       "    .dataframe tbody tr th {\n",
       "        vertical-align: top;\n",
       "    }\n",
       "</style>\n",
       "<table border=\"1\" class=\"dataframe\">\n",
       "  <thead>\n",
       "    <tr style=\"text-align: right;\">\n",
       "      <th></th>\n",
       "      <th>x</th>\n",
       "      <th>y</th>\n",
       "    </tr>\n",
       "  </thead>\n",
       "  <tbody>\n",
       "    <tr>\n",
       "      <th>0</th>\n",
       "      <td>3649.014148</td>\n",
       "      <td>1745.990418</td>\n",
       "    </tr>\n",
       "    <tr>\n",
       "      <th>1</th>\n",
       "      <td>3650.003652</td>\n",
       "      <td>1745.945446</td>\n",
       "    </tr>\n",
       "    <tr>\n",
       "      <th>2</th>\n",
       "      <td>3651.030377</td>\n",
       "      <td>1746.036880</td>\n",
       "    </tr>\n",
       "    <tr>\n",
       "      <th>3</th>\n",
       "      <td>3652.020031</td>\n",
       "      <td>1745.992300</td>\n",
       "    </tr>\n",
       "    <tr>\n",
       "      <th>4</th>\n",
       "      <td>3653.009769</td>\n",
       "      <td>1745.947910</td>\n",
       "    </tr>\n",
       "  </tbody>\n",
       "</table>\n",
       "</div>"
      ],
      "text/plain": [
       "             x            y\n",
       "0  3649.014148  1745.990418\n",
       "1  3650.003652  1745.945446\n",
       "2  3651.030377  1746.036880\n",
       "3  3652.020031  1745.992300\n",
       "4  3653.009769  1745.947910"
      ]
     },
     "execution_count": 4,
     "metadata": {},
     "output_type": "execute_result"
    }
   ],
   "source": [
    "coords = pd.read_csv('./radar_xy.csv', header=None)\n",
    "coords.columns = ['x', 'y']\n",
    "coords.head()"
   ]
  },
  {
   "cell_type": "markdown",
   "metadata": {},
   "source": [
    "### Read the 24h dataset and (re)arange the pandas DataFrame"
   ]
  },
  {
   "cell_type": "code",
   "execution_count": 5,
   "metadata": {},
   "outputs": [
    {
     "data": {
      "text/html": [
       "<div>\n",
       "<style>\n",
       "    .dataframe thead tr:only-child th {\n",
       "        text-align: right;\n",
       "    }\n",
       "\n",
       "    .dataframe thead th {\n",
       "        text-align: left;\n",
       "    }\n",
       "\n",
       "    .dataframe tbody tr th {\n",
       "        vertical-align: top;\n",
       "    }\n",
       "</style>\n",
       "<table border=\"1\" class=\"dataframe\">\n",
       "  <thead>\n",
       "    <tr style=\"text-align: right;\">\n",
       "      <th></th>\n",
       "      <th>R</th>\n",
       "      <th>x</th>\n",
       "      <th>y</th>\n",
       "    </tr>\n",
       "  </thead>\n",
       "  <tbody>\n",
       "    <tr>\n",
       "      <th>0</th>\n",
       "      <td>3.35</td>\n",
       "      <td>3649.014148</td>\n",
       "      <td>1745.990418</td>\n",
       "    </tr>\n",
       "    <tr>\n",
       "      <th>1</th>\n",
       "      <td>5.65</td>\n",
       "      <td>3650.003652</td>\n",
       "      <td>1745.945446</td>\n",
       "    </tr>\n",
       "    <tr>\n",
       "      <th>2</th>\n",
       "      <td>5.51</td>\n",
       "      <td>3651.030377</td>\n",
       "      <td>1746.036880</td>\n",
       "    </tr>\n",
       "    <tr>\n",
       "      <th>3</th>\n",
       "      <td>6.24</td>\n",
       "      <td>3652.020031</td>\n",
       "      <td>1745.992300</td>\n",
       "    </tr>\n",
       "    <tr>\n",
       "      <th>4</th>\n",
       "      <td>7.64</td>\n",
       "      <td>3653.009769</td>\n",
       "      <td>1745.947910</td>\n",
       "    </tr>\n",
       "  </tbody>\n",
       "</table>\n",
       "</div>"
      ],
      "text/plain": [
       "      R            x            y\n",
       "0  3.35  3649.014148  1745.990418\n",
       "1  5.65  3650.003652  1745.945446\n",
       "2  5.51  3651.030377  1746.036880\n",
       "3  6.24  3652.020031  1745.992300\n",
       "4  7.64  3653.009769  1745.947910"
      ]
     },
     "execution_count": 5,
     "metadata": {},
     "output_type": "execute_result"
    }
   ],
   "source": [
    "rainfall = pd.read_csv('./radar_sent/radar_snap_24h_2011_08_05-00_00.csv', header=None)\n",
    "rainfall = pd.DataFrame(rainfall.iloc[0,5::])\n",
    "rainfall.index = np.arange(0,len(rainfall),1)\n",
    "rainfall.columns = ['R']\n",
    "rainfall['x'] = coords['x']\n",
    "rainfall['y'] = coords['y']\n",
    "rainfall.head()"
   ]
  },
  {
   "cell_type": "markdown",
   "metadata": {},
   "source": [
    "### Activate the pandas to R conversion interface"
   ]
  },
  {
   "cell_type": "code",
   "execution_count": 6,
   "metadata": {},
   "outputs": [],
   "source": [
    "from rpy2.robjects import pandas2ri\n",
    "pandas2ri.activate()"
   ]
  },
  {
   "cell_type": "markdown",
   "metadata": {},
   "source": [
    "### Select only gridpoints > 0mm rain (wet mask) and assign it in the R environment"
   ]
  },
  {
   "cell_type": "code",
   "execution_count": 7,
   "metadata": {},
   "outputs": [
    {
     "data": {
      "text/html": [
       "\n",
       "    <span>R/rpy2 DataFrame (19589 x 3)</span>\n",
       "    <table>\n",
       "      <thead>\n",
       "        <tr>\n",
       "        \n",
       "          <th>R</th>\n",
       "        \n",
       "          <th>x</th>\n",
       "        \n",
       "          <th>y</th>\n",
       "        \n",
       "        </tr>\n",
       "      </thead>\n",
       "      <tbody>\n",
       "      \n",
       "      <tr>\n",
       "      \n",
       "      <td>\n",
       "        3.350000\n",
       "      </td>\n",
       "      \n",
       "      <td>\n",
       "        3649.014148\n",
       "      </td>\n",
       "      \n",
       "      <td>\n",
       "        1745.990418\n",
       "      </td>\n",
       "      \n",
       "      </tr>\n",
       "      \n",
       "      <tr>\n",
       "      \n",
       "      <td>\n",
       "        5.650000\n",
       "      </td>\n",
       "      \n",
       "      <td>\n",
       "        3650.003652\n",
       "      </td>\n",
       "      \n",
       "      <td>\n",
       "        1745.945446\n",
       "      </td>\n",
       "      \n",
       "      </tr>\n",
       "      \n",
       "      <tr>\n",
       "      \n",
       "      <td>\n",
       "        5.510000\n",
       "      </td>\n",
       "      \n",
       "      <td>\n",
       "        3651.030377\n",
       "      </td>\n",
       "      \n",
       "      <td>\n",
       "        1746.036880\n",
       "      </td>\n",
       "      \n",
       "      </tr>\n",
       "      \n",
       "      </tbody>\n",
       "    </table>\n",
       "    "
      ],
      "text/plain": [
       "R object with classes: ('data.frame',) mapped to:\n",
       "<DataFrame - Python:0x7f4c2d166848 / R:0x557676511a98>\n",
       "[FloatVector, FloatVector, FloatVector]\n",
       "  R: <class 'rpy2.robjects.vectors.FloatVector'>\n",
       "  R object with classes: ('numeric',) mapped to:\n",
       "<FloatVector - Python:0x7f4c2c680b48 / R:0x557677b3f380>\n",
       "[3.350000, 5.650000, 5.510000, 6.240000, ..., 44.480000, 41.030000, 50.760000, 45.730000]\n",
       "  x: <class 'rpy2.robjects.vectors.FloatVector'>\n",
       "  R object with classes: ('numeric',) mapped to:\n",
       "<FloatVector - Python:0x7f4c2c673bc8 / R:0x5576779d43c0>\n",
       "[3649.014148, 3650.003652, 3651.030377, 3652.020031, ..., 3784.953201, 3785.974909, 3786.996698, 3788.018570]\n",
       "  y: <class 'rpy2.robjects.vectors.FloatVector'>\n",
       "  R object with classes: ('numeric',) mapped to:\n",
       "<FloatVector - Python:0x7f4c2c679908 / R:0x557677987b00>\n",
       "[1745.990418, 1745.945446, 1746.036880, 1745.992300, ..., 1607.024285, 1606.999366, 1606.974642, 1606.950113]"
      ]
     },
     "execution_count": 7,
     "metadata": {},
     "output_type": "execute_result"
    }
   ],
   "source": [
    "mask = rainfall.R>0\n",
    "rainfall = rainfall[mask]\n",
    "\n",
    "r_df = pandas2ri.py2ri(rainfall)\n",
    "r.assign('mydata', r_df)"
   ]
  },
  {
   "cell_type": "markdown",
   "metadata": {},
   "source": [
    "### Transform dataset in R to geospatial dataset"
   ]
  },
  {
   "cell_type": "code",
   "execution_count": 8,
   "metadata": {},
   "outputs": [
    {
     "data": {
      "text/plain": [
       "R object with classes: ('formula',) mapped to:\n",
       "<RObject - Python:0x7f4c2d1729c8 / R:0x557676921198>"
      ]
     },
     "execution_count": 8,
     "metadata": {},
     "output_type": "execute_result"
    }
   ],
   "source": [
    "r('''\n",
    "mydata <- data.frame(mydata)\n",
    "coordinates(mydata) <- ~x+y\n",
    "''')"
   ]
  },
  {
   "cell_type": "markdown",
   "metadata": {},
   "source": [
    "#### Plot map with python"
   ]
  },
  {
   "cell_type": "code",
   "execution_count": 17,
   "metadata": {},
   "outputs": [],
   "source": [
    "cur_cmap = plt.cm.jet"
   ]
  },
  {
   "cell_type": "code",
   "execution_count": 19,
   "metadata": {
    "collapsed": true
   },
   "outputs": [
    {
     "data": {
      "text/plain": [
       "<matplotlib.colorbar.Colorbar at 0x7f4c18cb4908>"
      ]
     },
     "execution_count": 19,
     "metadata": {},
     "output_type": "execute_result"
    },
    {
     "data": {
      "image/png": "[encoded data removed]",
      "text/plain": [
       "<matplotlib.figure.Figure at 0x7f4c18d3b6a0>"
      ]
     },
     "metadata": {},
     "output_type": "display_data"
    }
   ],
   "source": [
    "plt.scatter(rainfall['x'], rainfall['y'], marker='.', c=rainfall['R'], cmap=cur_cmap)\n",
    "plt.colorbar()"
   ]
  },
  {
   "cell_type": "markdown",
   "metadata": {},
   "source": [
    "### Bypass plot R map"
   ]
  },
  {
   "cell_type": "code",
   "execution_count": 10,
   "metadata": {
    "collapsed": true
   },
   "outputs": [
    {
     "data": {
      "text/plain": [
       "array([1], dtype=int32)"
      ]
     },
     "execution_count": 10,
     "metadata": {},
     "output_type": "execute_result"
    }
   ],
   "source": [
    "r('''\n",
    "RAD24 <- read.table(\"./radar_sent/radar_snap_24h_2011_08_05-00_00.csv\",sep=\",\",colClasses=\"numeric\")\n",
    "RAD24 <- as.numeric(as.vector(RAD24))\n",
    "RAD24 <- RAD24[6:length(RAD24)]\n",
    "png(\"map_24h.png\",height=900,width=900)\n",
    "ncuts <- 20\n",
    "cuts <- seq(min(RAD24,na.rm=TRUE),max(RAD24,na.rm=TRUE),length=ncuts)\n",
    "print(spplot(mydata[\"R\"],xlab=\"East [m]\",ylab=\"North [m]\",key.space=\"right\",cuts=cuts,region=TRUE,col.regions=col.palette(ncuts),main=\"Rainfall [mm]\",scales=list(draw=TRUE)))\n",
    "dev.off()\n",
    "''')"
   ]
  },
  {
   "cell_type": "markdown",
   "metadata": {},
   "source": [
    "### Generate a isotropic variogram (2km separated lags, max 100km)"
   ]
  },
  {
   "cell_type": "code",
   "execution_count": 11,
   "metadata": {},
   "outputs": [],
   "source": [
    "p_myiso = r('myiso <- variogram(R~1,mydata,width=2,cutoff=100)')"
   ]
  },
  {
   "cell_type": "code",
   "execution_count": 12,
   "metadata": {
    "collapsed": true
   },
   "outputs": [
    {
     "data": {
      "text/html": [
       "<div>\n",
       "<style>\n",
       "    .dataframe thead tr:only-child th {\n",
       "        text-align: right;\n",
       "    }\n",
       "\n",
       "    .dataframe thead th {\n",
       "        text-align: left;\n",
       "    }\n",
       "\n",
       "    .dataframe tbody tr th {\n",
       "        vertical-align: top;\n",
       "    }\n",
       "</style>\n",
       "<table border=\"1\" class=\"dataframe\">\n",
       "  <thead>\n",
       "    <tr style=\"text-align: right;\">\n",
       "      <th></th>\n",
       "      <th>np</th>\n",
       "      <th>dist</th>\n",
       "      <th>gamma</th>\n",
       "      <th>dir.hor</th>\n",
       "      <th>dir.ver</th>\n",
       "      <th>id</th>\n",
       "    </tr>\n",
       "  </thead>\n",
       "  <tbody>\n",
       "    <tr>\n",
       "      <th>1</th>\n",
       "      <td>97340.0</td>\n",
       "      <td>1.361011</td>\n",
       "      <td>21.909125</td>\n",
       "      <td>0.0</td>\n",
       "      <td>0.0</td>\n",
       "      <td>var1</td>\n",
       "    </tr>\n",
       "    <tr>\n",
       "      <th>2</th>\n",
       "      <td>342089.0</td>\n",
       "      <td>2.980286</td>\n",
       "      <td>59.871361</td>\n",
       "      <td>0.0</td>\n",
       "      <td>0.0</td>\n",
       "      <td>var1</td>\n",
       "    </tr>\n",
       "    <tr>\n",
       "      <th>3</th>\n",
       "      <td>599568.0</td>\n",
       "      <td>4.979613</td>\n",
       "      <td>105.459092</td>\n",
       "      <td>0.0</td>\n",
       "      <td>0.0</td>\n",
       "      <td>var1</td>\n",
       "    </tr>\n",
       "    <tr>\n",
       "      <th>4</th>\n",
       "      <td>781415.0</td>\n",
       "      <td>6.968800</td>\n",
       "      <td>147.173973</td>\n",
       "      <td>0.0</td>\n",
       "      <td>0.0</td>\n",
       "      <td>var1</td>\n",
       "    </tr>\n",
       "    <tr>\n",
       "      <th>5</th>\n",
       "      <td>1041462.0</td>\n",
       "      <td>8.972910</td>\n",
       "      <td>183.165594</td>\n",
       "      <td>0.0</td>\n",
       "      <td>0.0</td>\n",
       "      <td>var1</td>\n",
       "    </tr>\n",
       "  </tbody>\n",
       "</table>\n",
       "</div>"
      ],
      "text/plain": [
       "          np      dist       gamma  dir.hor  dir.ver    id\n",
       "1    97340.0  1.361011   21.909125      0.0      0.0  var1\n",
       "2   342089.0  2.980286   59.871361      0.0      0.0  var1\n",
       "3   599568.0  4.979613  105.459092      0.0      0.0  var1\n",
       "4   781415.0  6.968800  147.173973      0.0      0.0  var1\n",
       "5  1041462.0  8.972910  183.165594      0.0      0.0  var1"
      ]
     },
     "execution_count": 12,
     "metadata": {},
     "output_type": "execute_result"
    }
   ],
   "source": [
    "p_myiso.head()"
   ]
  },
  {
   "cell_type": "code",
   "execution_count": 13,
   "metadata": {
    "collapsed": true
   },
   "outputs": [
    {
     "data": {
      "text/plain": [
       "[<matplotlib.lines.Line2D at 0x7f849542ccf8>]"
      ]
     },
     "execution_count": 13,
     "metadata": {},
     "output_type": "execute_result"
    },
    {
     "data": {
      "image/png": "[encoded data removed]",
      "text/plain": [
       "<matplotlib.figure.Figure at 0x7f845909acc0>"
      ]
     },
     "metadata": {},
     "output_type": "display_data"
    }
   ],
   "source": [
    "plt.plot(p_myiso['dist'], p_myiso['gamma'], '-o')"
   ]
  },
  {
   "cell_type": "markdown",
   "metadata": {},
   "source": [
    "### Generate and save the 2D variogram map"
   ]
  },
  {
   "cell_type": "code",
   "execution_count": 14,
   "metadata": {},
   "outputs": [
    {
     "data": {
      "text/plain": [
       "array([1], dtype=int32)"
      ]
     },
     "execution_count": 14,
     "metadata": {},
     "output_type": "execute_result"
    }
   ],
   "source": [
    "p_myiso_map = r('myisomap <- variogram(R~1,mydata,width=2,cutoff=50,map=TRUE)')\n",
    "\n",
    "r('''\n",
    "png(\"myvariogram_map_24h.png\",height=600,width=600)\n",
    "print(plot(myisomap))\n",
    "dev.off()\n",
    "''')"
   ]
  },
  {
   "cell_type": "markdown",
   "metadata": {},
   "source": [
    "### Investigate the (an)isotropy of the dataset"
   ]
  },
  {
   "cell_type": "markdown",
   "metadata": {},
   "source": [
    "#### Only possible with up to 1499 values. Therefore we sort the rainfall values descendingly and assign the sorted dataset to the R environment."
   ]
  },
  {
   "cell_type": "code",
   "execution_count": 15,
   "metadata": {},
   "outputs": [
    {
     "data": {
      "text/plain": [
       "R object with classes: ('formula',) mapped to:\n",
       "<RObject - Python:0x7f84456f00c8 / R:0x5555844db630>"
      ]
     },
     "execution_count": 15,
     "metadata": {},
     "output_type": "execute_result"
    }
   ],
   "source": [
    "rain_sorted = rainfall.sort_values('R', ascending=False)\n",
    "rain_sorted = rain_sorted.iloc[0:1499]\n",
    "rs_df = pandas2ri.py2ri(rain_sorted)\n",
    "r.assign('data_sorted', rs_df)\n",
    "r('''\n",
    "data_sorted <- data.frame(data_sorted)\n",
    "coordinates(data_sorted) <- ~x+y\n",
    "''')"
   ]
  },
  {
   "cell_type": "markdown",
   "metadata": {},
   "source": [
    "#### Returns the direction of the minumum variablity clockwise from North and the anisotropy ratio"
   ]
  },
  {
   "cell_type": "code",
   "execution_count": 16,
   "metadata": {},
   "outputs": [
    {
     "data": {
      "text/plain": [
       "array([ 99.95886126,   0.78840942])"
      ]
     },
     "execution_count": 16,
     "metadata": {},
     "output_type": "execute_result"
    }
   ],
   "source": [
    "r('''\n",
    "hat.anis <- estimateAnisotropy(data_sorted,\"R\")\n",
    "anis <- c(90-hat.anis$direction,1/hat.anis$ratio)\n",
    "''')"
   ]
  },
  {
   "cell_type": "markdown",
   "metadata": {},
   "source": [
    "### Compute directional variograms with anisotropy direction"
   ]
  },
  {
   "cell_type": "code",
   "execution_count": 17,
   "metadata": {
    "collapsed": true
   },
   "outputs": [
    {
     "data": {
      "text/plain": [
       "[<matplotlib.lines.Line2D at 0x7f84457bdba8>]"
      ]
     },
     "execution_count": 17,
     "metadata": {},
     "output_type": "execute_result"
    },
    {
     "data": {
      "image/png": "[encoded data removed]",
      "text/plain": [
       "<matplotlib.figure.Figure at 0x7f8459b8a4a8>"
      ]
     },
     "metadata": {},
     "output_type": "display_data"
    }
   ],
   "source": [
    "dir_var = r('directional_variograms <- variogram(R~1,mydata,width=2,cutoff=100,alpha=c(99.9,189.9),tol.hor=5)')\n",
    "\n",
    "dir_1 = dir_var['dir.hor']==99.9\n",
    "plt.figure()\n",
    "plt.subplot(121)\n",
    "plt.plot(dir_var.dist[dir_1], dir_var.gamma[dir_1])\n",
    "plt.subplot(122)\n",
    "plt.plot(dir_var.dist[~dir_1], dir_var.gamma[~dir_1])"
   ]
  },
  {
   "cell_type": "markdown",
   "metadata": {},
   "source": [
    "### Fit initial spherical variogram to isotropic variogram"
   ]
  },
  {
   "cell_type": "code",
   "execution_count": 18,
   "metadata": {
    "collapsed": true
   },
   "outputs": [
    {
     "name": "stdout",
     "output_type": "stream",
     "text": [
      "  model       psill      range  kappa  ang1  ang2  ang3  anis1  anis2\n",
      "1   Nug    0.000000   0.000000    0.0   0.0   0.0   0.0    1.0    1.0\n",
      "2   Sph  669.925474  49.911368    0.5   0.0   0.0   0.0    1.0    1.0\n"
     ]
    }
   ],
   "source": [
    "r('initial_vario_sph <- vgm(psill=500,model=\"Sph\",range=40,nugget=0)')\n",
    "sph_fitted = r('fitted_vario_sph <- fit.variogram(myiso,initial_vario_sph)')\n",
    "print(sph_fitted)"
   ]
  },
  {
   "cell_type": "markdown",
   "metadata": {},
   "source": [
    "#### Save image of fitted variogram"
   ]
  },
  {
   "cell_type": "code",
   "execution_count": 19,
   "metadata": {},
   "outputs": [
    {
     "data": {
      "text/plain": [
       "array([1], dtype=int32)"
      ]
     },
     "execution_count": 19,
     "metadata": {},
     "output_type": "execute_result"
    }
   ],
   "source": [
    "r('''\n",
    "png(\"fitted_isotropic_variogram_sph_24h.png\",height=600,width=900)\n",
    "print(plot(myiso,fitted_vario_sph))\n",
    "dev.off()\n",
    "''')"
   ]
  },
  {
   "cell_type": "markdown",
   "metadata": {},
   "source": [
    "##### fitted range"
   ]
  },
  {
   "cell_type": "code",
   "execution_count": 20,
   "metadata": {
    "collapsed": true
   },
   "outputs": [
    {
     "data": {
      "text/plain": [
       "array([ 49.91136764])"
      ]
     },
     "execution_count": 20,
     "metadata": {},
     "output_type": "execute_result"
    }
   ],
   "source": [
    "r('range  <- fitted_vario_sph$range[2]')"
   ]
  },
  {
   "cell_type": "markdown",
   "metadata": {},
   "source": [
    "##### fitted nugget"
   ]
  },
  {
   "cell_type": "code",
   "execution_count": 21,
   "metadata": {
    "collapsed": true
   },
   "outputs": [
    {
     "data": {
      "text/plain": [
       "array([ 0.])"
      ]
     },
     "execution_count": 21,
     "metadata": {},
     "output_type": "execute_result"
    }
   ],
   "source": [
    "r('nugget <- fitted_vario_sph$psill[1]')"
   ]
  },
  {
   "cell_type": "markdown",
   "metadata": {},
   "source": [
    "##### fitted sill"
   ]
  },
  {
   "cell_type": "code",
   "execution_count": 22,
   "metadata": {
    "collapsed": true
   },
   "outputs": [
    {
     "data": {
      "text/plain": [
       "array([ 669.9254743])"
      ]
     },
     "execution_count": 22,
     "metadata": {},
     "output_type": "execute_result"
    }
   ],
   "source": [
    "r('sill   <- sum(fitted_vario_sph$psill)')"
   ]
  },
  {
   "cell_type": "markdown",
   "metadata": {},
   "source": [
    "##### sum of squared errors"
   ]
  },
  {
   "cell_type": "code",
   "execution_count": 23,
   "metadata": {
    "collapsed": true
   },
   "outputs": [
    {
     "data": {
      "text/plain": [
       "array([  2.04400622e+08])"
      ]
     },
     "execution_count": 23,
     "metadata": {},
     "output_type": "execute_result"
    }
   ],
   "source": [
    "r('SSErr_sph <- attributes(fitted_vario_sph)$SSErr')"
   ]
  },
  {
   "cell_type": "markdown",
   "metadata": {},
   "source": [
    "### Fit exponential model"
   ]
  },
  {
   "cell_type": "code",
   "execution_count": 24,
   "metadata": {},
   "outputs": [],
   "source": [
    "r('initial_vario_exp <- vgm(psill=500,model=\"Exp\",range=40/3,nugget=0)')\n",
    "exp_fitted = r('fitted_vario_exp <- fit.variogram(myiso,initial_vario_exp)')"
   ]
  },
  {
   "cell_type": "markdown",
   "metadata": {},
   "source": [
    "##### sum of squared errors"
   ]
  },
  {
   "cell_type": "code",
   "execution_count": 25,
   "metadata": {
    "collapsed": true
   },
   "outputs": [
    {
     "data": {
      "text/plain": [
       "array([  4.90458050e+08])"
      ]
     },
     "execution_count": 25,
     "metadata": {},
     "output_type": "execute_result"
    }
   ],
   "source": [
    "r('SSErr_exp  <- attributes(fitted_vario_exp)$SSErr')"
   ]
  },
  {
   "cell_type": "markdown",
   "metadata": {},
   "source": [
    "#### Save image"
   ]
  },
  {
   "cell_type": "code",
   "execution_count": 26,
   "metadata": {},
   "outputs": [
    {
     "data": {
      "text/plain": [
       "array([1], dtype=int32)"
      ]
     },
     "execution_count": 26,
     "metadata": {},
     "output_type": "execute_result"
    }
   ],
   "source": [
    "r('''\n",
    "png(\"fitted_isotropic_variogram_exp_24h.png\",height=600,width=900)\n",
    "print(plot(myiso,fitted_vario_exp))\n",
    "dev.off()\n",
    "''')"
   ]
  }
 ],
 "metadata": {
  "kernelspec": {
   "display_name": "Python 3",
   "language": "python",
   "name": "python3"
  },
  "language_info": {
   "codemirror_mode": {
    "name": "ipython",
    "version": 3
   },
   "file_extension": ".py",
   "mimetype": "text/x-python",
   "name": "python",
   "nbconvert_exporter": "python",
   "pygments_lexer": "ipython3",
   "version": "3.5.3"
  }
 },
 "nbformat": 4,
 "nbformat_minor": 2
}
