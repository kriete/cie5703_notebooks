{
 "cells": [
  {
   "cell_type": "code",
   "execution_count": 1,
   "metadata": {},
   "outputs": [],
   "source": [
    "import pandas as pd\n",
    "import matplotlib.pyplot as plt\n",
    "import numpy as np"
   ]
  },
  {
   "cell_type": "code",
   "execution_count": 2,
   "metadata": {},
   "outputs": [],
   "source": [
    "%matplotlib inline"
   ]
  },
  {
   "cell_type": "code",
   "execution_count": 3,
   "metadata": {},
   "outputs": [],
   "source": [
    "charlotte_rainfall = pd.read_csv('./charlotte_2_rg_2011.csv', header = None)"
   ]
  },
  {
   "cell_type": "code",
   "execution_count": 4,
   "metadata": {},
   "outputs": [
    {
     "data": {
      "text/html": [
       "<div>\n",
       "<style>\n",
       "    .dataframe thead tr:only-child th {\n",
       "        text-align: right;\n",
       "    }\n",
       "\n",
       "    .dataframe thead th {\n",
       "        text-align: left;\n",
       "    }\n",
       "\n",
       "    .dataframe tbody tr th {\n",
       "        vertical-align: top;\n",
       "    }\n",
       "</style>\n",
       "<table border=\"1\" class=\"dataframe\">\n",
       "  <thead>\n",
       "    <tr style=\"text-align: right;\">\n",
       "      <th></th>\n",
       "      <th>0</th>\n",
       "      <th>1</th>\n",
       "      <th>2</th>\n",
       "      <th>3</th>\n",
       "      <th>4</th>\n",
       "      <th>5</th>\n",
       "      <th>6</th>\n",
       "    </tr>\n",
       "  </thead>\n",
       "  <tbody>\n",
       "    <tr>\n",
       "      <th>0</th>\n",
       "      <td>2011</td>\n",
       "      <td>1</td>\n",
       "      <td>1</td>\n",
       "      <td>0</td>\n",
       "      <td>0</td>\n",
       "      <td>0.0</td>\n",
       "      <td>0.0</td>\n",
       "    </tr>\n",
       "    <tr>\n",
       "      <th>1</th>\n",
       "      <td>2011</td>\n",
       "      <td>1</td>\n",
       "      <td>1</td>\n",
       "      <td>0</td>\n",
       "      <td>15</td>\n",
       "      <td>0.0</td>\n",
       "      <td>0.0</td>\n",
       "    </tr>\n",
       "    <tr>\n",
       "      <th>2</th>\n",
       "      <td>2011</td>\n",
       "      <td>1</td>\n",
       "      <td>1</td>\n",
       "      <td>0</td>\n",
       "      <td>30</td>\n",
       "      <td>0.0</td>\n",
       "      <td>0.0</td>\n",
       "    </tr>\n",
       "    <tr>\n",
       "      <th>3</th>\n",
       "      <td>2011</td>\n",
       "      <td>1</td>\n",
       "      <td>1</td>\n",
       "      <td>0</td>\n",
       "      <td>45</td>\n",
       "      <td>0.0</td>\n",
       "      <td>0.0</td>\n",
       "    </tr>\n",
       "    <tr>\n",
       "      <th>4</th>\n",
       "      <td>2011</td>\n",
       "      <td>1</td>\n",
       "      <td>1</td>\n",
       "      <td>1</td>\n",
       "      <td>0</td>\n",
       "      <td>0.0</td>\n",
       "      <td>0.0</td>\n",
       "    </tr>\n",
       "  </tbody>\n",
       "</table>\n",
       "</div>"
      ],
      "text/plain": [
       "      0  1  2  3   4    5    6\n",
       "0  2011  1  1  0   0  0.0  0.0\n",
       "1  2011  1  1  0  15  0.0  0.0\n",
       "2  2011  1  1  0  30  0.0  0.0\n",
       "3  2011  1  1  0  45  0.0  0.0\n",
       "4  2011  1  1  1   0  0.0  0.0"
      ]
     },
     "execution_count": 4,
     "metadata": {},
     "output_type": "execute_result"
    }
   ],
   "source": [
    "charlotte_rainfall.head()"
   ]
  },
  {
   "cell_type": "code",
   "execution_count": 5,
   "metadata": {},
   "outputs": [],
   "source": [
    "charlotte_rainfall.columns = [\"year\",\"month\",\"day\", \"hour\", \"min\", \"Rainfall_1\", \"Rainfall_2\"]\n",
    "charlotte_rainfall.loc[:,'dt'] = pd.to_datetime(dict(year=charlotte_rainfall['year'], month=charlotte_rainfall['month'], day=charlotte_rainfall['day'], hour=charlotte_rainfall['hour'], minute=charlotte_rainfall['min']))\n",
    "charlotte_rainfall.index=charlotte_rainfall['dt']"
   ]
  },
  {
   "cell_type": "code",
   "execution_count": 6,
   "metadata": {},
   "outputs": [
    {
     "data": {
      "text/html": [
       "<div>\n",
       "<style>\n",
       "    .dataframe thead tr:only-child th {\n",
       "        text-align: right;\n",
       "    }\n",
       "\n",
       "    .dataframe thead th {\n",
       "        text-align: left;\n",
       "    }\n",
       "\n",
       "    .dataframe tbody tr th {\n",
       "        vertical-align: top;\n",
       "    }\n",
       "</style>\n",
       "<table border=\"1\" class=\"dataframe\">\n",
       "  <thead>\n",
       "    <tr style=\"text-align: right;\">\n",
       "      <th></th>\n",
       "      <th>year</th>\n",
       "      <th>month</th>\n",
       "      <th>day</th>\n",
       "      <th>hour</th>\n",
       "      <th>min</th>\n",
       "      <th>Rainfall_1</th>\n",
       "      <th>Rainfall_2</th>\n",
       "      <th>dt</th>\n",
       "    </tr>\n",
       "    <tr>\n",
       "      <th>dt</th>\n",
       "      <th></th>\n",
       "      <th></th>\n",
       "      <th></th>\n",
       "      <th></th>\n",
       "      <th></th>\n",
       "      <th></th>\n",
       "      <th></th>\n",
       "      <th></th>\n",
       "    </tr>\n",
       "  </thead>\n",
       "  <tbody>\n",
       "    <tr>\n",
       "      <th>2011-01-01 00:00:00</th>\n",
       "      <td>2011</td>\n",
       "      <td>1</td>\n",
       "      <td>1</td>\n",
       "      <td>0</td>\n",
       "      <td>0</td>\n",
       "      <td>0.0</td>\n",
       "      <td>0.0</td>\n",
       "      <td>2011-01-01 00:00:00</td>\n",
       "    </tr>\n",
       "    <tr>\n",
       "      <th>2011-01-01 00:15:00</th>\n",
       "      <td>2011</td>\n",
       "      <td>1</td>\n",
       "      <td>1</td>\n",
       "      <td>0</td>\n",
       "      <td>15</td>\n",
       "      <td>0.0</td>\n",
       "      <td>0.0</td>\n",
       "      <td>2011-01-01 00:15:00</td>\n",
       "    </tr>\n",
       "    <tr>\n",
       "      <th>2011-01-01 00:30:00</th>\n",
       "      <td>2011</td>\n",
       "      <td>1</td>\n",
       "      <td>1</td>\n",
       "      <td>0</td>\n",
       "      <td>30</td>\n",
       "      <td>0.0</td>\n",
       "      <td>0.0</td>\n",
       "      <td>2011-01-01 00:30:00</td>\n",
       "    </tr>\n",
       "    <tr>\n",
       "      <th>2011-01-01 00:45:00</th>\n",
       "      <td>2011</td>\n",
       "      <td>1</td>\n",
       "      <td>1</td>\n",
       "      <td>0</td>\n",
       "      <td>45</td>\n",
       "      <td>0.0</td>\n",
       "      <td>0.0</td>\n",
       "      <td>2011-01-01 00:45:00</td>\n",
       "    </tr>\n",
       "    <tr>\n",
       "      <th>2011-01-01 01:00:00</th>\n",
       "      <td>2011</td>\n",
       "      <td>1</td>\n",
       "      <td>1</td>\n",
       "      <td>1</td>\n",
       "      <td>0</td>\n",
       "      <td>0.0</td>\n",
       "      <td>0.0</td>\n",
       "      <td>2011-01-01 01:00:00</td>\n",
       "    </tr>\n",
       "  </tbody>\n",
       "</table>\n",
       "</div>"
      ],
      "text/plain": [
       "                     year  month  day  hour  min  Rainfall_1  Rainfall_2  \\\n",
       "dt                                                                         \n",
       "2011-01-01 00:00:00  2011      1    1     0    0         0.0         0.0   \n",
       "2011-01-01 00:15:00  2011      1    1     0   15         0.0         0.0   \n",
       "2011-01-01 00:30:00  2011      1    1     0   30         0.0         0.0   \n",
       "2011-01-01 00:45:00  2011      1    1     0   45         0.0         0.0   \n",
       "2011-01-01 01:00:00  2011      1    1     1    0         0.0         0.0   \n",
       "\n",
       "                                     dt  \n",
       "dt                                       \n",
       "2011-01-01 00:00:00 2011-01-01 00:00:00  \n",
       "2011-01-01 00:15:00 2011-01-01 00:15:00  \n",
       "2011-01-01 00:30:00 2011-01-01 00:30:00  \n",
       "2011-01-01 00:45:00 2011-01-01 00:45:00  \n",
       "2011-01-01 01:00:00 2011-01-01 01:00:00  "
      ]
     },
     "execution_count": 6,
     "metadata": {},
     "output_type": "execute_result"
    }
   ],
   "source": [
    "charlotte_rainfall.head()"
   ]
  },
  {
   "cell_type": "code",
   "execution_count": 7,
   "metadata": {},
   "outputs": [],
   "source": [
    "charlotte_rainfall.drop('year', 1, inplace=True)\n",
    "charlotte_rainfall.drop('month', 1, inplace=True)\n",
    "charlotte_rainfall.drop('day', 1, inplace=True)\n",
    "charlotte_rainfall.drop('hour', 1, inplace=True)\n",
    "charlotte_rainfall.drop('min', 1, inplace=True)\n",
    "charlotte_rainfall.drop('dt', 1, inplace=True)"
   ]
  },
  {
   "cell_type": "code",
   "execution_count": 8,
   "metadata": {},
   "outputs": [
    {
     "data": {
      "text/html": [
       "<div>\n",
       "<style>\n",
       "    .dataframe thead tr:only-child th {\n",
       "        text-align: right;\n",
       "    }\n",
       "\n",
       "    .dataframe thead th {\n",
       "        text-align: left;\n",
       "    }\n",
       "\n",
       "    .dataframe tbody tr th {\n",
       "        vertical-align: top;\n",
       "    }\n",
       "</style>\n",
       "<table border=\"1\" class=\"dataframe\">\n",
       "  <thead>\n",
       "    <tr style=\"text-align: right;\">\n",
       "      <th></th>\n",
       "      <th>Rainfall_1</th>\n",
       "      <th>Rainfall_2</th>\n",
       "    </tr>\n",
       "    <tr>\n",
       "      <th>dt</th>\n",
       "      <th></th>\n",
       "      <th></th>\n",
       "    </tr>\n",
       "  </thead>\n",
       "  <tbody>\n",
       "    <tr>\n",
       "      <th>2011-01-01 00:00:00</th>\n",
       "      <td>0.0</td>\n",
       "      <td>0.0</td>\n",
       "    </tr>\n",
       "    <tr>\n",
       "      <th>2011-01-01 00:15:00</th>\n",
       "      <td>0.0</td>\n",
       "      <td>0.0</td>\n",
       "    </tr>\n",
       "    <tr>\n",
       "      <th>2011-01-01 00:30:00</th>\n",
       "      <td>0.0</td>\n",
       "      <td>0.0</td>\n",
       "    </tr>\n",
       "    <tr>\n",
       "      <th>2011-01-01 00:45:00</th>\n",
       "      <td>0.0</td>\n",
       "      <td>0.0</td>\n",
       "    </tr>\n",
       "    <tr>\n",
       "      <th>2011-01-01 01:00:00</th>\n",
       "      <td>0.0</td>\n",
       "      <td>0.0</td>\n",
       "    </tr>\n",
       "  </tbody>\n",
       "</table>\n",
       "</div>"
      ],
      "text/plain": [
       "                     Rainfall_1  Rainfall_2\n",
       "dt                                         \n",
       "2011-01-01 00:00:00         0.0         0.0\n",
       "2011-01-01 00:15:00         0.0         0.0\n",
       "2011-01-01 00:30:00         0.0         0.0\n",
       "2011-01-01 00:45:00         0.0         0.0\n",
       "2011-01-01 01:00:00         0.0         0.0"
      ]
     },
     "execution_count": 8,
     "metadata": {},
     "output_type": "execute_result"
    }
   ],
   "source": [
    "charlotte_rainfall.head()"
   ]
  },
  {
   "cell_type": "code",
   "execution_count": 9,
   "metadata": {},
   "outputs": [],
   "source": [
    "charlotte_rainfall.index.name = 'dt'"
   ]
  },
  {
   "cell_type": "code",
   "execution_count": 10,
   "metadata": {},
   "outputs": [
    {
     "data": {
      "text/html": [
       "<div>\n",
       "<style>\n",
       "    .dataframe thead tr:only-child th {\n",
       "        text-align: right;\n",
       "    }\n",
       "\n",
       "    .dataframe thead th {\n",
       "        text-align: left;\n",
       "    }\n",
       "\n",
       "    .dataframe tbody tr th {\n",
       "        vertical-align: top;\n",
       "    }\n",
       "</style>\n",
       "<table border=\"1\" class=\"dataframe\">\n",
       "  <thead>\n",
       "    <tr style=\"text-align: right;\">\n",
       "      <th></th>\n",
       "      <th>Rainfall_1</th>\n",
       "      <th>Rainfall_2</th>\n",
       "    </tr>\n",
       "    <tr>\n",
       "      <th>dt</th>\n",
       "      <th></th>\n",
       "      <th></th>\n",
       "    </tr>\n",
       "  </thead>\n",
       "  <tbody>\n",
       "    <tr>\n",
       "      <th>2011-01-01 00:00:00</th>\n",
       "      <td>0.0</td>\n",
       "      <td>0.0</td>\n",
       "    </tr>\n",
       "    <tr>\n",
       "      <th>2011-01-01 00:15:00</th>\n",
       "      <td>0.0</td>\n",
       "      <td>0.0</td>\n",
       "    </tr>\n",
       "    <tr>\n",
       "      <th>2011-01-01 00:30:00</th>\n",
       "      <td>0.0</td>\n",
       "      <td>0.0</td>\n",
       "    </tr>\n",
       "    <tr>\n",
       "      <th>2011-01-01 00:45:00</th>\n",
       "      <td>0.0</td>\n",
       "      <td>0.0</td>\n",
       "    </tr>\n",
       "    <tr>\n",
       "      <th>2011-01-01 01:00:00</th>\n",
       "      <td>0.0</td>\n",
       "      <td>0.0</td>\n",
       "    </tr>\n",
       "  </tbody>\n",
       "</table>\n",
       "</div>"
      ],
      "text/plain": [
       "                     Rainfall_1  Rainfall_2\n",
       "dt                                         \n",
       "2011-01-01 00:00:00         0.0         0.0\n",
       "2011-01-01 00:15:00         0.0         0.0\n",
       "2011-01-01 00:30:00         0.0         0.0\n",
       "2011-01-01 00:45:00         0.0         0.0\n",
       "2011-01-01 01:00:00         0.0         0.0"
      ]
     },
     "execution_count": 10,
     "metadata": {},
     "output_type": "execute_result"
    }
   ],
   "source": [
    "charlotte_rainfall.head()"
   ]
  },
  {
   "cell_type": "code",
   "execution_count": 11,
   "metadata": {},
   "outputs": [
    {
     "data": {
      "image/png": "[encoded data removed]",
      "text/plain": [
       "<matplotlib.figure.Figure at 0x7f2d38011c50>"
      ]
     },
     "metadata": {},
     "output_type": "display_data"
    }
   ],
   "source": [
    "charlotte_rainfall[\"Rainfall_1\"] = charlotte_rainfall[\"Rainfall_1\"].replace(-99, np.nan)\n",
    "fig = plt.figure()\n",
    "plt.plot(charlotte_rainfall.index, charlotte_rainfall[\"Rainfall_1\"])\n",
    "plt.ylabel('mm/15min')\n",
    "fig.autofmt_xdate()"
   ]
  },
  {
   "cell_type": "code",
   "execution_count": 12,
   "metadata": {},
   "outputs": [
    {
     "data": {
      "image/png": "[encoded data removed]",
      "text/plain": [
       "<matplotlib.figure.Figure at 0x7f2d0c4c1e48>"
      ]
     },
     "metadata": {},
     "output_type": "display_data"
    }
   ],
   "source": [
    "charlotte_rainfall[\"Rainfall_2\"] = charlotte_rainfall[\"Rainfall_2\"].replace(-99, np.nan)\n",
    "fig = plt.figure()\n",
    "plt.plot(charlotte_rainfall.index, charlotte_rainfall[\"Rainfall_2\"])\n",
    "plt.ylabel('mm/15min')\n",
    "fig.autofmt_xdate()"
   ]
  },
  {
   "cell_type": "code",
   "execution_count": 138,
   "metadata": {},
   "outputs": [],
   "source": [
    "#mask = (charlotte_rainfall.Rainfall_1 == 0) | (charlotte_rainfall.Rainfall_2 == 0)\n",
    "#charlotte_rainfall = charlotte_rainfall.loc[~mask]\n",
    "#mask = (np.isnan(charlotte_rainfall.Rainfall_1)) | (np.isnan(charlotte_rainfall.Rainfall_2))\n",
    "#charlotte_rainfall = charlotte_rainfall.loc[~mask]"
   ]
  },
  {
   "cell_type": "markdown",
   "metadata": {},
   "source": [
    "Resample to 24h accumulation"
   ]
  },
  {
   "cell_type": "code",
   "execution_count": 13,
   "metadata": {},
   "outputs": [],
   "source": [
    "charlotte_24h_rainfall = pd.DataFrame()\n",
    "charlotte_24h_rainfall['mean_rain_1'] = charlotte_rainfall.Rainfall_1.resample('D').mean()\n",
    "charlotte_24h_rainfall['accum_rain_1'] = charlotte_rainfall.Rainfall_1.resample('D').sum()\n",
    "charlotte_24h_rainfall['mean_rain_2'] = charlotte_rainfall.Rainfall_2.resample('D').mean()\n",
    "charlotte_24h_rainfall['accum_rain_2'] = charlotte_rainfall.Rainfall_2.resample('D').sum()"
   ]
  },
  {
   "cell_type": "code",
   "execution_count": 14,
   "metadata": {},
   "outputs": [],
   "source": [
    "mask = (charlotte_24h_rainfall.accum_rain_1 == 0) | (charlotte_24h_rainfall.accum_rain_2 == 0)\n",
    "charlotte_24h_rainfall = charlotte_24h_rainfall.loc[~mask]\n",
    "mask = (np.isnan(charlotte_24h_rainfall.accum_rain_1)) | (np.isnan(charlotte_24h_rainfall.accum_rain_2))\n",
    "charlotte_24h_rainfall = charlotte_24h_rainfall.loc[~mask]"
   ]
  },
  {
   "cell_type": "code",
   "execution_count": 15,
   "metadata": {},
   "outputs": [
    {
     "data": {
      "image/png": "[encoded data removed]",
      "text/plain": [
       "<matplotlib.figure.Figure at 0x7f2d0c243f28>"
      ]
     },
     "metadata": {},
     "output_type": "display_data"
    }
   ],
   "source": [
    "fig = plt.figure()\n",
    "plt.plot(charlotte_24h_rainfall.index, charlotte_24h_rainfall['accum_rain_1'])\n",
    "plt.ylabel('mm/24h')\n",
    "fig.autofmt_xdate()"
   ]
  },
  {
   "cell_type": "code",
   "execution_count": 16,
   "metadata": {},
   "outputs": [
    {
     "data": {
      "image/png": "[encoded data removed]",
      "text/plain": [
       "<matplotlib.figure.Figure at 0x7f2d0c3e9860>"
      ]
     },
     "metadata": {},
     "output_type": "display_data"
    }
   ],
   "source": [
    "fig = plt.figure()\n",
    "plt.plot(charlotte_24h_rainfall.index, charlotte_24h_rainfall['accum_rain_2'])\n",
    "plt.ylabel('mm/24h')\n",
    "fig.autofmt_xdate()"
   ]
  },
  {
   "cell_type": "markdown",
   "metadata": {},
   "source": [
    "Try plotting Semivariogram"
   ]
  },
  {
   "cell_type": "code",
   "execution_count": 156,
   "metadata": {},
   "outputs": [],
   "source": [
    "#charlotte_24h_rainfall['minutes'] = np.arange(0, 24*60*len(charlotte_24h_rainfall.accum_rain_1), 24*60)"
   ]
  },
  {
   "cell_type": "code",
   "execution_count": 80,
   "metadata": {},
   "outputs": [],
   "source": [
    "charlotte_24h_rainfall['seconds'] = charlotte_24h_rainfall.index.astype(np.int64) // 10 ** 9 - ( charlotte_24h_rainfall.index.astype(np.int64)[0] // 10 ** 9)"
   ]
  },
  {
   "cell_type": "markdown",
   "metadata": {},
   "source": [
    "Set seconds from zero to length"
   ]
  },
  {
   "cell_type": "code",
   "execution_count": null,
   "metadata": {},
   "outputs": [],
   "source": []
  },
  {
   "cell_type": "code",
   "execution_count": 18,
   "metadata": {},
   "outputs": [],
   "source": [
    "charlotte_24h_rainfall['seconds'] = np.arange(0,len(charlotte_24h_rainfall.accum_rain_1), 1)\n",
    "charlotte_24h_rainfall['zeros'] = np.zeros((len(charlotte_24h_rainfall.accum_rain_1), 1), dtype=np.int8)"
   ]
  },
  {
   "cell_type": "code",
   "execution_count": 19,
   "metadata": {},
   "outputs": [
    {
     "data": {
      "text/html": [
       "<div>\n",
       "<style>\n",
       "    .dataframe thead tr:only-child th {\n",
       "        text-align: right;\n",
       "    }\n",
       "\n",
       "    .dataframe thead th {\n",
       "        text-align: left;\n",
       "    }\n",
       "\n",
       "    .dataframe tbody tr th {\n",
       "        vertical-align: top;\n",
       "    }\n",
       "</style>\n",
       "<table border=\"1\" class=\"dataframe\">\n",
       "  <thead>\n",
       "    <tr style=\"text-align: right;\">\n",
       "      <th></th>\n",
       "      <th>mean_rain_1</th>\n",
       "      <th>accum_rain_1</th>\n",
       "      <th>mean_rain_2</th>\n",
       "      <th>accum_rain_2</th>\n",
       "      <th>seconds</th>\n",
       "      <th>zeros</th>\n",
       "    </tr>\n",
       "    <tr>\n",
       "      <th>dt</th>\n",
       "      <th></th>\n",
       "      <th></th>\n",
       "      <th></th>\n",
       "      <th></th>\n",
       "      <th></th>\n",
       "      <th></th>\n",
       "    </tr>\n",
       "  </thead>\n",
       "  <tbody>\n",
       "    <tr>\n",
       "      <th>2011-01-01</th>\n",
       "      <td>0.095250</td>\n",
       "      <td>9.144</td>\n",
       "      <td>0.076729</td>\n",
       "      <td>7.366</td>\n",
       "      <td>0</td>\n",
       "      <td>0</td>\n",
       "    </tr>\n",
       "    <tr>\n",
       "      <th>2011-01-02</th>\n",
       "      <td>0.143774</td>\n",
       "      <td>7.620</td>\n",
       "      <td>0.034863</td>\n",
       "      <td>1.778</td>\n",
       "      <td>86400</td>\n",
       "      <td>0</td>\n",
       "    </tr>\n",
       "    <tr>\n",
       "      <th>2011-01-06</th>\n",
       "      <td>0.100542</td>\n",
       "      <td>9.652</td>\n",
       "      <td>0.097896</td>\n",
       "      <td>9.398</td>\n",
       "      <td>432000</td>\n",
       "      <td>0</td>\n",
       "    </tr>\n",
       "    <tr>\n",
       "      <th>2011-01-07</th>\n",
       "      <td>0.021167</td>\n",
       "      <td>2.032</td>\n",
       "      <td>0.015875</td>\n",
       "      <td>1.524</td>\n",
       "      <td>518400</td>\n",
       "      <td>0</td>\n",
       "    </tr>\n",
       "    <tr>\n",
       "      <th>2011-01-18</th>\n",
       "      <td>0.116417</td>\n",
       "      <td>11.176</td>\n",
       "      <td>0.124354</td>\n",
       "      <td>11.938</td>\n",
       "      <td>1468800</td>\n",
       "      <td>0</td>\n",
       "    </tr>\n",
       "  </tbody>\n",
       "</table>\n",
       "</div>"
      ],
      "text/plain": [
       "            mean_rain_1  accum_rain_1  mean_rain_2  accum_rain_2  seconds  \\\n",
       "dt                                                                          \n",
       "2011-01-01     0.095250         9.144     0.076729         7.366        0   \n",
       "2011-01-02     0.143774         7.620     0.034863         1.778    86400   \n",
       "2011-01-06     0.100542         9.652     0.097896         9.398   432000   \n",
       "2011-01-07     0.021167         2.032     0.015875         1.524   518400   \n",
       "2011-01-18     0.116417        11.176     0.124354        11.938  1468800   \n",
       "\n",
       "            zeros  \n",
       "dt                 \n",
       "2011-01-01      0  \n",
       "2011-01-02      0  \n",
       "2011-01-06      0  \n",
       "2011-01-07      0  \n",
       "2011-01-18      0  "
      ]
     },
     "execution_count": 19,
     "metadata": {},
     "output_type": "execute_result"
    }
   ],
   "source": [
    "charlotte_24h_rainfall.head()"
   ]
  },
  {
   "cell_type": "markdown",
   "metadata": {},
   "source": [
    "New try"
   ]
  },
  {
   "cell_type": "code",
   "execution_count": 20,
   "metadata": {},
   "outputs": [],
   "source": [
    "from rpy2.robjects.packages import importr\n",
    "from rpy2.robjects import r"
   ]
  },
  {
   "cell_type": "code",
   "execution_count": 21,
   "metadata": {},
   "outputs": [],
   "source": [
    "sp = importr('sp')\n",
    "gstat = importr('gstat')\n",
    "intamap = importr('intamap')"
   ]
  },
  {
   "cell_type": "code",
   "execution_count": 22,
   "metadata": {},
   "outputs": [
    {
     "data": {
      "text/plain": [
       "R object with classes: ('function',) mapped to:\n",
       "<SignatureTranslatedFunction - Python:0x7f2d0c3e8488 / R:0x55e2b839cd30>"
      ]
     },
     "execution_count": 22,
     "metadata": {},
     "output_type": "execute_result"
    }
   ],
   "source": [
    "r('jet.colors  <- c(\"#00007F\",\"blue\",\"#007FFF\",\"cyan\",\"#7FFF7F\",\"yellow\",\"#FF7F00\",\"red\",\"#7F0000\")')\n",
    "r('col.palette <- colorRampPalette(jet.colors)')"
   ]
  },
  {
   "cell_type": "code",
   "execution_count": 88,
   "metadata": {},
   "outputs": [],
   "source": [
    "rain1 = charlotte_24h_rainfall[['accum_rain_1', 'seconds', 'zeros']]\n",
    "rain2 = charlotte_24h_rainfall[['accum_rain_2', 'seconds', 'zeros']]"
   ]
  },
  {
   "cell_type": "code",
   "execution_count": 24,
   "metadata": {},
   "outputs": [],
   "source": [
    "from rpy2.robjects import pandas2ri\n",
    "pandas2ri.activate()"
   ]
  },
  {
   "cell_type": "code",
   "execution_count": 190,
   "metadata": {},
   "outputs": [
    {
     "data": {
      "text/html": [
       "\n",
       "    <span>R/rpy2 DataFrame (99 x 3)</span>\n",
       "    <table>\n",
       "      <thead>\n",
       "        <tr>\n",
       "        \n",
       "          <th>accum_rain_2</th>\n",
       "        \n",
       "          <th>seconds</th>\n",
       "        \n",
       "          <th>zeros</th>\n",
       "        \n",
       "        </tr>\n",
       "      </thead>\n",
       "      <tbody>\n",
       "      \n",
       "      <tr>\n",
       "      \n",
       "      <td>\n",
       "        7.366000\n",
       "      </td>\n",
       "      \n",
       "      <td>\n",
       "        0\n",
       "      </td>\n",
       "      \n",
       "      <td>\n",
       "        0\n",
       "      </td>\n",
       "      \n",
       "      </tr>\n",
       "      \n",
       "      <tr>\n",
       "      \n",
       "      <td>\n",
       "        1.778000\n",
       "      </td>\n",
       "      \n",
       "      <td>\n",
       "        1\n",
       "      </td>\n",
       "      \n",
       "      <td>\n",
       "        0\n",
       "      </td>\n",
       "      \n",
       "      </tr>\n",
       "      \n",
       "      <tr>\n",
       "      \n",
       "      <td>\n",
       "        9.398000\n",
       "      </td>\n",
       "      \n",
       "      <td>\n",
       "        2\n",
       "      </td>\n",
       "      \n",
       "      <td>\n",
       "        0\n",
       "      </td>\n",
       "      \n",
       "      </tr>\n",
       "      \n",
       "      </tbody>\n",
       "    </table>\n",
       "    "
      ],
      "text/plain": [
       "R object with classes: ('data.frame',) mapped to:\n",
       "<DataFrame - Python:0x7f2cec868b08 / R:0x55e2bc338468>\n",
       "[FloatVector, IntVector, IntVector]\n",
       "  accum_rain_2: <class 'rpy2.robjects.vectors.FloatVector'>\n",
       "  R object with classes: ('numeric',) mapped to:\n",
       "<FloatVector - Python:0x7f2cec8be208 / R:0x55e2bbee72d0>\n",
       "[7.366000, 1.778000, 9.398000, 1.524000, ..., 32.766000, 8.128000, 12.954000, 25.146000]\n",
       "  seconds: <class 'rpy2.robjects.vectors.IntVector'>\n",
       "  R object with classes: ('integer',) mapped to:\n",
       "<IntVector - Python:0x7f2cec8019c8 / R:0x55e2b9913e60>\n",
       "[0, 1, 2, 3, ..., 95, 96, 97, 98]\n",
       "  zeros: <class 'rpy2.robjects.vectors.IntVector'>\n",
       "  R object with classes: ('integer',) mapped to:\n",
       "<IntVector - Python:0x7f2ceaf82548 / R:0x55e2bca23430>\n",
       "[0, 0, 0, 0, ..., 0, 0, 0, 0]"
      ]
     },
     "execution_count": 190,
     "metadata": {},
     "output_type": "execute_result"
    }
   ],
   "source": [
    "r_df = pandas2ri.py2ri(rain1)\n",
    "r.assign('mydata', r_df)\n",
    "r_df2 = pandas2ri.py2ri(rain2)\n",
    "r.assign('mydata2', r_df2)"
   ]
  },
  {
   "cell_type": "code",
   "execution_count": 191,
   "metadata": {},
   "outputs": [
    {
     "data": {
      "text/plain": [
       "R object with classes: ('formula',) mapped to:\n",
       "<RObject - Python:0x7f2cec7e34c8 / R:0x55e2bc3ea278>"
      ]
     },
     "execution_count": 191,
     "metadata": {},
     "output_type": "execute_result"
    }
   ],
   "source": [
    "r('''\n",
    "mydata <- data.frame(mydata)\n",
    "coordinates(mydata) <- ~seconds+zeros\n",
    "\n",
    "mydata2 <- data.frame(mydata2)\n",
    "coordinates(mydata2) <- ~seconds+zeros\n",
    "''')"
   ]
  },
  {
   "cell_type": "code",
   "execution_count": 198,
   "metadata": {},
   "outputs": [],
   "source": [
    "p_myiso = r('myiso <- variogram(accum_rain_1~1,mydata,width=5,cutoff=100)')\n",
    "p_myiso2 = r('myiso2 <- variogram(accum_rain_2~1,mydata2,width=5,cutoff=100)')"
   ]
  },
  {
   "cell_type": "code",
   "execution_count": 29,
   "metadata": {},
   "outputs": [],
   "source": [
    "import matplotlib.pyplot as plt\n",
    "%matplotlib inline"
   ]
  },
  {
   "cell_type": "code",
   "execution_count": 199,
   "metadata": {},
   "outputs": [
    {
     "data": {
      "text/plain": [
       "[<matplotlib.lines.Line2D at 0x7f2ceae81128>]"
      ]
     },
     "execution_count": 199,
     "metadata": {},
     "output_type": "execute_result"
    },
    {
     "data": {
      "image/png": "[encoded data removed]",
      "text/plain": [
       "<matplotlib.figure.Figure at 0x7f2ceaf99860>"
      ]
     },
     "metadata": {},
     "output_type": "display_data"
    }
   ],
   "source": [
    "plt.plot(p_myiso['dist'], p_myiso['gamma'], '-o')"
   ]
  },
  {
   "cell_type": "code",
   "execution_count": 200,
   "metadata": {},
   "outputs": [
    {
     "data": {
      "text/plain": [
       "[<matplotlib.lines.Line2D at 0x7f2ceade96d8>]"
      ]
     },
     "execution_count": 200,
     "metadata": {},
     "output_type": "execute_result"
    },
    {
     "data": {
      "image/png": "[encoded data removed]",
      "text/plain": [
       "<matplotlib.figure.Figure at 0x7f2ceaf77470>"
      ]
     },
     "metadata": {},
     "output_type": "display_data"
    }
   ],
   "source": [
    "plt.plot(p_myiso2['dist'], p_myiso2['gamma'], '-o')"
   ]
  },
  {
   "cell_type": "code",
   "execution_count": 58,
   "metadata": {},
   "outputs": [
    {
     "data": {
      "text/html": [
       "<div>\n",
       "<style>\n",
       "    .dataframe thead tr:only-child th {\n",
       "        text-align: right;\n",
       "    }\n",
       "\n",
       "    .dataframe thead th {\n",
       "        text-align: left;\n",
       "    }\n",
       "\n",
       "    .dataframe tbody tr th {\n",
       "        vertical-align: top;\n",
       "    }\n",
       "</style>\n",
       "<table border=\"1\" class=\"dataframe\">\n",
       "  <thead>\n",
       "    <tr style=\"text-align: right;\">\n",
       "      <th></th>\n",
       "      <th>np</th>\n",
       "      <th>dist</th>\n",
       "      <th>gamma</th>\n",
       "      <th>dir.hor</th>\n",
       "      <th>dir.ver</th>\n",
       "      <th>id</th>\n",
       "    </tr>\n",
       "  </thead>\n",
       "  <tbody>\n",
       "    <tr>\n",
       "      <th>1</th>\n",
       "      <td>43.0</td>\n",
       "      <td>86400.0</td>\n",
       "      <td>422.430513</td>\n",
       "      <td>0.0</td>\n",
       "      <td>0.0</td>\n",
       "      <td>var1</td>\n",
       "    </tr>\n",
       "    <tr>\n",
       "      <th>2</th>\n",
       "      <td>24.0</td>\n",
       "      <td>172800.0</td>\n",
       "      <td>189.549352</td>\n",
       "      <td>0.0</td>\n",
       "      <td>0.0</td>\n",
       "      <td>var1</td>\n",
       "    </tr>\n",
       "    <tr>\n",
       "      <th>3</th>\n",
       "      <td>21.0</td>\n",
       "      <td>259200.0</td>\n",
       "      <td>235.647762</td>\n",
       "      <td>0.0</td>\n",
       "      <td>0.0</td>\n",
       "      <td>var1</td>\n",
       "    </tr>\n",
       "    <tr>\n",
       "      <th>4</th>\n",
       "      <td>29.0</td>\n",
       "      <td>345600.0</td>\n",
       "      <td>494.577431</td>\n",
       "      <td>0.0</td>\n",
       "      <td>0.0</td>\n",
       "      <td>var1</td>\n",
       "    </tr>\n",
       "    <tr>\n",
       "      <th>5</th>\n",
       "      <td>28.0</td>\n",
       "      <td>432000.0</td>\n",
       "      <td>408.816003</td>\n",
       "      <td>0.0</td>\n",
       "      <td>0.0</td>\n",
       "      <td>var1</td>\n",
       "    </tr>\n",
       "    <tr>\n",
       "      <th>6</th>\n",
       "      <td>34.0</td>\n",
       "      <td>518400.0</td>\n",
       "      <td>559.445750</td>\n",
       "      <td>0.0</td>\n",
       "      <td>0.0</td>\n",
       "      <td>var1</td>\n",
       "    </tr>\n",
       "    <tr>\n",
       "      <th>7</th>\n",
       "      <td>22.0</td>\n",
       "      <td>604800.0</td>\n",
       "      <td>110.771039</td>\n",
       "      <td>0.0</td>\n",
       "      <td>0.0</td>\n",
       "      <td>var1</td>\n",
       "    </tr>\n",
       "    <tr>\n",
       "      <th>8</th>\n",
       "      <td>16.0</td>\n",
       "      <td>691200.0</td>\n",
       "      <td>797.218164</td>\n",
       "      <td>0.0</td>\n",
       "      <td>0.0</td>\n",
       "      <td>var1</td>\n",
       "    </tr>\n",
       "    <tr>\n",
       "      <th>9</th>\n",
       "      <td>19.0</td>\n",
       "      <td>777600.0</td>\n",
       "      <td>724.105513</td>\n",
       "      <td>0.0</td>\n",
       "      <td>0.0</td>\n",
       "      <td>var1</td>\n",
       "    </tr>\n",
       "    <tr>\n",
       "      <th>10</th>\n",
       "      <td>19.0</td>\n",
       "      <td>864000.0</td>\n",
       "      <td>733.280367</td>\n",
       "      <td>0.0</td>\n",
       "      <td>0.0</td>\n",
       "      <td>var1</td>\n",
       "    </tr>\n",
       "  </tbody>\n",
       "</table>\n",
       "</div>"
      ],
      "text/plain": [
       "      np      dist       gamma  dir.hor  dir.ver    id\n",
       "1   43.0   86400.0  422.430513      0.0      0.0  var1\n",
       "2   24.0  172800.0  189.549352      0.0      0.0  var1\n",
       "3   21.0  259200.0  235.647762      0.0      0.0  var1\n",
       "4   29.0  345600.0  494.577431      0.0      0.0  var1\n",
       "5   28.0  432000.0  408.816003      0.0      0.0  var1\n",
       "6   34.0  518400.0  559.445750      0.0      0.0  var1\n",
       "7   22.0  604800.0  110.771039      0.0      0.0  var1\n",
       "8   16.0  691200.0  797.218164      0.0      0.0  var1\n",
       "9   19.0  777600.0  724.105513      0.0      0.0  var1\n",
       "10  19.0  864000.0  733.280367      0.0      0.0  var1"
      ]
     },
     "execution_count": 58,
     "metadata": {},
     "output_type": "execute_result"
    }
   ],
   "source": [
    "p_myiso"
   ]
  },
  {
   "cell_type": "code",
   "execution_count": 59,
   "metadata": {},
   "outputs": [
    {
     "data": {
      "text/html": [
       "<div>\n",
       "<style>\n",
       "    .dataframe thead tr:only-child th {\n",
       "        text-align: right;\n",
       "    }\n",
       "\n",
       "    .dataframe thead th {\n",
       "        text-align: left;\n",
       "    }\n",
       "\n",
       "    .dataframe tbody tr th {\n",
       "        vertical-align: top;\n",
       "    }\n",
       "</style>\n",
       "<table border=\"1\" class=\"dataframe\">\n",
       "  <thead>\n",
       "    <tr style=\"text-align: right;\">\n",
       "      <th></th>\n",
       "      <th>np</th>\n",
       "      <th>dist</th>\n",
       "      <th>gamma</th>\n",
       "      <th>dir.hor</th>\n",
       "      <th>dir.ver</th>\n",
       "      <th>id</th>\n",
       "    </tr>\n",
       "  </thead>\n",
       "  <tbody>\n",
       "    <tr>\n",
       "      <th>1</th>\n",
       "      <td>43.0</td>\n",
       "      <td>86400.0</td>\n",
       "      <td>337.848537</td>\n",
       "      <td>0.0</td>\n",
       "      <td>0.0</td>\n",
       "      <td>var1</td>\n",
       "    </tr>\n",
       "    <tr>\n",
       "      <th>2</th>\n",
       "      <td>24.0</td>\n",
       "      <td>172800.0</td>\n",
       "      <td>376.820483</td>\n",
       "      <td>0.0</td>\n",
       "      <td>0.0</td>\n",
       "      <td>var1</td>\n",
       "    </tr>\n",
       "    <tr>\n",
       "      <th>3</th>\n",
       "      <td>21.0</td>\n",
       "      <td>259200.0</td>\n",
       "      <td>405.347884</td>\n",
       "      <td>0.0</td>\n",
       "      <td>0.0</td>\n",
       "      <td>var1</td>\n",
       "    </tr>\n",
       "    <tr>\n",
       "      <th>4</th>\n",
       "      <td>29.0</td>\n",
       "      <td>345600.0</td>\n",
       "      <td>408.376269</td>\n",
       "      <td>0.0</td>\n",
       "      <td>0.0</td>\n",
       "      <td>var1</td>\n",
       "    </tr>\n",
       "    <tr>\n",
       "      <th>5</th>\n",
       "      <td>28.0</td>\n",
       "      <td>432000.0</td>\n",
       "      <td>255.964926</td>\n",
       "      <td>0.0</td>\n",
       "      <td>0.0</td>\n",
       "      <td>var1</td>\n",
       "    </tr>\n",
       "    <tr>\n",
       "      <th>6</th>\n",
       "      <td>34.0</td>\n",
       "      <td>518400.0</td>\n",
       "      <td>415.970705</td>\n",
       "      <td>0.0</td>\n",
       "      <td>0.0</td>\n",
       "      <td>var1</td>\n",
       "    </tr>\n",
       "    <tr>\n",
       "      <th>7</th>\n",
       "      <td>22.0</td>\n",
       "      <td>604800.0</td>\n",
       "      <td>101.788653</td>\n",
       "      <td>0.0</td>\n",
       "      <td>0.0</td>\n",
       "      <td>var1</td>\n",
       "    </tr>\n",
       "    <tr>\n",
       "      <th>8</th>\n",
       "      <td>16.0</td>\n",
       "      <td>691200.0</td>\n",
       "      <td>617.980619</td>\n",
       "      <td>0.0</td>\n",
       "      <td>0.0</td>\n",
       "      <td>var1</td>\n",
       "    </tr>\n",
       "    <tr>\n",
       "      <th>9</th>\n",
       "      <td>19.0</td>\n",
       "      <td>777600.0</td>\n",
       "      <td>595.236501</td>\n",
       "      <td>0.0</td>\n",
       "      <td>0.0</td>\n",
       "      <td>var1</td>\n",
       "    </tr>\n",
       "    <tr>\n",
       "      <th>10</th>\n",
       "      <td>19.0</td>\n",
       "      <td>864000.0</td>\n",
       "      <td>344.425457</td>\n",
       "      <td>0.0</td>\n",
       "      <td>0.0</td>\n",
       "      <td>var1</td>\n",
       "    </tr>\n",
       "  </tbody>\n",
       "</table>\n",
       "</div>"
      ],
      "text/plain": [
       "      np      dist       gamma  dir.hor  dir.ver    id\n",
       "1   43.0   86400.0  337.848537      0.0      0.0  var1\n",
       "2   24.0  172800.0  376.820483      0.0      0.0  var1\n",
       "3   21.0  259200.0  405.347884      0.0      0.0  var1\n",
       "4   29.0  345600.0  408.376269      0.0      0.0  var1\n",
       "5   28.0  432000.0  255.964926      0.0      0.0  var1\n",
       "6   34.0  518400.0  415.970705      0.0      0.0  var1\n",
       "7   22.0  604800.0  101.788653      0.0      0.0  var1\n",
       "8   16.0  691200.0  617.980619      0.0      0.0  var1\n",
       "9   19.0  777600.0  595.236501      0.0      0.0  var1\n",
       "10  19.0  864000.0  344.425457      0.0      0.0  var1"
      ]
     },
     "execution_count": 59,
     "metadata": {},
     "output_type": "execute_result"
    }
   ],
   "source": [
    "p_myiso2"
   ]
  },
  {
   "cell_type": "code",
   "execution_count": 94,
   "metadata": {},
   "outputs": [
    {
     "data": {
      "text/plain": [
       "array([1], dtype=int32)"
      ]
     },
     "execution_count": 94,
     "metadata": {},
     "output_type": "execute_result"
    }
   ],
   "source": [
    "r('''\n",
    "variogram_map <- variogram(accum_rain_1~1,mydata,width=1,cutoff=50,map=TRUE)\n",
    "png(\"variogram_map_temporal.png\",height=600,width=600)\n",
    "print(plot(variogram_map))\n",
    "dev.off()\n",
    "''')"
   ]
  },
  {
   "cell_type": "code",
   "execution_count": 134,
   "metadata": {
    "scrolled": true
   },
   "outputs": [
    {
     "data": {
      "text/plain": [
       "array([2], dtype=int32)"
      ]
     },
     "execution_count": 134,
     "metadata": {},
     "output_type": "execute_result"
    }
   ],
   "source": [
    "r('''\n",
    "initial_vario_sph <- vgm(psill=100,model=\"Lin\",range=8,nugget=350)\n",
    "fitted_vario_sph <- fit.variogram(myiso,initial_vario_sph)\n",
    "range  <- fitted_vario_sph$range[2]\t\t\t\t# fitted range\n",
    "nugget <- fitted_vario_sph$psill[1]\t\t\t\t# fitted nugget\n",
    "sill   <- sum(fitted_vario_sph$psill)\t\t\t# fitted sill (total sill)\n",
    "SSErr_sph <- attributes(fitted_vario_sph)$SSErr\t# sum of squared errors (goodness of fit)\n",
    "\n",
    "png(\"fitted_isotropic_variogram_sph_temporal.png\",height=600,width=900)\n",
    "print(plot(myiso,fitted_vario_sph))\n",
    "dev.off()\n",
    "''')"
   ]
  },
  {
   "cell_type": "code",
   "execution_count": 135,
   "metadata": {},
   "outputs": [
    {
     "data": {
      "text/plain": [
       "array([ 65.63506915])"
      ]
     },
     "execution_count": 135,
     "metadata": {},
     "output_type": "execute_result"
    }
   ],
   "source": [
    "r('range')"
   ]
  },
  {
   "cell_type": "code",
   "execution_count": 136,
   "metadata": {},
   "outputs": [
    {
     "data": {
      "text/plain": [
       "array([ 398.73065619])"
      ]
     },
     "execution_count": 136,
     "metadata": {},
     "output_type": "execute_result"
    }
   ],
   "source": [
    "r('nugget')"
   ]
  },
  {
   "cell_type": "code",
   "execution_count": 137,
   "metadata": {},
   "outputs": [
    {
     "data": {
      "text/plain": [
       "array([ 570.37850329])"
      ]
     },
     "execution_count": 137,
     "metadata": {},
     "output_type": "execute_result"
    }
   ],
   "source": [
    "r('sill')"
   ]
  },
  {
   "cell_type": "code",
   "execution_count": 138,
   "metadata": {},
   "outputs": [
    {
     "data": {
      "text/plain": [
       "array([ 14691.8056161])"
      ]
     },
     "execution_count": 138,
     "metadata": {},
     "output_type": "execute_result"
    }
   ],
   "source": [
    "r('SSErr_sph')"
   ]
  },
  {
   "cell_type": "code",
   "execution_count": null,
   "metadata": {},
   "outputs": [],
   "source": []
  },
  {
   "cell_type": "markdown",
   "metadata": {},
   "source": [
    "Rainfall values on 5th august 2011"
   ]
  },
  {
   "cell_type": "code",
   "execution_count": 147,
   "metadata": {},
   "outputs": [],
   "source": [
    "event_rain = charlotte_rainfall.loc['2011-08-05 00:00:00':'2011-08-05 23:59:59']\n",
    "event_rain_1 = event_rain.Rainfall_1\n",
    "event_rain_2 = event_rain.Rainfall_2"
   ]
  },
  {
   "cell_type": "code",
   "execution_count": 144,
   "metadata": {},
   "outputs": [],
   "source": [
    "import datetime as dt"
   ]
  },
  {
   "cell_type": "code",
   "execution_count": 148,
   "metadata": {},
   "outputs": [],
   "source": [
    "event_rain_2.index = event_rain_2.index + dt.timedelta(hours=72)"
   ]
  },
  {
   "cell_type": "code",
   "execution_count": 173,
   "metadata": {},
   "outputs": [],
   "source": [
    "event_rain_1 = pd.Series(event_rain_1.Rainfall_1)"
   ]
  },
  {
   "cell_type": "code",
   "execution_count": 175,
   "metadata": {},
   "outputs": [],
   "source": [
    "my_event = event_rain_1.append(event_rain_2)"
   ]
  },
  {
   "cell_type": "code",
   "execution_count": 177,
   "metadata": {},
   "outputs": [],
   "source": [
    "my_event = pd.DataFrame(my_event)\n",
    "my_event.columns = ['R']\n",
    "\n",
    "my_event['seconds'] = my_event.index.astype(np.int64) // 10 ** 9 - ( my_event.index.astype(np.int64)[0] // 10 ** 9)\n",
    "my_event['zeros'] = np.zeros((len(my_event.R), 1), dtype=np.int8)"
   ]
  },
  {
   "cell_type": "code",
   "execution_count": 241,
   "metadata": {},
   "outputs": [
    {
     "data": {
      "text/html": [
       "<div>\n",
       "<style>\n",
       "    .dataframe thead tr:only-child th {\n",
       "        text-align: right;\n",
       "    }\n",
       "\n",
       "    .dataframe thead th {\n",
       "        text-align: left;\n",
       "    }\n",
       "\n",
       "    .dataframe tbody tr th {\n",
       "        vertical-align: top;\n",
       "    }\n",
       "</style>\n",
       "<table border=\"1\" class=\"dataframe\">\n",
       "  <thead>\n",
       "    <tr style=\"text-align: right;\">\n",
       "      <th></th>\n",
       "      <th>R</th>\n",
       "      <th>seconds</th>\n",
       "      <th>zeros</th>\n",
       "    </tr>\n",
       "    <tr>\n",
       "      <th>dt</th>\n",
       "      <th></th>\n",
       "      <th></th>\n",
       "      <th></th>\n",
       "    </tr>\n",
       "  </thead>\n",
       "  <tbody>\n",
       "    <tr>\n",
       "      <th>2011-08-08 22:45:00</th>\n",
       "      <td>0.254</td>\n",
       "      <td>341100</td>\n",
       "      <td>0</td>\n",
       "    </tr>\n",
       "    <tr>\n",
       "      <th>2011-08-08 23:00:00</th>\n",
       "      <td>0.254</td>\n",
       "      <td>342000</td>\n",
       "      <td>0</td>\n",
       "    </tr>\n",
       "    <tr>\n",
       "      <th>2011-08-08 23:15:00</th>\n",
       "      <td>0.254</td>\n",
       "      <td>342900</td>\n",
       "      <td>0</td>\n",
       "    </tr>\n",
       "    <tr>\n",
       "      <th>2011-08-08 23:30:00</th>\n",
       "      <td>0.254</td>\n",
       "      <td>343800</td>\n",
       "      <td>0</td>\n",
       "    </tr>\n",
       "    <tr>\n",
       "      <th>2011-08-08 23:45:00</th>\n",
       "      <td>0.254</td>\n",
       "      <td>344700</td>\n",
       "      <td>0</td>\n",
       "    </tr>\n",
       "  </tbody>\n",
       "</table>\n",
       "</div>"
      ],
      "text/plain": [
       "                         R  seconds  zeros\n",
       "dt                                        \n",
       "2011-08-08 22:45:00  0.254   341100      0\n",
       "2011-08-08 23:00:00  0.254   342000      0\n",
       "2011-08-08 23:15:00  0.254   342900      0\n",
       "2011-08-08 23:30:00  0.254   343800      0\n",
       "2011-08-08 23:45:00  0.254   344700      0"
      ]
     },
     "execution_count": 241,
     "metadata": {},
     "output_type": "execute_result"
    }
   ],
   "source": [
    "my_event.tail()"
   ]
  },
  {
   "cell_type": "code",
   "execution_count": 208,
   "metadata": {},
   "outputs": [
    {
     "data": {
      "text/html": [
       "\n",
       "    <span>R/rpy2 DataFrame (192 x 3)</span>\n",
       "    <table>\n",
       "      <thead>\n",
       "        <tr>\n",
       "        \n",
       "          <th>R</th>\n",
       "        \n",
       "          <th>seconds</th>\n",
       "        \n",
       "          <th>zeros</th>\n",
       "        \n",
       "        </tr>\n",
       "      </thead>\n",
       "      <tbody>\n",
       "      \n",
       "      <tr>\n",
       "      \n",
       "      <td>\n",
       "        0.000000\n",
       "      </td>\n",
       "      \n",
       "      <td>\n",
       "        0\n",
       "      </td>\n",
       "      \n",
       "      <td>\n",
       "        0\n",
       "      </td>\n",
       "      \n",
       "      </tr>\n",
       "      \n",
       "      <tr>\n",
       "      \n",
       "      <td>\n",
       "        0.000000\n",
       "      </td>\n",
       "      \n",
       "      <td>\n",
       "        900\n",
       "      </td>\n",
       "      \n",
       "      <td>\n",
       "        0\n",
       "      </td>\n",
       "      \n",
       "      </tr>\n",
       "      \n",
       "      <tr>\n",
       "      \n",
       "      <td>\n",
       "        0.000000\n",
       "      </td>\n",
       "      \n",
       "      <td>\n",
       "        1,800\n",
       "      </td>\n",
       "      \n",
       "      <td>\n",
       "        0\n",
       "      </td>\n",
       "      \n",
       "      </tr>\n",
       "      \n",
       "      </tbody>\n",
       "    </table>\n",
       "    "
      ],
      "text/plain": [
       "R object with classes: ('data.frame',) mapped to:\n",
       "<DataFrame - Python:0x7f2ceadec448 / R:0x55e2bb461fa8>\n",
       "[FloatVector, IntVector, IntVector]\n",
       "  R: <class 'rpy2.robjects.vectors.FloatVector'>\n",
       "  R object with classes: ('numeric',) mapped to:\n",
       "<FloatVector - Python:0x7f2ceadeca48 / R:0x55e2bce03b60>\n",
       "[0.000000, 0.000000, 0.000000, 0.000000, ..., 0.254000, 0.254000, 0.254000, 0.254000]\n",
       "  seconds: <class 'rpy2.robjects.vectors.IntVector'>\n",
       "  R object with classes: ('integer',) mapped to:\n",
       "<IntVector - Python:0x7f2ceaf2a208 / R:0x55e2bce051f0>\n",
       "[0, 900, 1,800, 2,700, ..., 342,000, 342,900, 343,800, 344,700]\n",
       "  zeros: <class 'rpy2.robjects.vectors.IntVector'>\n",
       "  R object with classes: ('integer',) mapped to:\n",
       "<IntVector - Python:0x7f2ceadf3d08 / R:0x55e2bce06080>\n",
       "[0, 0, 0, 0, ..., 0, 0, 0, 0]"
      ]
     },
     "execution_count": 208,
     "metadata": {},
     "output_type": "execute_result"
    }
   ],
   "source": [
    "r_df = pandas2ri.py2ri(my_event)\n",
    "r.assign('mydata_event', r_df)"
   ]
  },
  {
   "cell_type": "code",
   "execution_count": 209,
   "metadata": {},
   "outputs": [
    {
     "data": {
      "text/plain": [
       "R object with classes: ('formula',) mapped to:\n",
       "<RObject - Python:0x7f2ceaebc548 / R:0x55e2bab5b230>"
      ]
     },
     "execution_count": 209,
     "metadata": {},
     "output_type": "execute_result"
    }
   ],
   "source": [
    "r('''\n",
    "mydata_event <- data.frame(mydata_event)\n",
    "coordinates(mydata_event) <- ~seconds+zeros\n",
    "''')"
   ]
  },
  {
   "cell_type": "code",
   "execution_count": 235,
   "metadata": {},
   "outputs": [],
   "source": [
    "p_myiso = r('myiso_event <- variogram(R~1,mydata_event,width=1800,cutoff=250000)')"
   ]
  },
  {
   "cell_type": "code",
   "execution_count": 236,
   "metadata": {},
   "outputs": [
    {
     "data": {
      "text/plain": [
       "[<matplotlib.lines.Line2D at 0x7f2cea8e0f28>]"
      ]
     },
     "execution_count": 236,
     "metadata": {},
     "output_type": "execute_result"
    },
    {
     "data": {
      "image/png": "[encoded data removed]",
      "text/plain": [
       "<matplotlib.figure.Figure at 0x7f2cea9c56a0>"
      ]
     },
     "metadata": {},
     "output_type": "display_data"
    }
   ],
   "source": [
    "plt.plot(p_myiso['dist'], p_myiso['gamma'], '-o')"
   ]
  },
  {
   "cell_type": "code",
   "execution_count": 237,
   "metadata": {},
   "outputs": [],
   "source": [
    "from pandas.plotting import autocorrelation_plot"
   ]
  },
  {
   "cell_type": "code",
   "execution_count": 238,
   "metadata": {},
   "outputs": [
    {
     "data": {
      "text/plain": [
       "<matplotlib.axes._subplots.AxesSubplot at 0x7f2cea916c88>"
      ]
     },
     "execution_count": 238,
     "metadata": {},
     "output_type": "execute_result"
    },
    {
     "data": {
      "image/png": "[encoded data removed]",
      "text/plain": [
       "<matplotlib.figure.Figure at 0x7f2cea8f45c0>"
      ]
     },
     "metadata": {},
     "output_type": "display_data"
    }
   ],
   "source": [
    "autocorrelation_plot(my_event.R)"
   ]
  },
  {
   "cell_type": "code",
   "execution_count": 239,
   "metadata": {},
   "outputs": [
    {
     "data": {
      "text/plain": [
       "<matplotlib.axes._subplots.AxesSubplot at 0x7f2cea8c69e8>"
      ]
     },
     "execution_count": 239,
     "metadata": {},
     "output_type": "execute_result"
    },
    {
     "data": {
      "image/png": "[encoded data removed]",
      "text/plain": [
       "<matplotlib.figure.Figure at 0x7f2cea866cc0>"
      ]
     },
     "metadata": {},
     "output_type": "display_data"
    }
   ],
   "source": [
    "autocorrelation_plot(rain1.accum_rain_1)"
   ]
  },
  {
   "cell_type": "code",
   "execution_count": 240,
   "metadata": {},
   "outputs": [
    {
     "data": {
      "text/plain": [
       "<matplotlib.axes._subplots.AxesSubplot at 0x7f2cea959780>"
      ]
     },
     "execution_count": 240,
     "metadata": {},
     "output_type": "execute_result"
    },
    {
     "data": {
      "image/png": "[encoded data removed]",
      "text/plain": [
       "<matplotlib.figure.Figure at 0x7f2cea7fc0f0>"
      ]
     },
     "metadata": {},
     "output_type": "display_data"
    }
   ],
   "source": [
    "autocorrelation_plot(rain2.accum_rain_2)"
   ]
  },
  {
   "cell_type": "code",
   "execution_count": null,
   "metadata": {},
   "outputs": [],
   "source": []
  },
  {
   "cell_type": "code",
   "execution_count": null,
   "metadata": {},
   "outputs": [],
   "source": []
  },
  {
   "cell_type": "code",
   "execution_count": null,
   "metadata": {},
   "outputs": [],
   "source": []
  },
  {
   "cell_type": "code",
   "execution_count": 26,
   "metadata": {},
   "outputs": [],
   "source": [
    "from scipy.spatial.distance import pdist, squareform"
   ]
  },
  {
   "cell_type": "code",
   "execution_count": 20,
   "metadata": {},
   "outputs": [],
   "source": [
    "data = np.array(charlotte_24h_rainfall[['seconds', 'zeros', 'accum_rain_1']])\n",
    "lags = np.arange(86400, 864000, 86400)\n",
    "sill = np.var(data[:,2])"
   ]
  },
  {
   "cell_type": "code",
   "execution_count": 22,
   "metadata": {},
   "outputs": [
    {
     "name": "stdout",
     "output_type": "stream",
     "text": [
      "381.871329624\n",
      "[ 86400 172800 259200 345600 432000 518400 604800 691200 777600]\n"
     ]
    }
   ],
   "source": [
    "print(sill)\n",
    "print(lags)"
   ]
  },
  {
   "cell_type": "code",
   "execution_count": 32,
   "metadata": {},
   "outputs": [],
   "source": [
    "distances = squareform(pdist(data[:,:2]))"
   ]
  },
  {
   "cell_type": "code",
   "execution_count": 37,
   "metadata": {},
   "outputs": [
    {
     "name": "stdout",
     "output_type": "stream",
     "text": [
      "[[        0.     86400.    432000. ...,  30672000.  30758400.  31104000.]\n",
      " [    86400.         0.    345600. ...,  30585600.  30672000.  31017600.]\n",
      " [   432000.    345600.         0. ...,  30240000.  30326400.  30672000.]\n",
      " ..., \n",
      " [ 30672000.  30585600.  30240000. ...,         0.     86400.    432000.]\n",
      " [ 30758400.  30672000.  30326400. ...,     86400.         0.    345600.]\n",
      " [ 31104000.  31017600.  30672000. ...,    432000.    345600.         0.]]\n"
     ]
    }
   ],
   "source": [
    "print(distances)"
   ]
  },
  {
   "cell_type": "code",
   "execution_count": 44,
   "metadata": {},
   "outputs": [
    {
     "name": "stdout",
     "output_type": "stream",
     "text": [
      "374.074959551\n"
     ]
    }
   ],
   "source": [
    "tail = data[0:-1,2]\n",
    "head = data[1::,2]\n",
    "cur_diff = (tail-head)**2\n",
    "cur_sum = sum(cur_diff)\n",
    "cur_var = 1/(2*len(tail))*cur_sum\n",
    "print(cur_var)"
   ]
  },
  {
   "cell_type": "code",
   "execution_count": 58,
   "metadata": {},
   "outputs": [
    {
     "name": "stdout",
     "output_type": "stream",
     "text": [
      "97\n",
      "427.027080763\n"
     ]
    }
   ],
   "source": [
    "tail = data[0:-2,2]\n",
    "head = data[2::,2]\n",
    "print(len(head))\n",
    "cur_diff = (tail-head)**2\n",
    "cur_sum = sum(cur_diff)\n",
    "cur_var = 1/(2*len(tail))*cur_sum\n",
    "\n",
    "print(cur_var)"
   ]
  },
  {
   "cell_type": "code",
   "execution_count": 46,
   "metadata": {},
   "outputs": [
    {
     "name": "stdout",
     "output_type": "stream",
     "text": [
      "441.820352917\n"
     ]
    }
   ],
   "source": [
    "tail = data[0:-3,2]\n",
    "head = data[3::,2]\n",
    "cur_diff = (tail-head)**2\n",
    "cur_sum = sum(cur_diff)\n",
    "cur_var = 1/(2*len(tail))*cur_sum\n",
    "print(cur_var)"
   ]
  },
  {
   "cell_type": "code",
   "execution_count": null,
   "metadata": {},
   "outputs": [],
   "source": []
  },
  {
   "cell_type": "code",
   "execution_count": 47,
   "metadata": {},
   "outputs": [
    {
     "name": "stdout",
     "output_type": "stream",
     "text": [
      "408.916329874\n"
     ]
    }
   ],
   "source": [
    "tail = data[0:-4,2]\n",
    "head = data[4::,2]\n",
    "cur_diff = (tail-head)**2\n",
    "cur_sum = sum(cur_diff)\n",
    "cur_var = 1/(2*len(tail))*cur_sum\n",
    "print(cur_var)"
   ]
  },
  {
   "cell_type": "code",
   "execution_count": 59,
   "metadata": {},
   "outputs": [
    {
     "name": "stdout",
     "output_type": "stream",
     "text": [
      "442.493281106\n"
     ]
    }
   ],
   "source": [
    "tail = data[0:-5,2]\n",
    "head = data[5::,2]\n",
    "cur_diff = (tail-head)**2\n",
    "cur_sum = sum(cur_diff)\n",
    "cur_var = 1/(2*len(tail))*cur_sum\n",
    "print(cur_var)"
   ]
  },
  {
   "cell_type": "code",
   "execution_count": 60,
   "metadata": {},
   "outputs": [
    {
     "name": "stdout",
     "output_type": "stream",
     "text": [
      "382.355808301\n"
     ]
    }
   ],
   "source": [
    "tail = data[0:-6,2]\n",
    "head = data[6::,2]\n",
    "cur_diff = (tail-head)**2\n",
    "cur_sum = sum(cur_diff)\n",
    "cur_var = 1/(2*len(tail))*cur_sum\n",
    "print(cur_var)"
   ]
  },
  {
   "cell_type": "code",
   "execution_count": 61,
   "metadata": {},
   "outputs": [
    {
     "name": "stdout",
     "output_type": "stream",
     "text": [
      "425.041576283\n"
     ]
    }
   ],
   "source": [
    "tail = data[0:-7,2]\n",
    "head = data[7::,2]\n",
    "cur_diff = (tail-head)**2\n",
    "cur_sum = sum(cur_diff)\n",
    "cur_var = 1/(2*len(tail))*cur_sum\n",
    "print(cur_var)"
   ]
  },
  {
   "cell_type": "code",
   "execution_count": null,
   "metadata": {},
   "outputs": [],
   "source": []
  },
  {
   "cell_type": "code",
   "execution_count": 251,
   "metadata": {},
   "outputs": [],
   "source": [
    "data = np.array(charlotte_24h_rainfall[['seconds', 'zeros', 'accum_rain_1']])\n",
    "npoints, cols = data.shape"
   ]
  },
  {
   "cell_type": "code",
   "execution_count": 252,
   "metadata": {},
   "outputs": [
    {
     "data": {
      "text/plain": [
       "99"
      ]
     },
     "execution_count": 252,
     "metadata": {},
     "output_type": "execute_result"
    }
   ],
   "source": [
    "npoints"
   ]
  },
  {
   "cell_type": "code",
   "execution_count": 253,
   "metadata": {},
   "outputs": [
    {
     "data": {
      "text/plain": [
       "3"
      ]
     },
     "execution_count": 253,
     "metadata": {},
     "output_type": "execute_result"
    }
   ],
   "source": [
    "cols"
   ]
  },
  {
   "cell_type": "code",
   "execution_count": 254,
   "metadata": {},
   "outputs": [],
   "source": [
    "from scipy.spatial.distance import pdist, squareform"
   ]
  },
  {
   "cell_type": "code",
   "execution_count": 255,
   "metadata": {},
   "outputs": [],
   "source": [
    "square_data = squareform(pdist(data[:,:2]))"
   ]
  },
  {
   "cell_type": "code",
   "execution_count": 256,
   "metadata": {},
   "outputs": [],
   "source": [
    "lags = np.arange(1*7*24*60*60, 6*30*24*60*60, 1*7*24*60*60 )\n",
    "sill = np.var(data[:,2])"
   ]
  },
  {
   "cell_type": "code",
   "execution_count": 257,
   "metadata": {},
   "outputs": [
    {
     "data": {
      "text/plain": [
       "381.87132962350768"
      ]
     },
     "execution_count": 257,
     "metadata": {},
     "output_type": "execute_result"
    }
   ],
   "source": [
    "sill"
   ]
  },
  {
   "cell_type": "code",
   "execution_count": 258,
   "metadata": {},
   "outputs": [
    {
     "data": {
      "text/plain": [
       "(25,)"
      ]
     },
     "execution_count": 258,
     "metadata": {},
     "output_type": "execute_result"
    }
   ],
   "source": [
    "lags.shape"
   ]
  },
  {
   "cell_type": "code",
   "execution_count": 259,
   "metadata": {},
   "outputs": [],
   "source": [
    "def lagindices( pwdist, lag, tol ):\n",
    "    '''\n",
    "    Input:  (pwdist) square NumPy array of pairwise distances\n",
    "            (lag)    the distance, h, between points\n",
    "            (tol)    the tolerance we are comfortable with around (lag)\n",
    "    Output: (ind)    list of tuples; the first element is the row of\n",
    "                     (data) for one point, the second element is the row\n",
    "                     of a point (lag)+/-(tol) away from the first point,\n",
    "                     e.g., (3,5) corresponds fo data[3,:], and data[5,:]\n",
    "    '''\n",
    "    # grab the coordinates in a given range: lag +/- tolerance\n",
    "    i, j = np.where( ( pwdist >= lag - tol )&( pwdist < lag + tol ) )\n",
    "    # zip the coordinates into a list\n",
    "    indices = zip( i, j )\n",
    "    # take out the repeated elements,\n",
    "    # since p is a *symmetric* distance matrix\n",
    "    indices = np.array([ i for i in indices if i[1] > i[0] ])\n",
    "    return indices\n",
    "def semivariance( data, indices ):\n",
    "    '''\n",
    "    Input:  (data)    NumPy array where the fris t two columns\n",
    "                      are the spatial coordinates, x and y, and\n",
    "                      the third column is the variable of interest\n",
    "            (indices) indices of paired data points in (data)\n",
    "    Output:  (z)      semivariance value at lag (h) +/- (tol)\n",
    "    '''\n",
    "    # take the squared difference between\n",
    "    # the values of the variable of interest\n",
    "    z = [ ( data[i,2] - data[j,2] )**2.0 for i,j in indices ]\n",
    "    # the semivariance is half the mean squared difference\n",
    "    return np.mean( z ) / 2.0"
   ]
  },
  {
   "cell_type": "code",
   "execution_count": 260,
   "metadata": {},
   "outputs": [],
   "source": [
    "index = [ lagindices( square_data, lag, 0.1 ) for lag in lags ]"
   ]
  },
  {
   "cell_type": "code",
   "execution_count": 261,
   "metadata": {},
   "outputs": [
    {
     "data": {
      "text/plain": [
       "array([  604800,  1209600,  1814400,  2419200,  3024000,  3628800,\n",
       "        4233600,  4838400,  5443200,  6048000,  6652800,  7257600,\n",
       "        7862400,  8467200,  9072000,  9676800, 10281600, 10886400,\n",
       "       11491200, 12096000, 12700800, 13305600, 13910400, 14515200, 15120000])"
      ]
     },
     "execution_count": 261,
     "metadata": {},
     "output_type": "execute_result"
    }
   ],
   "source": [
    "lags"
   ]
  },
  {
   "cell_type": "code",
   "execution_count": 262,
   "metadata": {},
   "outputs": [],
   "source": [
    "v = np.array([ semivariance( data, indices ) for indices in index ])"
   ]
  },
  {
   "cell_type": "code",
   "execution_count": 263,
   "metadata": {},
   "outputs": [
    {
     "data": {
      "text/plain": [
       "array([  110.77103945,   170.52990087,   583.38473526,  1014.0609519 ,\n",
       "          81.806288  ,   219.54514296,   419.8004091 ,   105.60389436,\n",
       "         154.57630375,  1194.30699555,   205.42201619,   147.757769  ,\n",
       "         458.83046064,   130.55838991,   604.10257861,   276.88724426,\n",
       "         302.6219754 ,   972.56948343,   868.30113078,   927.36158613,\n",
       "         148.47147725,   223.2882631 ,   702.46230475,    64.95294927,\n",
       "         157.0351698 ])"
      ]
     },
     "execution_count": 263,
     "metadata": {},
     "output_type": "execute_result"
    }
   ],
   "source": [
    "v"
   ]
  },
  {
   "cell_type": "code",
   "execution_count": 269,
   "metadata": {},
   "outputs": [
    {
     "data": {
      "text/plain": [
       "25"
      ]
     },
     "execution_count": 269,
     "metadata": {},
     "output_type": "execute_result"
    }
   ],
   "source": [
    "v.size"
   ]
  },
  {
   "cell_type": "code",
   "execution_count": 264,
   "metadata": {},
   "outputs": [],
   "source": [
    "vario = np.array( zip( lags, v ) ).T"
   ]
  },
  {
   "cell_type": "code",
   "execution_count": 267,
   "metadata": {},
   "outputs": [
    {
     "ename": "TypeError",
     "evalue": "iteration over a 0-d array",
     "output_type": "error",
     "traceback": [
      "\u001b[0;31m---------------------------------------------------------------------------\u001b[0m",
      "\u001b[0;31mTypeError\u001b[0m                                 Traceback (most recent call last)",
      "\u001b[0;32m<ipython-input-267-cee464ada556>\u001b[0m in \u001b[0;36m<module>\u001b[0;34m()\u001b[0m\n\u001b[0;32m----> 1\u001b[0;31m \u001b[0mh\u001b[0m\u001b[0;34m,\u001b[0m \u001b[0msv\u001b[0m \u001b[0;34m=\u001b[0m \u001b[0mnp\u001b[0m\u001b[0;34m.\u001b[0m\u001b[0marray\u001b[0m\u001b[0;34m(\u001b[0m \u001b[0mzip\u001b[0m\u001b[0;34m(\u001b[0m \u001b[0mlags\u001b[0m\u001b[0;34m,\u001b[0m \u001b[0mv\u001b[0m \u001b[0;34m)\u001b[0m \u001b[0;34m)\u001b[0m\u001b[0;34m.\u001b[0m\u001b[0mT\u001b[0m\u001b[0;34m\u001b[0m\u001b[0m\n\u001b[0m",
      "\u001b[0;31mTypeError\u001b[0m: iteration over a 0-d array"
     ]
    }
   ],
   "source": [
    "h, sv = np.array( zip( lags, v ) ).T"
   ]
  },
  {
   "cell_type": "code",
   "execution_count": 265,
   "metadata": {},
   "outputs": [],
   "source": [
    "h, sv = lags, v"
   ]
  },
  {
   "cell_type": "code",
   "execution_count": 271,
   "metadata": {},
   "outputs": [
    {
     "data": {
      "text/plain": [
       "[<matplotlib.lines.Line2D at 0x7fe99a3d4ef0>]"
      ]
     },
     "execution_count": 271,
     "metadata": {},
     "output_type": "execute_result"
    },
    {
     "data": {
      "image/png": "[encoded data removed]",
      "text/plain": [
       "<matplotlib.figure.Figure at 0x7fe99a416dd8>"
      ]
     },
     "metadata": {},
     "output_type": "display_data"
    }
   ],
   "source": [
    "plt.plot( h, sv, 'ko-' )"
   ]
  },
  {
   "cell_type": "code",
   "execution_count": 224,
   "metadata": {},
   "outputs": [],
   "source": [
    "def SVh( P, h, bw ):\n",
    "    '''\n",
    "    Experimental semivariogram for a single lag\n",
    "    '''\n",
    "    pd = squareform( pdist( P[:,:2] ) )\n",
    "    N = pd.shape[0]\n",
    "    Z = list()\n",
    "    for i in range(N):\n",
    "        for j in range(i+1,N):\n",
    "            if( pd[i,j] >= h-bw )and( pd[i,j] <= h+bw ):\n",
    "                Z.append( ( P[i,2] - P[j,2] )**2.0 )\n",
    "    return np.sum( Z ) / ( 2.0 * len( Z ) )\n",
    " \n",
    "def SV( P, hs, bw ):\n",
    "    '''\n",
    "    Experimental variogram for a collection of lags\n",
    "    '''\n",
    "    sv = list()\n",
    "    for h in hs:\n",
    "        sv.append( SVh( P, h, bw ) )\n",
    "    sv = [ [ hs[i], sv[i] ] for i in range( len( hs ) ) if sv[i] > 0 ]\n",
    "    return np.array( sv ).T\n",
    " \n",
    "def C( P, h, bw ):\n",
    "    '''\n",
    "    Calculate the sill\n",
    "    '''\n",
    "    c0 = np.var( P[:,2] )\n",
    "    if h == 0:\n",
    "        return c0\n",
    "    return c0 - SVh( P, h, bw )"
   ]
  },
  {
   "cell_type": "code",
   "execution_count": 241,
   "metadata": {},
   "outputs": [
    {
     "data": {
      "text/plain": [
       "43200.0"
      ]
     },
     "execution_count": 241,
     "metadata": {},
     "output_type": "execute_result"
    }
   ],
   "source": [
    "86400/2.0"
   ]
  },
  {
   "cell_type": "code",
   "execution_count": 238,
   "metadata": {},
   "outputs": [
    {
     "data": {
      "text/plain": [
       "array([  604800,  1209600,  1814400,  2419200,  3024000,  3628800,\n",
       "        4233600,  4838400,  5443200,  6048000,  6652800,  7257600,\n",
       "        7862400,  8467200,  9072000,  9676800, 10281600, 10886400,\n",
       "       11491200, 12096000, 12700800, 13305600, 13910400, 14515200, 15120000])"
      ]
     },
     "execution_count": 238,
     "metadata": {},
     "output_type": "execute_result"
    }
   ],
   "source": [
    "lags"
   ]
  },
  {
   "cell_type": "code",
   "execution_count": 250,
   "metadata": {},
   "outputs": [
    {
     "name": "stdout",
     "output_type": "stream",
     "text": [
      "[   86400.   129600.   172800.   216000.   259200.   302400.   345600.\n",
      "   388800.   432000.   475200.   518400.   561600.   604800.   648000.\n",
      "   691200.   734400.   777600.   820800.   864000.   907200.   950400.\n",
      "   993600.  1036800.  1080000.  1123200.  1166400.  1209600.  1252800.]\n"
     ]
    }
   ],
   "source": [
    "lags = np.arange(86400, 86400*15, 86400/2.0)\n",
    "print(lags)"
   ]
  },
  {
   "cell_type": "code",
   "execution_count": 249,
   "metadata": {},
   "outputs": [
    {
     "name": "stderr",
     "output_type": "stream",
     "text": [
      "/home/kriete/.virtualenvs/cie5703/lib/python3.5/site-packages/ipykernel_launcher.py:12: RuntimeWarning: invalid value encountered in double_scalars\n",
      "  if sys.path[0] == '':\n"
     ]
    },
    {
     "data": {
      "text/plain": [
       "[<matplotlib.lines.Line2D at 0x7fe99a56c198>]"
      ]
     },
     "execution_count": 249,
     "metadata": {},
     "output_type": "execute_result"
    },
    {
     "data": {
      "image/png": "[encoded data removed]",
      "text/plain": [
       "<matplotlib.figure.Figure at 0x7fe99a6444e0>"
      ]
     },
     "metadata": {},
     "output_type": "display_data"
    }
   ],
   "source": [
    "sv = SV( data, lags, 10000 )\n",
    "plt.plot( sv[0], sv[1], '.-' )"
   ]
  },
  {
   "cell_type": "code",
   "execution_count": null,
   "metadata": {},
   "outputs": [],
   "source": []
  }
 ],
 "metadata": {
  "kernelspec": {
   "display_name": "Python 3",
   "language": "python",
   "name": "python3"
  },
  "language_info": {
   "codemirror_mode": {
    "name": "ipython",
    "version": 3
   },
   "file_extension": ".py",
   "mimetype": "text/x-python",
   "name": "python",
   "nbconvert_exporter": "python",
   "pygments_lexer": "ipython3",
   "version": "3.5.3"
  }
 },
 "nbformat": 4,
 "nbformat_minor": 2
}
