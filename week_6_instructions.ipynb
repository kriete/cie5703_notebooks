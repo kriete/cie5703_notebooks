{
 "cells": [
  {
   "cell_type": "markdown",
   "metadata": {},
   "source": [
    "# CIE 5703 Week 6 - Assignment workflow "
   ]
  },
  {
   "cell_type": "markdown",
   "metadata": {},
   "source": [
    "#### Requirements:\n",
    "\n",
    "Suggestion to use python with the libraries"
   ]
  },
  {
   "cell_type": "markdown",
   "metadata": {},
   "source": [
    "* pandas (for data reading and handling)\n",
    "* numpy\n",
    "* matplotlib (for plotting)\n",
    "* scipy (for GEV)"
   ]
  },
  {
   "cell_type": "markdown",
   "metadata": {},
   "source": [
    "For MATLAB there should be similar functions to read/convert the data and resample/accumulate the data.\n",
    "\n",
    "The following steps are described with python functions only."
   ]
  },
  {
   "cell_type": "markdown",
   "metadata": {},
   "source": [
    "### Detailed instructions for the data handling:\n",
    "\n",
    "1. Read in the dataset using pandas `read_csv`\n",
    "\n",
    "1. Format the timestamps to computer-read-able format (datetime) with pandas `to_datetime` and set index to the generated datetime\n",
    "\n",
    "1. Replace invalid data with `NaN`\n",
    "\n",
    "1. Create new dataframes to accumulate the rainfall data to hourly/daily/monthly timescales using pandas `resample` and `sum` and `mean`\n",
    "\n",
    "1. Create new dataframes with accumulated hourly data in the summer and winter periods by designing a logical mask (pandas `loc` and `index`)"
   ]
  },
  {
   "cell_type": "markdown",
   "metadata": {},
   "source": [
    "### Answering the assignments:\n",
    "1.\n",
    "* Compute mean, std and skew over 15 (Charlotte) or 10 (Rotterdam) dataset with pandas `mean`, `std`, `skew`\n",
    "* Plot the histogram using pandas `hist` (and use a logarithmic scale for better visibility) with and without zeros\n",
    "* Repeat with 24h and 1h dataset using mm/15(10)min timescale and compare\n",
    "\n",
    "2.\n",
    "* Index new columns by year and month of the monthly accumulated datasets (pandas `index`)\n",
    "* Plot the boxplots with pandas `boxplot` over accumulated rainfall column by month / year\n",
    "* Repeat on the hourly scale (for diurnal cycles): `boxplot` by hour and observe. Repeat this by neglecting data <1mm/h, <3mm/h, ... and observe\n",
    "* Do the same with summer / winter period\n",
    "* Select hourly events of >10mm/h and describe\n",
    "\n",
    "3.\n",
    "* Create numpy `linspace` with desired range\n",
    "* Use scipy `genextreme.fit` with POT values\n",
    "* Plot the scipy `genextreme.pdf` with fitted values\n",
    "* Add histogram to it (normalized) for visual inspection\n",
    "* Use `genextreme.ppf` with required return period and fitted values"
   ]
  },
  {
   "cell_type": "code",
   "execution_count": null,
   "metadata": {},
   "outputs": [],
   "source": []
  }
 ],
 "metadata": {
  "kernelspec": {
   "display_name": "Python 3",
   "language": "python",
   "name": "python3"
  },
  "language_info": {
   "codemirror_mode": {
    "name": "ipython",
    "version": 3
   },
   "file_extension": ".py",
   "mimetype": "text/x-python",
   "name": "python",
   "nbconvert_exporter": "python",
   "pygments_lexer": "ipython3",
   "version": "3.5.3"
  }
 },
 "nbformat": 4,
 "nbformat_minor": 2
}
