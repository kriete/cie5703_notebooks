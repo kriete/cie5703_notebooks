{
 "cells": [
  {
   "cell_type": "markdown",
   "metadata": {},
   "source": [
    "#### This is a python / R implementation for spatial analysis of radar rainfall fields.  All courtesy for the R code implementation goes to Marc Schleiss"
   ]
  },
  {
   "cell_type": "markdown",
   "metadata": {},
   "source": [
    "# Notes before running:"
   ]
  },
  {
   "cell_type": "markdown",
   "metadata": {},
   "source": [
    "o) make sure to have installed R properly\n",
    "\n",
    "o) install the python library rpy2\n",
    "\n",
    "- linux/mac users should be fine by just pip install rpy2 \n",
    "- for windows, consider using anaconda and install rpy2\n",
    "\n",
    "o) install the R libraries sp, gstat and intamap inside the R environment (best as sudo/adminstrator):\n",
    "\n",
    "```\n",
    "install.packages(\"sp\")\n",
    "install.packages(\"gstat\")\n",
    "install.packages(\"intamap\")\n",
    "```"
   ]
  },
  {
   "cell_type": "markdown",
   "metadata": {},
   "source": [
    "## Import python / R interface packages"
   ]
  },
  {
   "cell_type": "code",
   "execution_count": 1,
   "metadata": {},
   "outputs": [],
   "source": [
    "from rpy2.robjects.packages import importr\n",
    "from rpy2.robjects import r\n",
    "import pandas as pd\n",
    "import numpy as np\n",
    "import matplotlib.pyplot as plt\n",
    "\n",
    "%matplotlib inline"
   ]
  },
  {
   "cell_type": "markdown",
   "metadata": {},
   "source": [
    "## Inside the R environment import these geospatial packages"
   ]
  },
  {
   "cell_type": "code",
   "execution_count": 2,
   "metadata": {},
   "outputs": [],
   "source": [
    "sp = importr('sp')\n",
    "gstat = importr('gstat')\n",
    "intamap = importr('intamap')"
   ]
  },
  {
   "cell_type": "markdown",
   "metadata": {},
   "source": [
    "#### Set colors within the R environment"
   ]
  },
  {
   "cell_type": "code",
   "execution_count": 3,
   "metadata": {},
   "outputs": [
    {
     "data": {
      "text/plain": [
       "R object with classes: ('function',) mapped to:\n",
       "<SignatureTranslatedFunction - Python:0x7f845909bf48 / R:0x555578ec0730>"
      ]
     },
     "execution_count": 3,
     "metadata": {},
     "output_type": "execute_result"
    }
   ],
   "source": [
    "r('jet.colors  <- c(\"#00007F\",\"blue\",\"#007FFF\",\"cyan\",\"#7FFF7F\",\"yellow\",\"#FF7F00\",\"red\",\"#7F0000\")')\n",
    "r('col.palette <- colorRampPalette(jet.colors)')"
   ]
  },
  {
   "cell_type": "markdown",
   "metadata": {},
   "source": [
    "## Read pandas coordinates of the radar grid"
   ]
  },
  {
   "cell_type": "code",
   "execution_count": 4,
   "metadata": {},
   "outputs": [
    {
     "data": {
      "text/html": [
       "<div>\n",
       "<style>\n",
       "    .dataframe thead tr:only-child th {\n",
       "        text-align: right;\n",
       "    }\n",
       "\n",
       "    .dataframe thead th {\n",
       "        text-align: left;\n",
       "    }\n",
       "\n",
       "    .dataframe tbody tr th {\n",
       "        vertical-align: top;\n",
       "    }\n",
       "</style>\n",
       "<table border=\"1\" class=\"dataframe\">\n",
       "  <thead>\n",
       "    <tr style=\"text-align: right;\">\n",
       "      <th></th>\n",
       "      <th>x</th>\n",
       "      <th>y</th>\n",
       "    </tr>\n",
       "  </thead>\n",
       "  <tbody>\n",
       "    <tr>\n",
       "      <th>0</th>\n",
       "      <td>3649.014148</td>\n",
       "      <td>1745.990418</td>\n",
       "    </tr>\n",
       "    <tr>\n",
       "      <th>1</th>\n",
       "      <td>3650.003652</td>\n",
       "      <td>1745.945446</td>\n",
       "    </tr>\n",
       "    <tr>\n",
       "      <th>2</th>\n",
       "      <td>3651.030377</td>\n",
       "      <td>1746.036880</td>\n",
       "    </tr>\n",
       "    <tr>\n",
       "      <th>3</th>\n",
       "      <td>3652.020031</td>\n",
       "      <td>1745.992300</td>\n",
       "    </tr>\n",
       "    <tr>\n",
       "      <th>4</th>\n",
       "      <td>3653.009769</td>\n",
       "      <td>1745.947910</td>\n",
       "    </tr>\n",
       "  </tbody>\n",
       "</table>\n",
       "</div>"
      ],
      "text/plain": [
       "             x            y\n",
       "0  3649.014148  1745.990418\n",
       "1  3650.003652  1745.945446\n",
       "2  3651.030377  1746.036880\n",
       "3  3652.020031  1745.992300\n",
       "4  3653.009769  1745.947910"
      ]
     },
     "execution_count": 4,
     "metadata": {},
     "output_type": "execute_result"
    }
   ],
   "source": [
    "coords = pd.read_csv('./radar_xy.csv', header=None)\n",
    "coords.columns = ['x', 'y']\n",
    "coords.head()"
   ]
  },
  {
   "cell_type": "markdown",
   "metadata": {},
   "source": [
    "### Read the 24h dataset and (re)arange the pandas DataFrame"
   ]
  },
  {
   "cell_type": "code",
   "execution_count": 5,
   "metadata": {},
   "outputs": [
    {
     "data": {
      "text/html": [
       "<div>\n",
       "<style>\n",
       "    .dataframe thead tr:only-child th {\n",
       "        text-align: right;\n",
       "    }\n",
       "\n",
       "    .dataframe thead th {\n",
       "        text-align: left;\n",
       "    }\n",
       "\n",
       "    .dataframe tbody tr th {\n",
       "        vertical-align: top;\n",
       "    }\n",
       "</style>\n",
       "<table border=\"1\" class=\"dataframe\">\n",
       "  <thead>\n",
       "    <tr style=\"text-align: right;\">\n",
       "      <th></th>\n",
       "      <th>R</th>\n",
       "      <th>x</th>\n",
       "      <th>y</th>\n",
       "    </tr>\n",
       "  </thead>\n",
       "  <tbody>\n",
       "    <tr>\n",
       "      <th>0</th>\n",
       "      <td>3.35</td>\n",
       "      <td>3649.014148</td>\n",
       "      <td>1745.990418</td>\n",
       "    </tr>\n",
       "    <tr>\n",
       "      <th>1</th>\n",
       "      <td>5.65</td>\n",
       "      <td>3650.003652</td>\n",
       "      <td>1745.945446</td>\n",
       "    </tr>\n",
       "    <tr>\n",
       "      <th>2</th>\n",
       "      <td>5.51</td>\n",
       "      <td>3651.030377</td>\n",
       "      <td>1746.036880</td>\n",
       "    </tr>\n",
       "    <tr>\n",
       "      <th>3</th>\n",
       "      <td>6.24</td>\n",
       "      <td>3652.020031</td>\n",
       "      <td>1745.992300</td>\n",
       "    </tr>\n",
       "    <tr>\n",
       "      <th>4</th>\n",
       "      <td>7.64</td>\n",
       "      <td>3653.009769</td>\n",
       "      <td>1745.947910</td>\n",
       "    </tr>\n",
       "  </tbody>\n",
       "</table>\n",
       "</div>"
      ],
      "text/plain": [
       "      R            x            y\n",
       "0  3.35  3649.014148  1745.990418\n",
       "1  5.65  3650.003652  1745.945446\n",
       "2  5.51  3651.030377  1746.036880\n",
       "3  6.24  3652.020031  1745.992300\n",
       "4  7.64  3653.009769  1745.947910"
      ]
     },
     "execution_count": 5,
     "metadata": {},
     "output_type": "execute_result"
    }
   ],
   "source": [
    "rainfall = pd.read_csv('./radar_sent/radar_snap_24h_2011_08_05-00_00.csv', header=None)\n",
    "rainfall = pd.DataFrame(rainfall.iloc[0,5::])\n",
    "rainfall.index = np.arange(0,len(rainfall),1)\n",
    "rainfall.columns = ['R']\n",
    "rainfall['x'] = coords['x']\n",
    "rainfall['y'] = coords['y']\n",
    "rainfall.head()"
   ]
  },
  {
   "cell_type": "markdown",
   "metadata": {},
   "source": [
    "### Activate the pandas to R conversion interface"
   ]
  },
  {
   "cell_type": "code",
   "execution_count": 6,
   "metadata": {},
   "outputs": [],
   "source": [
    "from rpy2.robjects import pandas2ri\n",
    "pandas2ri.activate()"
   ]
  },
  {
   "cell_type": "markdown",
   "metadata": {},
   "source": [
    "### Select only gridpoints > 0mm rain (wet mask) and assign it in the R environment"
   ]
  },
  {
   "cell_type": "code",
   "execution_count": 7,
   "metadata": {},
   "outputs": [
    {
     "data": {
      "text/html": [
       "\n",
       "    <span>R/rpy2 DataFrame (19589 x 3)</span>\n",
       "    <table>\n",
       "      <thead>\n",
       "        <tr>\n",
       "        \n",
       "          <th>R</th>\n",
       "        \n",
       "          <th>x</th>\n",
       "        \n",
       "          <th>y</th>\n",
       "        \n",
       "        </tr>\n",
       "      </thead>\n",
       "      <tbody>\n",
       "      \n",
       "      <tr>\n",
       "      \n",
       "      <td>\n",
       "        3.350000\n",
       "      </td>\n",
       "      \n",
       "      <td>\n",
       "        3649.014148\n",
       "      </td>\n",
       "      \n",
       "      <td>\n",
       "        1745.990418\n",
       "      </td>\n",
       "      \n",
       "      </tr>\n",
       "      \n",
       "      <tr>\n",
       "      \n",
       "      <td>\n",
       "        5.650000\n",
       "      </td>\n",
       "      \n",
       "      <td>\n",
       "        3650.003652\n",
       "      </td>\n",
       "      \n",
       "      <td>\n",
       "        1745.945446\n",
       "      </td>\n",
       "      \n",
       "      </tr>\n",
       "      \n",
       "      <tr>\n",
       "      \n",
       "      <td>\n",
       "        5.510000\n",
       "      </td>\n",
       "      \n",
       "      <td>\n",
       "        3651.030377\n",
       "      </td>\n",
       "      \n",
       "      <td>\n",
       "        1746.036880\n",
       "      </td>\n",
       "      \n",
       "      </tr>\n",
       "      \n",
       "      </tbody>\n",
       "    </table>\n",
       "    "
      ],
      "text/plain": [
       "R object with classes: ('data.frame',) mapped to:\n",
       "<DataFrame - Python:0x7f845a465fc8 / R:0x555578a41360>\n",
       "[FloatVector, FloatVector, FloatVector]\n",
       "  R: <class 'rpy2.robjects.vectors.FloatVector'>\n",
       "  R object with classes: ('numeric',) mapped to:\n",
       "<FloatVector - Python:0x7f845a4555c8 / R:0x555579f0a420>\n",
       "[3.350000, 5.650000, 5.510000, 6.240000, ..., 44.480000, 41.030000, 50.760000, 45.730000]\n",
       "  x: <class 'rpy2.robjects.vectors.FloatVector'>\n",
       "  R object with classes: ('numeric',) mapped to:\n",
       "<FloatVector - Python:0x7f84590951c8 / R:0x555579d9f460>\n",
       "[3649.014148, 3650.003652, 3651.030377, 3652.020031, ..., 3784.953201, 3785.974909, 3786.996698, 3788.018570]\n",
       "  y: <class 'rpy2.robjects.vectors.FloatVector'>\n",
       "  R object with classes: ('numeric',) mapped to:\n",
       "<FloatVector - Python:0x7f8459096b48 / R:0x555579d52ba0>\n",
       "[1745.990418, 1745.945446, 1746.036880, 1745.992300, ..., 1607.024285, 1606.999366, 1606.974642, 1606.950113]"
      ]
     },
     "execution_count": 7,
     "metadata": {},
     "output_type": "execute_result"
    }
   ],
   "source": [
    "mask = rainfall.R>0\n",
    "rainfall = rainfall[mask]\n",
    "\n",
    "r_df = pandas2ri.py2ri(rainfall)\n",
    "r.assign('mydata', r_df)"
   ]
  },
  {
   "cell_type": "markdown",
   "metadata": {},
   "source": [
    "### Transform dataset in R to geospatial dataset"
   ]
  },
  {
   "cell_type": "code",
   "execution_count": 8,
   "metadata": {},
   "outputs": [
    {
     "data": {
      "text/plain": [
       "R object with classes: ('formula',) mapped to:\n",
       "<RObject - Python:0x7f8459b79148 / R:0x555578cdced0>"
      ]
     },
     "execution_count": 8,
     "metadata": {},
     "output_type": "execute_result"
    }
   ],
   "source": [
    "r('''\n",
    "mydata <- data.frame(mydata)\n",
    "coordinates(mydata) <- ~x+y\n",
    "''')"
   ]
  },
  {
   "cell_type": "markdown",
   "metadata": {},
   "source": [
    "### Bypass plot R map"
   ]
  },
  {
   "cell_type": "code",
   "execution_count": 10,
   "metadata": {},
   "outputs": [
    {
     "data": {
      "text/plain": [
       "array([1], dtype=int32)"
      ]
     },
     "execution_count": 10,
     "metadata": {},
     "output_type": "execute_result"
    }
   ],
   "source": [
    "r('''\n",
    "RAD24 <- read.table(\"./radar_sent/radar_snap_24h_2011_08_05-00_00.csv\",sep=\",\",colClasses=\"numeric\")\n",
    "RAD24 <- as.numeric(as.vector(RAD24))\n",
    "RAD24 <- RAD24[6:length(RAD24)]\n",
    "png(\"map_24h.png\",height=900,width=900)\n",
    "ncuts <- 20\n",
    "cuts <- seq(min(RAD24,na.rm=TRUE),max(RAD24,na.rm=TRUE),length=ncuts)\n",
    "print(spplot(mydata[\"R\"],xlab=\"East [m]\",ylab=\"North [m]\",key.space=\"right\",cuts=cuts,region=TRUE,col.regions=col.palette(ncuts),main=\"Rainfall [mm]\",scales=list(draw=TRUE)))\n",
    "dev.off()\n",
    "''')"
   ]
  },
  {
   "cell_type": "markdown",
   "metadata": {},
   "source": [
    "### Generate a isotropic variogram (2km separated lags, max 100km)"
   ]
  },
  {
   "cell_type": "code",
   "execution_count": 11,
   "metadata": {},
   "outputs": [],
   "source": [
    "p_myiso = r('myiso <- variogram(R~1,mydata,width=2,cutoff=100)')"
   ]
  },
  {
   "cell_type": "code",
   "execution_count": 12,
   "metadata": {
    "scrolled": true
   },
   "outputs": [
    {
     "data": {
      "text/html": [
       "<div>\n",
       "<style>\n",
       "    .dataframe thead tr:only-child th {\n",
       "        text-align: right;\n",
       "    }\n",
       "\n",
       "    .dataframe thead th {\n",
       "        text-align: left;\n",
       "    }\n",
       "\n",
       "    .dataframe tbody tr th {\n",
       "        vertical-align: top;\n",
       "    }\n",
       "</style>\n",
       "<table border=\"1\" class=\"dataframe\">\n",
       "  <thead>\n",
       "    <tr style=\"text-align: right;\">\n",
       "      <th></th>\n",
       "      <th>np</th>\n",
       "      <th>dist</th>\n",
       "      <th>gamma</th>\n",
       "      <th>dir.hor</th>\n",
       "      <th>dir.ver</th>\n",
       "      <th>id</th>\n",
       "    </tr>\n",
       "  </thead>\n",
       "  <tbody>\n",
       "    <tr>\n",
       "      <th>1</th>\n",
       "      <td>97340.0</td>\n",
       "      <td>1.361011</td>\n",
       "      <td>21.909125</td>\n",
       "      <td>0.0</td>\n",
       "      <td>0.0</td>\n",
       "      <td>var1</td>\n",
       "    </tr>\n",
       "    <tr>\n",
       "      <th>2</th>\n",
       "      <td>342089.0</td>\n",
       "      <td>2.980286</td>\n",
       "      <td>59.871361</td>\n",
       "      <td>0.0</td>\n",
       "      <td>0.0</td>\n",
       "      <td>var1</td>\n",
       "    </tr>\n",
       "    <tr>\n",
       "      <th>3</th>\n",
       "      <td>599568.0</td>\n",
       "      <td>4.979613</td>\n",
       "      <td>105.459092</td>\n",
       "      <td>0.0</td>\n",
       "      <td>0.0</td>\n",
       "      <td>var1</td>\n",
       "    </tr>\n",
       "    <tr>\n",
       "      <th>4</th>\n",
       "      <td>781415.0</td>\n",
       "      <td>6.968800</td>\n",
       "      <td>147.173973</td>\n",
       "      <td>0.0</td>\n",
       "      <td>0.0</td>\n",
       "      <td>var1</td>\n",
       "    </tr>\n",
       "    <tr>\n",
       "      <th>5</th>\n",
       "      <td>1041462.0</td>\n",
       "      <td>8.972910</td>\n",
       "      <td>183.165594</td>\n",
       "      <td>0.0</td>\n",
       "      <td>0.0</td>\n",
       "      <td>var1</td>\n",
       "    </tr>\n",
       "  </tbody>\n",
       "</table>\n",
       "</div>"
      ],
      "text/plain": [
       "          np      dist       gamma  dir.hor  dir.ver    id\n",
       "1    97340.0  1.361011   21.909125      0.0      0.0  var1\n",
       "2   342089.0  2.980286   59.871361      0.0      0.0  var1\n",
       "3   599568.0  4.979613  105.459092      0.0      0.0  var1\n",
       "4   781415.0  6.968800  147.173973      0.0      0.0  var1\n",
       "5  1041462.0  8.972910  183.165594      0.0      0.0  var1"
      ]
     },
     "execution_count": 12,
     "metadata": {},
     "output_type": "execute_result"
    }
   ],
   "source": [
    "p_myiso.head()"
   ]
  },
  {
   "cell_type": "code",
   "execution_count": 13,
   "metadata": {},
   "outputs": [
    {
     "data": {
      "text/plain": [
       "[<matplotlib.lines.Line2D at 0x7f849542ccf8>]"
      ]
     },
     "execution_count": 13,
     "metadata": {},
     "output_type": "execute_result"
    },
    {
     "data": {
      "image/png": "[encoded data removed]",
      "text/plain": [
       "<matplotlib.figure.Figure at 0x7f845909acc0>"
      ]
     },
     "metadata": {},
     "output_type": "display_data"
    }
   ],
   "source": [
    "plt.plot(p_myiso['dist'], p_myiso['gamma'], '-o')"
   ]
  },
  {
   "cell_type": "markdown",
   "metadata": {},
   "source": [
    "### Generate and save the 2D variogram map"
   ]
  },
  {
   "cell_type": "code",
   "execution_count": 14,
   "metadata": {},
   "outputs": [
    {
     "data": {
      "text/plain": [
       "array([1], dtype=int32)"
      ]
     },
     "execution_count": 14,
     "metadata": {},
     "output_type": "execute_result"
    }
   ],
   "source": [
    "p_myiso_map = r('myisomap <- variogram(R~1,mydata,width=2,cutoff=50,map=TRUE)')\n",
    "\n",
    "r('''\n",
    "png(\"myvariogram_map_24h.png\",height=600,width=600)\n",
    "print(plot(myisomap))\n",
    "dev.off()\n",
    "''')"
   ]
  },
  {
   "cell_type": "markdown",
   "metadata": {},
   "source": [
    "### Investigate the (an)isotropy of the dataset"
   ]
  },
  {
   "cell_type": "markdown",
   "metadata": {},
   "source": [
    "#### Only possible with up to 1499 values. Therefore we sort the rainfall values descendingly and assign the sorted dataset to the R environment."
   ]
  },
  {
   "cell_type": "code",
   "execution_count": 15,
   "metadata": {},
   "outputs": [
    {
     "data": {
      "text/plain": [
       "R object with classes: ('formula',) mapped to:\n",
       "<RObject - Python:0x7f84456f00c8 / R:0x5555844db630>"
      ]
     },
     "execution_count": 15,
     "metadata": {},
     "output_type": "execute_result"
    }
   ],
   "source": [
    "rain_sorted = rainfall.sort_values('R', ascending=False)\n",
    "rain_sorted = rain_sorted.iloc[0:1499]\n",
    "rs_df = pandas2ri.py2ri(rain_sorted)\n",
    "r.assign('data_sorted', rs_df)\n",
    "r('''\n",
    "data_sorted <- data.frame(data_sorted)\n",
    "coordinates(data_sorted) <- ~x+y\n",
    "''')"
   ]
  },
  {
   "cell_type": "markdown",
   "metadata": {},
   "source": [
    "#### Returns the direction of the minumum variablity clockwise from North and the anisotropy ratio"
   ]
  },
  {
   "cell_type": "code",
   "execution_count": 16,
   "metadata": {},
   "outputs": [
    {
     "data": {
      "text/plain": [
       "array([ 99.95886126,   0.78840942])"
      ]
     },
     "execution_count": 16,
     "metadata": {},
     "output_type": "execute_result"
    }
   ],
   "source": [
    "r('''\n",
    "hat.anis <- estimateAnisotropy(data_sorted,\"R\")\n",
    "anis <- c(90-hat.anis$direction,1/hat.anis$ratio)\n",
    "''')"
   ]
  },
  {
   "cell_type": "markdown",
   "metadata": {},
   "source": [
    "### Compute directional variograms with anisotropy direction"
   ]
  },
  {
   "cell_type": "code",
   "execution_count": 17,
   "metadata": {},
   "outputs": [
    {
     "data": {
      "text/plain": [
       "[<matplotlib.lines.Line2D at 0x7f84457bdba8>]"
      ]
     },
     "execution_count": 17,
     "metadata": {},
     "output_type": "execute_result"
    },
    {
     "data": {
      "image/png": "[encoded data removed]",
      "text/plain": [
       "<matplotlib.figure.Figure at 0x7f8459b8a4a8>"
      ]
     },
     "metadata": {},
     "output_type": "display_data"
    }
   ],
   "source": [
    "dir_var = r('directional_variograms <- variogram(R~1,mydata,width=2,cutoff=100,alpha=c(99.9,189.9),tol.hor=5)')\n",
    "\n",
    "dir_1 = dir_var['dir.hor']==99.9\n",
    "plt.figure()\n",
    "plt.subplot(121)\n",
    "plt.plot(dir_var.dist[dir_1], dir_var.gamma[dir_1])\n",
    "plt.subplot(122)\n",
    "plt.plot(dir_var.dist[~dir_1], dir_var.gamma[~dir_1])"
   ]
  },
  {
   "cell_type": "markdown",
   "metadata": {},
   "source": [
    "### Fit initial spherical variogram to isotropic variogram"
   ]
  },
  {
   "cell_type": "code",
   "execution_count": 18,
   "metadata": {},
   "outputs": [
    {
     "name": "stdout",
     "output_type": "stream",
     "text": [
      "  model       psill      range  kappa  ang1  ang2  ang3  anis1  anis2\n",
      "1   Nug    0.000000   0.000000    0.0   0.0   0.0   0.0    1.0    1.0\n",
      "2   Sph  669.925474  49.911368    0.5   0.0   0.0   0.0    1.0    1.0\n"
     ]
    }
   ],
   "source": [
    "r('initial_vario_sph <- vgm(psill=500,model=\"Sph\",range=40,nugget=0)')\n",
    "sph_fitted = r('fitted_vario_sph <- fit.variogram(myiso,initial_vario_sph)')\n",
    "print(sph_fitted)"
   ]
  },
  {
   "cell_type": "markdown",
   "metadata": {},
   "source": [
    "#### Save image of fitted variogram"
   ]
  },
  {
   "cell_type": "code",
   "execution_count": 19,
   "metadata": {},
   "outputs": [
    {
     "data": {
      "text/plain": [
       "array([1], dtype=int32)"
      ]
     },
     "execution_count": 19,
     "metadata": {},
     "output_type": "execute_result"
    }
   ],
   "source": [
    "r('''\n",
    "png(\"fitted_isotropic_variogram_sph_24h.png\",height=600,width=900)\n",
    "print(plot(myiso,fitted_vario_sph))\n",
    "dev.off()\n",
    "''')"
   ]
  },
  {
   "cell_type": "markdown",
   "metadata": {},
   "source": [
    "##### fitted range"
   ]
  },
  {
   "cell_type": "code",
   "execution_count": 20,
   "metadata": {},
   "outputs": [
    {
     "data": {
      "text/plain": [
       "array([ 49.91136764])"
      ]
     },
     "execution_count": 20,
     "metadata": {},
     "output_type": "execute_result"
    }
   ],
   "source": [
    "r('range  <- fitted_vario_sph$range[2]')"
   ]
  },
  {
   "cell_type": "markdown",
   "metadata": {},
   "source": [
    "##### fitted nugget"
   ]
  },
  {
   "cell_type": "code",
   "execution_count": 21,
   "metadata": {},
   "outputs": [
    {
     "data": {
      "text/plain": [
       "array([ 0.])"
      ]
     },
     "execution_count": 21,
     "metadata": {},
     "output_type": "execute_result"
    }
   ],
   "source": [
    "r('nugget <- fitted_vario_sph$psill[1]')"
   ]
  },
  {
   "cell_type": "markdown",
   "metadata": {},
   "source": [
    "##### fitted sill"
   ]
  },
  {
   "cell_type": "code",
   "execution_count": 22,
   "metadata": {},
   "outputs": [
    {
     "data": {
      "text/plain": [
       "array([ 669.9254743])"
      ]
     },
     "execution_count": 22,
     "metadata": {},
     "output_type": "execute_result"
    }
   ],
   "source": [
    "r('sill   <- sum(fitted_vario_sph$psill)')"
   ]
  },
  {
   "cell_type": "markdown",
   "metadata": {},
   "source": [
    "##### sum of squared errors"
   ]
  },
  {
   "cell_type": "code",
   "execution_count": 23,
   "metadata": {},
   "outputs": [
    {
     "data": {
      "text/plain": [
       "array([  2.04400622e+08])"
      ]
     },
     "execution_count": 23,
     "metadata": {},
     "output_type": "execute_result"
    }
   ],
   "source": [
    "r('SSErr_sph <- attributes(fitted_vario_sph)$SSErr')"
   ]
  },
  {
   "cell_type": "markdown",
   "metadata": {},
   "source": [
    "### Fit exponential model"
   ]
  },
  {
   "cell_type": "code",
   "execution_count": 24,
   "metadata": {},
   "outputs": [],
   "source": [
    "r('initial_vario_exp <- vgm(psill=500,model=\"Exp\",range=40/3,nugget=0)')\n",
    "exp_fitted = r('fitted_vario_exp <- fit.variogram(myiso,initial_vario_exp)')"
   ]
  },
  {
   "cell_type": "markdown",
   "metadata": {},
   "source": [
    "##### sum of squared errors"
   ]
  },
  {
   "cell_type": "code",
   "execution_count": 25,
   "metadata": {},
   "outputs": [
    {
     "data": {
      "text/plain": [
       "array([  4.90458050e+08])"
      ]
     },
     "execution_count": 25,
     "metadata": {},
     "output_type": "execute_result"
    }
   ],
   "source": [
    "r('SSErr_exp  <- attributes(fitted_vario_exp)$SSErr')"
   ]
  },
  {
   "cell_type": "markdown",
   "metadata": {},
   "source": [
    "#### Save image"
   ]
  },
  {
   "cell_type": "code",
   "execution_count": 26,
   "metadata": {},
   "outputs": [
    {
     "data": {
      "text/plain": [
       "array([1], dtype=int32)"
      ]
     },
     "execution_count": 26,
     "metadata": {},
     "output_type": "execute_result"
    }
   ],
   "source": [
    "r('''\n",
    "png(\"fitted_isotropic_variogram_exp_24h.png\",height=600,width=900)\n",
    "print(plot(myiso,fitted_vario_exp))\n",
    "dev.off()\n",
    "''')"
   ]
  },
  {
   "cell_type": "markdown",
   "metadata": {},
   "source": [
    "# Repeat everything with 15 minute and 3h field(s)"
   ]
  },
  {
   "cell_type": "code",
   "execution_count": 27,
   "metadata": {},
   "outputs": [],
   "source": [
    "rain_15_min_1 = pd.read_csv('./radar_sent/radar_snap_2011_08_01-00_00.csv', header=None)\n",
    "rain_15_min_1 = pd.DataFrame(rain_15_min_1.iloc[0,5::])\n",
    "rain_15_min_1.index = np.arange(0,len(rain_15_min_1),1)\n",
    "rain_15_min_1.columns = ['R']\n",
    "rain_15_min_1['x'] = coords['x']\n",
    "rain_15_min_1['y'] = coords['y']\n",
    "\n",
    "rain_15_min_2 = pd.read_csv('./radar_sent/radar_snap_2011_08_05-16_00.csv', header=None)\n",
    "rain_15_min_2 = pd.DataFrame(rain_15_min_2.iloc[0,5::])\n",
    "rain_15_min_2.index = np.arange(0,len(rain_15_min_2),1)\n",
    "rain_15_min_2.columns = ['R']\n",
    "rain_15_min_2['x'] = coords['x']\n",
    "rain_15_min_2['y'] = coords['y']\n",
    "\n",
    "rain_3h = pd.read_csv('./radar_sent/radar_snap_3h_2011_08_05-15_00.csv', header=None)\n",
    "rain_3h = pd.DataFrame(rain_3h.iloc[0,5::])\n",
    "rain_3h.index = np.arange(0,len(rain_3h),1)\n",
    "rain_3h.columns = ['R']\n",
    "rain_3h['x'] = coords['x']\n",
    "rain_3h['y'] = coords['y']"
   ]
  },
  {
   "cell_type": "code",
   "execution_count": 28,
   "metadata": {},
   "outputs": [
    {
     "data": {
      "text/html": [
       "\n",
       "    <span>R/rpy2 DataFrame (13715 x 3)</span>\n",
       "    <table>\n",
       "      <thead>\n",
       "        <tr>\n",
       "        \n",
       "          <th>R</th>\n",
       "        \n",
       "          <th>x</th>\n",
       "        \n",
       "          <th>y</th>\n",
       "        \n",
       "        </tr>\n",
       "      </thead>\n",
       "      <tbody>\n",
       "      \n",
       "      <tr>\n",
       "      \n",
       "      <td>\n",
       "        3.120000\n",
       "      </td>\n",
       "      \n",
       "      <td>\n",
       "        3649.014148\n",
       "      </td>\n",
       "      \n",
       "      <td>\n",
       "        1745.990418\n",
       "      </td>\n",
       "      \n",
       "      </tr>\n",
       "      \n",
       "      <tr>\n",
       "      \n",
       "      <td>\n",
       "        4.220000\n",
       "      </td>\n",
       "      \n",
       "      <td>\n",
       "        3650.003652\n",
       "      </td>\n",
       "      \n",
       "      <td>\n",
       "        1745.945446\n",
       "      </td>\n",
       "      \n",
       "      </tr>\n",
       "      \n",
       "      <tr>\n",
       "      \n",
       "      <td>\n",
       "        5.050000\n",
       "      </td>\n",
       "      \n",
       "      <td>\n",
       "        3651.030377\n",
       "      </td>\n",
       "      \n",
       "      <td>\n",
       "        1746.036880\n",
       "      </td>\n",
       "      \n",
       "      </tr>\n",
       "      \n",
       "      </tbody>\n",
       "    </table>\n",
       "    "
      ],
      "text/plain": [
       "R object with classes: ('data.frame',) mapped to:\n",
       "<DataFrame - Python:0x7f84454d1548 / R:0x5555869ed688>\n",
       "[FloatVector, FloatVector, FloatVector]\n",
       "  R: <class 'rpy2.robjects.vectors.FloatVector'>\n",
       "  R object with classes: ('numeric',) mapped to:\n",
       "<FloatVector - Python:0x7f8445743148 / R:0x555582b50f60>\n",
       "[3.120000, 4.220000, 5.050000, 4.250000, ..., 1.290000, 0.240000, 0.050000, 0.010000]\n",
       "  x: <class 'rpy2.robjects.vectors.FloatVector'>\n",
       "  R object with classes: ('numeric',) mapped to:\n",
       "<FloatVector - Python:0x7f8445743e08 / R:0x5555831b1e50>\n",
       "[3649.014148, 3650.003652, 3651.030377, 3652.020031, ..., 3784.953201, 3785.974909, 3786.996698, 3788.018570]\n",
       "  y: <class 'rpy2.robjects.vectors.FloatVector'>\n",
       "  R object with classes: ('numeric',) mapped to:\n",
       "<FloatVector - Python:0x7f844575f188 / R:0x555582b88570>\n",
       "[1745.990418, 1745.945446, 1746.036880, 1745.992300, ..., 1607.024285, 1606.999366, 1606.974642, 1606.950113]"
      ]
     },
     "execution_count": 28,
     "metadata": {},
     "output_type": "execute_result"
    }
   ],
   "source": [
    "mask = rain_15_min_1.R>0\n",
    "rain_15_min_1 = rain_15_min_1[mask]\n",
    "r_df_15_1 = pandas2ri.py2ri(rain_15_min_1)\n",
    "r.assign('mydata_15_1', r_df_15_1)\n",
    "\n",
    "mask = rain_15_min_2.R>0\n",
    "rain_15_min_2 = rain_15_min_2[mask]\n",
    "r_df_15_2 = pandas2ri.py2ri(rain_15_min_2)\n",
    "r.assign('mydata_15_2', r_df_15_2)\n",
    "\n",
    "mask = rain_3h.R>0\n",
    "rain_3h = rain_3h[mask]\n",
    "r_df_3h = pandas2ri.py2ri(rain_3h)\n",
    "r.assign('mydata_3h', r_df_3h)"
   ]
  },
  {
   "cell_type": "code",
   "execution_count": 29,
   "metadata": {},
   "outputs": [],
   "source": [
    "r('''\n",
    "mydata_15_1 <- data.frame(mydata_15_1)\n",
    "coordinates(mydata_15_1) <- ~x+y\n",
    "''')\n",
    "p_myiso_1 = r('myiso_15_1 <- variogram(R~1,mydata_15_1,width=2,cutoff=100)')\n",
    "\n",
    "r('''\n",
    "mydata_15_2 <- data.frame(mydata_15_2)\n",
    "coordinates(mydata_15_2) <- ~x+y\n",
    "''')\n",
    "p_myiso_2 = r('myiso_15_2 <- variogram(R~1,mydata_15_2,width=2,cutoff=100)')\n",
    "\n",
    "r('''\n",
    "mydata_3h <- data.frame(mydata_3h)\n",
    "coordinates(mydata_3h) <- ~x+y\n",
    "''')\n",
    "p_myiso_3 = r('myiso_3h <- variogram(R~1,mydata_3h,width=2,cutoff=100)')"
   ]
  },
  {
   "cell_type": "code",
   "execution_count": 30,
   "metadata": {},
   "outputs": [
    {
     "name": "stdout",
     "output_type": "stream",
     "text": [
      "         np      dist      gamma  dir.hor  dir.ver    id\n",
      "1   33608.0  1.355468   2.536012      0.0      0.0  var1\n",
      "2  113786.0  2.970968   6.378655      0.0      0.0  var1\n",
      "3  190011.0  4.974815  11.195021      0.0      0.0  var1\n",
      "4  234194.0  6.960236  14.600749      0.0      0.0  var1\n",
      "5  303104.0  8.968250  17.308080      0.0      0.0  var1\n",
      "         np      dist      gamma  dir.hor  dir.ver    id\n",
      "1   24348.0  1.347210   2.311395      0.0      0.0  var1\n",
      "2   85229.0  2.979932   5.878041      0.0      0.0  var1\n",
      "3  139734.0  4.976117   9.704100      0.0      0.0  var1\n",
      "4  177768.0  6.963034  11.939585      0.0      0.0  var1\n",
      "5  228038.0  8.974290  12.970817      0.0      0.0  var1\n",
      "         np      dist       gamma  dir.hor  dir.ver    id\n",
      "1   65588.0  1.355036   14.184884      0.0      0.0  var1\n",
      "2  228370.0  2.979035   40.795332      0.0      0.0  var1\n",
      "3  388611.0  4.978376   75.172640      0.0      0.0  var1\n",
      "4  500936.0  6.967707  111.636063      0.0      0.0  var1\n",
      "5  659905.0  8.974731  145.101123      0.0      0.0  var1\n"
     ]
    }
   ],
   "source": [
    "print(p_myiso_1.head())\n",
    "print(p_myiso_2.head())\n",
    "print(p_myiso_3.head())"
   ]
  },
  {
   "cell_type": "markdown",
   "metadata": {},
   "source": [
    "##### Bypass plot R map"
   ]
  },
  {
   "cell_type": "code",
   "execution_count": 31,
   "metadata": {},
   "outputs": [
    {
     "data": {
      "text/plain": [
       "array([1], dtype=int32)"
      ]
     },
     "execution_count": 31,
     "metadata": {},
     "output_type": "execute_result"
    }
   ],
   "source": [
    "r('''\n",
    "RAD24 <- read.table(\"./radar_sent/radar_snap_2011_08_01-00_00.csv\",sep=\",\",colClasses=\"numeric\")\n",
    "RAD24 <- as.numeric(as.vector(RAD24))\n",
    "RAD24 <- RAD24[6:length(RAD24)]\n",
    "png(\"map_15_1.png\",height=900,width=900)\n",
    "ncuts <- 20\n",
    "cuts <- seq(min(RAD24,na.rm=TRUE),max(RAD24,na.rm=TRUE),length=ncuts)\n",
    "print(spplot(mydata_15_1[\"R\"],xlab=\"East [m]\",ylab=\"North [m]\",key.space=\"right\",cuts=cuts,region=TRUE,col.regions=col.palette(ncuts),main=\"Rainfall [mm]\",scales=list(draw=TRUE)))\n",
    "dev.off()\n",
    "\n",
    "RAD24 <- read.table(\"./radar_sent/radar_snap_2011_08_05-16_00.csv\",sep=\",\",colClasses=\"numeric\")\n",
    "RAD24 <- as.numeric(as.vector(RAD24))\n",
    "RAD24 <- RAD24[6:length(RAD24)]\n",
    "png(\"map_15_2.png\",height=900,width=900)\n",
    "ncuts <- 20\n",
    "cuts <- seq(min(RAD24,na.rm=TRUE),max(RAD24,na.rm=TRUE),length=ncuts)\n",
    "print(spplot(mydata_15_2[\"R\"],xlab=\"East [m]\",ylab=\"North [m]\",key.space=\"right\",cuts=cuts,region=TRUE,col.regions=col.palette(ncuts),main=\"Rainfall [mm]\",scales=list(draw=TRUE)))\n",
    "dev.off()\n",
    "\n",
    "RAD24 <- read.table(\"./radar_sent/radar_snap_3h_2011_08_05-15_00.csv\",sep=\",\",colClasses=\"numeric\")\n",
    "RAD24 <- as.numeric(as.vector(RAD24))\n",
    "RAD24 <- RAD24[6:length(RAD24)]\n",
    "png(\"map_3h.png\",height=900,width=900)\n",
    "ncuts <- 20\n",
    "cuts <- seq(min(RAD24,na.rm=TRUE),max(RAD24,na.rm=TRUE),length=ncuts)\n",
    "print(spplot(mydata_3h[\"R\"],xlab=\"East [m]\",ylab=\"North [m]\",key.space=\"right\",cuts=cuts,region=TRUE,col.regions=col.palette(ncuts),main=\"Rainfall [mm]\",scales=list(draw=TRUE)))\n",
    "dev.off()\n",
    "''')"
   ]
  },
  {
   "cell_type": "markdown",
   "metadata": {},
   "source": [
    "##### Isotropic variograms"
   ]
  },
  {
   "cell_type": "code",
   "execution_count": 32,
   "metadata": {},
   "outputs": [
    {
     "data": {
      "text/plain": [
       "<matplotlib.legend.Legend at 0x7f843f0f0ba8>"
      ]
     },
     "execution_count": 32,
     "metadata": {},
     "output_type": "execute_result"
    },
    {
     "data": {
      "image/png": "[encoded data removed]",
      "text/plain": [
       "<matplotlib.figure.Figure at 0x7f844565fba8>"
      ]
     },
     "metadata": {},
     "output_type": "display_data"
    },
    {
     "data": {
      "image/png": "[encoded data removed]",
      "text/plain": [
       "<matplotlib.figure.Figure at 0x7f843f0d60f0>"
      ]
     },
     "metadata": {},
     "output_type": "display_data"
    }
   ],
   "source": [
    "plt.plot(p_myiso_1['dist'], p_myiso_1['gamma'], '-o')\n",
    "plt.plot(p_myiso_2['dist'], p_myiso_2['gamma'], '-o')\n",
    "plt.legend(['08-01 00:00', '08-05 16:00'])\n",
    "plt.figure()\n",
    "plt.plot(p_myiso_3['dist'], p_myiso_3['gamma'], '-o')\n",
    "plt.legend(['08-05 3h accum'])"
   ]
  },
  {
   "cell_type": "markdown",
   "metadata": {},
   "source": [
    "##### Plot R variogram map"
   ]
  },
  {
   "cell_type": "code",
   "execution_count": 33,
   "metadata": {},
   "outputs": [
    {
     "data": {
      "text/plain": [
       "array([1], dtype=int32)"
      ]
     },
     "execution_count": 33,
     "metadata": {},
     "output_type": "execute_result"
    }
   ],
   "source": [
    "r('''\n",
    "myiso_15_1_map <- variogram(R~1,mydata_15_1,width=2,cutoff=50,map=TRUE)\n",
    "png(\"myvariogram_map_15_1.png\",height=600,width=600)\n",
    "print(plot(myiso_15_1_map))\n",
    "dev.off()\n",
    "\n",
    "myiso_15_2_map <- variogram(R~1,mydata_15_2,width=2,cutoff=50,map=TRUE)\n",
    "png(\"myvariogram_map_15_2.png\",height=600,width=600)\n",
    "print(plot(myiso_15_2_map))\n",
    "dev.off()\n",
    "\n",
    "myiso_3h_map <- variogram(R~1,mydata_3h,width=2,cutoff=50,map=TRUE)\n",
    "png(\"myvariogram_map_3h.png\",height=600,width=600)\n",
    "print(plot(myiso_3h_map))\n",
    "dev.off()\n",
    "''')"
   ]
  },
  {
   "cell_type": "markdown",
   "metadata": {},
   "source": [
    "### (An)isotropy and directional variogram"
   ]
  },
  {
   "cell_type": "markdown",
   "metadata": {},
   "source": [
    "###### Sort and convert to R spatial dataframe"
   ]
  },
  {
   "cell_type": "code",
   "execution_count": 34,
   "metadata": {},
   "outputs": [
    {
     "data": {
      "text/plain": [
       "R object with classes: ('formula',) mapped to:\n",
       "<RObject - Python:0x7f844538db88 / R:0x555583fa92f0>"
      ]
     },
     "execution_count": 34,
     "metadata": {},
     "output_type": "execute_result"
    }
   ],
   "source": [
    "rain_sorted_15_1 = rain_15_min_1.sort_values('R', ascending=False)\n",
    "rain_sorted_15_1 = rain_sorted_15_1.iloc[0:1499]\n",
    "rs_df_15_1 = pandas2ri.py2ri(rain_sorted_15_1)\n",
    "r.assign('data_sorted_15_1', rs_df_15_1)\n",
    "\n",
    "rain_sorted_15_2 = rain_15_min_2.sort_values('R', ascending=False)\n",
    "rain_sorted_15_2 = rain_sorted_15_2.iloc[0:1499]\n",
    "rs_df_15_2 = pandas2ri.py2ri(rain_sorted_15_2)\n",
    "r.assign('data_sorted_15_2', rs_df_15_2)\n",
    "\n",
    "rain_sorted_3h = rain_3h.sort_values('R', ascending=False)\n",
    "rain_sorted_3h = rain_sorted_3h.iloc[0:1499]\n",
    "rs_df_3h = pandas2ri.py2ri(rain_sorted_3h)\n",
    "r.assign('data_sorted_3h', rs_df_3h)\n",
    "\n",
    "r('''\n",
    "data_sorted_15_1 <- data.frame(data_sorted_15_1)\n",
    "coordinates(data_sorted_15_1) <- ~x+y\n",
    "\n",
    "data_sorted_15_2 <- data.frame(data_sorted_15_2)\n",
    "coordinates(data_sorted_15_2) <- ~x+y\n",
    "\n",
    "data_sorted_3h <- data.frame(data_sorted_3h)\n",
    "coordinates(data_sorted_3h) <- ~x+y\n",
    "''')"
   ]
  },
  {
   "cell_type": "code",
   "execution_count": 35,
   "metadata": {},
   "outputs": [
    {
     "name": "stdout",
     "output_type": "stream",
     "text": [
      "[ 83.66255086   0.62384561]\n",
      "[ 119.45351537    0.8361199 ]\n",
      "[ 130.27650209    0.7719027 ]\n"
     ]
    }
   ],
   "source": [
    "r('hat.anis <- estimateAnisotropy(data_sorted_15_1,\"R\")')\n",
    "anis_15_1 = r('anis <- c(90-hat.anis$direction,1/hat.anis$ratio)')\n",
    "print(anis_15_1)\n",
    "\n",
    "r('hat.anis <- estimateAnisotropy(data_sorted_15_2,\"R\")')\n",
    "anis_15_2 = r('anis <- c(90-hat.anis$direction,1/hat.anis$ratio)')\n",
    "print(anis_15_2)\n",
    "\n",
    "r('hat.anis <- estimateAnisotropy(data_sorted_3h,\"R\")')\n",
    "anis_3h = r('anis <- c(90-hat.anis$direction,1/hat.anis$ratio)')\n",
    "print(anis_3h)"
   ]
  },
  {
   "cell_type": "code",
   "execution_count": 36,
   "metadata": {},
   "outputs": [],
   "source": [
    "dir_var_15_1 = r('directional_variograms_15_1 <- variogram(R~1,mydata_15_1,width=2,cutoff=100,alpha=c(83.6,173.6),tol.hor=5)')\n",
    "\n",
    "dir_var_15_2 = r('directional_variograms_15_2 <- variogram(R~1,mydata_15_2,width=2,cutoff=100,alpha=c(119.45,209.45),tol.hor=5)')\n",
    "\n",
    "dir_var_3h = r('directional_variograms_3h <- variogram(R~1,mydata_3h,width=2,cutoff=100,alpha=c(130.27,220.27),tol.hor=5)')"
   ]
  },
  {
   "cell_type": "code",
   "execution_count": 37,
   "metadata": {},
   "outputs": [
    {
     "data": {
      "text/plain": [
       "[<matplotlib.lines.Line2D at 0x7f844575db38>]"
      ]
     },
     "execution_count": 37,
     "metadata": {},
     "output_type": "execute_result"
    },
    {
     "data": {
      "image/png": "[encoded data removed]",
      "text/plain": [
       "<matplotlib.figure.Figure at 0x7f84590a61d0>"
      ]
     },
     "metadata": {},
     "output_type": "display_data"
    },
    {
     "data": {
      "image/png": "[encoded data removed]",
      "text/plain": [
       "<matplotlib.figure.Figure at 0x7f843f0807f0>"
      ]
     },
     "metadata": {},
     "output_type": "display_data"
    },
    {
     "data": {
      "image/png": "[encoded data removed]",
      "text/plain": [
       "<matplotlib.figure.Figure at 0x7f8445746b70>"
      ]
     },
     "metadata": {},
     "output_type": "display_data"
    }
   ],
   "source": [
    "dir_var_15_1['dir.hor'] = np.around(dir_var_15_1['dir.hor'], decimals=2)\n",
    "dir_15_1 = dir_var_15_1['dir.hor']==83.6\n",
    "plt.figure()\n",
    "plt.subplot(121)\n",
    "plt.plot(dir_var_15_1.dist[dir_15_1], dir_var_15_1.gamma[dir_15_1], '-o')\n",
    "plt.subplot(122)\n",
    "plt.plot(dir_var_15_1.dist[~dir_15_1], dir_var_15_1.gamma[~dir_15_1], '-o')\n",
    "\n",
    "dir_var_15_2['dir.hor'] = np.around(dir_var_15_2['dir.hor'], decimals=2)\n",
    "dir_15_2 = dir_var_15_2['dir.hor']==119.45\n",
    "plt.figure()\n",
    "plt.subplot(121)\n",
    "plt.plot(dir_var_15_2.dist[dir_15_2], dir_var_15_2.gamma[dir_15_2], '-o')\n",
    "plt.subplot(122)\n",
    "plt.plot(dir_var_15_2.dist[~dir_15_2], dir_var_15_2.gamma[~dir_15_2], '-o')\n",
    "\n",
    "dir_var_3h['dir.hor'] = np.around(dir_var_3h['dir.hor'], decimals=2)\n",
    "dir_3h = dir_var_3h['dir.hor']==130.27\n",
    "plt.figure()\n",
    "plt.subplot(121)\n",
    "plt.plot(dir_var_3h.dist[dir_3h], dir_var_3h.gamma[dir_3h], '-o')\n",
    "plt.subplot(122)\n",
    "plt.plot(dir_var_3h.dist[~dir_3h], dir_var_3h.gamma[~dir_3h], '-o')"
   ]
  },
  {
   "cell_type": "markdown",
   "metadata": {},
   "source": [
    "###### Spherical"
   ]
  },
  {
   "cell_type": "code",
   "execution_count": 38,
   "metadata": {},
   "outputs": [
    {
     "data": {
      "text/plain": [
       "array([1], dtype=int32)"
      ]
     },
     "execution_count": 38,
     "metadata": {},
     "output_type": "execute_result"
    }
   ],
   "source": [
    "r('''\n",
    "initial_vario_sph_15_1 <- vgm(psill=30,model=\"Sph\",range=60,nugget=0)\n",
    "initial_vario_sph_15_2 <- vgm(psill=17,model=\"Sph\",range=30,nugget=0)\n",
    "initial_vario_sph_3h <- vgm(psill=500,model=\"Sph\",range=40,nugget=0)\n",
    "''')\n",
    "\n",
    "fitted_vario_sph_15_1 = r('fitted_vario_sph_15_1 <- fit.variogram(myiso_15_1,initial_vario_sph_15_1)')\n",
    "sph_15_1_sserr = r('SSErr_sph <- attributes(fitted_vario_sph_15_1)$SSErr')\n",
    "fitted_vario_sph_15_2 = r('fitted_vario_sph_15_2 <- fit.variogram(myiso_15_2,initial_vario_sph_15_2)')\n",
    "sph_15_2_sserr = r('SSErr_sph <- attributes(fitted_vario_sph_15_2)$SSErr')\n",
    "fitted_vario_sph_3h = r('fitted_vario_sph_3h <- fit.variogram(myiso_3h,initial_vario_sph_3h)')\n",
    "sph_3h_sserr = r('SSErr_sph <- attributes(fitted_vario_sph_3h)$SSErr')\n",
    "\n",
    "r('''\n",
    "png(\"fitted_isotropic_variogram_sph_15_1.png\",height=600,width=900)\n",
    "print(plot(myiso_15_1,fitted_vario_sph_15_1))\n",
    "dev.off()\n",
    "\n",
    "png(\"fitted_isotropic_variogram_sph_15_2.png\",height=600,width=900)\n",
    "print(plot(myiso_15_2,fitted_vario_sph_15_2))\n",
    "dev.off()\n",
    "\n",
    "png(\"fitted_isotropic_variogram_sph_3h.png\",height=600,width=900)\n",
    "print(plot(myiso_3h,fitted_vario_sph_3h))\n",
    "dev.off()\n",
    "''')"
   ]
  },
  {
   "cell_type": "code",
   "execution_count": 39,
   "metadata": {},
   "outputs": [
    {
     "name": "stdout",
     "output_type": "stream",
     "text": [
      "15_1:\n",
      "23.1581237031\n",
      "0.78541751434\n",
      "29.2084341386\n",
      "[ 123120.99092959]\n",
      "----------\n",
      "15_2:\n",
      "13.8724209244\n",
      "0.401086236999\n",
      "16.5198303643\n",
      "[ 57848.87675276]\n",
      "----------\n",
      "3h:\n",
      "45.4466079568\n",
      "0.0\n",
      "547.693707627\n",
      "[  2.31745945e+08]\n"
     ]
    }
   ],
   "source": [
    "print('15_1:')\n",
    "print(fitted_vario_sph_15_1.range[2])\n",
    "print(fitted_vario_sph_15_1.psill[1])\n",
    "print(sum(fitted_vario_sph_15_1.psill))\n",
    "print(sph_15_1_sserr)\n",
    "print('----------')\n",
    "print('15_2:')\n",
    "print(fitted_vario_sph_15_2.range[2])\n",
    "print(fitted_vario_sph_15_2.psill[1])\n",
    "print(sum(fitted_vario_sph_15_2.psill))\n",
    "print(sph_15_2_sserr)\n",
    "print('----------')\n",
    "print('3h:')\n",
    "print(fitted_vario_sph_3h.range[2])\n",
    "print(fitted_vario_sph_3h.psill[1])\n",
    "print(sum(fitted_vario_sph_3h.psill))\n",
    "print(sph_3h_sserr)"
   ]
  },
  {
   "cell_type": "markdown",
   "metadata": {},
   "source": [
    "###### Exponential"
   ]
  },
  {
   "cell_type": "code",
   "execution_count": 40,
   "metadata": {},
   "outputs": [
    {
     "data": {
      "text/plain": [
       "array([1], dtype=int32)"
      ]
     },
     "execution_count": 40,
     "metadata": {},
     "output_type": "execute_result"
    }
   ],
   "source": [
    "r('''\n",
    "initial_vario_exp_15_1 <- vgm(psill=30,model=\"Exp\",range=60/3,nugget=0)\n",
    "initial_vario_exp_15_2 <- vgm(psill=17,model=\"Exp\",range=30/3,nugget=0)\n",
    "initial_vario_exp_3h <- vgm(psill=500,model=\"Exp\",range=40/3,nugget=0)\n",
    "''')\n",
    "\n",
    "fitted_vario_exp_15_1 = r('fitted_vario_exp_15_1 <- fit.variogram(myiso_15_1,initial_vario_exp_15_1)')\n",
    "exp_15_1_sserr = r('SSErr_exp  <- attributes(fitted_vario_exp_15_1)$SSErr')\n",
    "fitted_vario_exp_15_2 = r('fitted_vario_exp_15_2 <- fit.variogram(myiso_15_2,initial_vario_exp_15_2)')\n",
    "exp_15_2_sserr = r('SSErr_exp  <- attributes(fitted_vario_exp_15_2)$SSErr')\n",
    "fitted_vario_exp_3h = r('fitted_vario_exp_3h <- fit.variogram(myiso_3h,initial_vario_exp_3h)')\n",
    "exp_3h_sserr = r('SSErr_exp  <- attributes(fitted_vario_exp_3h)$SSErr')\n",
    "\n",
    "r('''\n",
    "png(\"fitted_isotropic_variogram_exp_15_1.png\",height=600,width=900)\n",
    "print(plot(myiso_15_1,fitted_vario_exp_15_1))\n",
    "dev.off()\n",
    "\n",
    "png(\"fitted_isotropic_variogram_exp_15_2.png\",height=600,width=900)\n",
    "print(plot(myiso_15_2,fitted_vario_exp_15_2))\n",
    "dev.off()\n",
    "\n",
    "png(\"fitted_isotropic_variogram_exp_3h.png\",height=600,width=900)\n",
    "print(plot(myiso_3h,fitted_vario_exp_3h))\n",
    "dev.off()\n",
    "''')"
   ]
  },
  {
   "cell_type": "code",
   "execution_count": 118,
   "metadata": {},
   "outputs": [
    {
     "name": "stdout",
     "output_type": "stream",
     "text": [
      "15_1:\n",
      "12.3022002461\n",
      "0.0\n",
      "32.2598035006\n",
      "[ 48061.39231105]\n",
      "----------\n",
      "15_2:\n",
      "7.24519545738\n",
      "0.0\n",
      "17.9740506319\n",
      "[ 31392.24809654]\n",
      "----------\n",
      "3h:\n",
      "25.3162234424\n",
      "0.0\n",
      "609.570912865\n",
      "[  4.66813130e+08]\n"
     ]
    }
   ],
   "source": [
    "print('15_1:')\n",
    "print(fitted_vario_exp_15_1.range[2])\n",
    "print(fitted_vario_exp_15_1.psill[1])\n",
    "print(sum(fitted_vario_exp_15_1.psill))\n",
    "print(exp_15_1_sserr)\n",
    "print('----------')\n",
    "print('15_2:')\n",
    "print(fitted_vario_exp_15_2.range[2])\n",
    "print(fitted_vario_exp_15_2.psill[1])\n",
    "print(sum(fitted_vario_exp_15_2.psill))\n",
    "print(exp_15_2_sserr)\n",
    "print('----------')\n",
    "print('3h:')\n",
    "print(fitted_vario_exp_3h.range[2])\n",
    "print(fitted_vario_exp_3h.psill[1])\n",
    "print(sum(fitted_vario_exp_3h.psill))\n",
    "print(exp_3h_sserr)"
   ]
  },
  {
   "cell_type": "markdown",
   "metadata": {},
   "source": [
    "### Gauge distances"
   ]
  },
  {
   "cell_type": "code",
   "execution_count": 41,
   "metadata": {},
   "outputs": [
    {
     "data": {
      "text/html": [
       "<div>\n",
       "<style>\n",
       "    .dataframe thead tr:only-child th {\n",
       "        text-align: right;\n",
       "    }\n",
       "\n",
       "    .dataframe thead th {\n",
       "        text-align: left;\n",
       "    }\n",
       "\n",
       "    .dataframe tbody tr th {\n",
       "        vertical-align: top;\n",
       "    }\n",
       "</style>\n",
       "<table border=\"1\" class=\"dataframe\">\n",
       "  <thead>\n",
       "    <tr style=\"text-align: right;\">\n",
       "      <th></th>\n",
       "      <th>x</th>\n",
       "      <th>y</th>\n",
       "    </tr>\n",
       "  </thead>\n",
       "  <tbody>\n",
       "    <tr>\n",
       "      <th>0</th>\n",
       "      <td>3725.185673</td>\n",
       "      <td>1695.147902</td>\n",
       "    </tr>\n",
       "    <tr>\n",
       "      <th>1</th>\n",
       "      <td>3717.603917</td>\n",
       "      <td>1695.218869</td>\n",
       "    </tr>\n",
       "    <tr>\n",
       "      <th>2</th>\n",
       "      <td>3720.152062</td>\n",
       "      <td>1689.603179</td>\n",
       "    </tr>\n",
       "    <tr>\n",
       "      <th>3</th>\n",
       "      <td>3714.862926</td>\n",
       "      <td>1677.178009</td>\n",
       "    </tr>\n",
       "    <tr>\n",
       "      <th>4</th>\n",
       "      <td>3714.552371</td>\n",
       "      <td>1687.396215</td>\n",
       "    </tr>\n",
       "  </tbody>\n",
       "</table>\n",
       "</div>"
      ],
      "text/plain": [
       "             x            y\n",
       "0  3725.185673  1695.147902\n",
       "1  3717.603917  1695.218869\n",
       "2  3720.152062  1689.603179\n",
       "3  3714.862926  1677.178009\n",
       "4  3714.552371  1687.396215"
      ]
     },
     "execution_count": 41,
     "metadata": {},
     "output_type": "execute_result"
    }
   ],
   "source": [
    "coords_gauges = pd.read_csv('./gauge_xy.csv', header=None)\n",
    "coords_gauges.columns = ['x', 'y']\n",
    "coords_gauges.head()"
   ]
  },
  {
   "cell_type": "code",
   "execution_count": 42,
   "metadata": {},
   "outputs": [],
   "source": [
    "from scipy.spatial.distance import pdist"
   ]
  },
  {
   "cell_type": "code",
   "execution_count": 50,
   "metadata": {
    "scrolled": true
   },
   "outputs": [
    {
     "data": {
      "text/plain": [
       "<matplotlib.text.Text at 0x7f843f06cb70>"
      ]
     },
     "execution_count": 50,
     "metadata": {},
     "output_type": "execute_result"
    },
    {
     "data": {
      "image/png": "[encoded data removed]",
      "text/plain": [
       "<matplotlib.figure.Figure at 0x7f843f13d630>"
      ]
     },
     "metadata": {},
     "output_type": "display_data"
    }
   ],
   "source": [
    "gauge_distances = pdist(coords_gauges)\n",
    "gauge_hist = plt.hist(gauge_distances,bins=100)\n",
    "plt.ylabel('N')\n",
    "plt.xlabel('km')"
   ]
  },
  {
   "cell_type": "code",
   "execution_count": null,
   "metadata": {},
   "outputs": [],
   "source": []
  }
 ],
 "metadata": {
  "kernelspec": {
   "display_name": "Python 3",
   "language": "python",
   "name": "python3"
  },
  "language_info": {
   "codemirror_mode": {
    "name": "ipython",
    "version": 3
   },
   "file_extension": ".py",
   "mimetype": "text/x-python",
   "name": "python",
   "nbconvert_exporter": "python",
   "pygments_lexer": "ipython3",
   "version": "3.5.3"
  }
 },
 "nbformat": 4,
 "nbformat_minor": 2
}
